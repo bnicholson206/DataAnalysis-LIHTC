{
 "cells": [
  {
   "cell_type": "markdown",
   "metadata": {},
   "source": [
    "# LIHTC: LOW INCOMING HOUSING TAX CREDIT, an analysis"
   ]
  },
  {
   "cell_type": "markdown",
   "metadata": {},
   "source": [
    "![lihtc](https://www.huduser.gov/portal/pdredge/images/pdr_edge/feat_art_06_16_14.jpg)"
   ]
  },
  {
   "cell_type": "markdown",
   "metadata": {},
   "source": [
    "# What is the Low Income Housing Tax Credit?"
   ]
  },
  {
   "cell_type": "markdown",
   "metadata": {},
   "source": [
    "With wages staying flat and housing prices rising, one of the major sources of economic inequality and public health concern is the issue of affordable housing."
   ]
  },
  {
   "cell_type": "markdown",
   "metadata": {},
   "source": [
    "Affordable housing in the US has been tackled in various ways in the past, with varying degrees of success and failure. Such as:\n",
    "- Charitable donations\n",
    "- The Housing Acts during FDR's New Deal\n",
    "- The Fair Housing acts\n",
    "- Section 8 Housing Vouchers"
   ]
  },
  {
   "cell_type": "markdown",
   "metadata": {},
   "source": [
    "But one of the less known, but more prevalent, programs is the Low Income Housing Tax Credit, or LIHTC."
   ]
  },
  {
   "cell_type": "markdown",
   "metadata": {},
   "source": [
    "The LIHTC provides funding for the development costs of low-income housing by allowing an investor (usually the partners of a partnership that owns the housing) to take a federal tax credit equal to a percentage (either 4% or 9%, for 10 years, depending on the credit type) of the cost incurred for development of the low-income units in a rental housing project."
   ]
  },
  {
   "cell_type": "markdown",
   "metadata": {},
   "source": [
    "As the maximum rent that can be charged is based upon the Area Median Income (\"AMI\"), LIHTC housing remains unaffordable to many low-income (<30% AMI) renters.\n",
    "\n",
    "The tax credits are more attractive than tax deductions as the credits provide a dollar-for-dollar reduction in a taxpayers federal income tax, whereas a tax deduction only provides a reduction in taxable income."
   ]
  },
  {
   "cell_type": "markdown",
   "metadata": {},
   "source": [
    "# How it works\n",
    "\n",
    "To take advantage of the LIHTC, a developer will either:\n",
    "- (i) propose a project to a state agency, seek and win a competitive allocation of tax credits\n",
    "- (ii) obtain approval and issuance of tax-exempt bonds to finance at least 50% of project cost, and then complete the project, certify its cost, and rent-up the project to low income tenants. Simultaneously, an investor will be found that will make a capital contribution to the partnership or limited liability company that owns the project in exchange for being allocated the entity's LIHTCs over a ten-year period. \n",
    "\n",
    "\n",
    "The amount of the credit will be based on:\n",
    "- (i) the amount of credits awarded to the project in the competition\n",
    "- (ii) the actual cost of the project\n",
    "- (iii) the tax credit rate announced by the IRS\n",
    "- (iv) the percentage of the project's units that are rented to low-income tenants. \n",
    "\n",
    "\n",
    "Failure to comply with the applicable rules, or a sale of the project or an ownership interest before the end of at least a 15-year period, can lead to recapture of credits previously taken, as well as the inability to take future credits."
   ]
  },
  {
   "cell_type": "markdown",
   "metadata": {},
   "source": [
    "### What is the objective of this project? \n",
    "\n",
    "The objective for this project is to explore the LIHTC dataset, get a better understanding of the program, and build a regressor to predict what the allocated amount for a project ought to be based off of various features in the dataset.\n",
    "\n",
    "We also might build a classifier to determine if a particular project qualifies for certain binary criteria. This depends on the quality of the data.\n",
    "\n"
   ]
  },
  {
   "cell_type": "markdown",
   "metadata": {},
   "source": [
    "#### Sources:\n",
    "\n",
    "- [Wikipedia article](https://en.wikipedia.org/wiki/Low-Income_Housing_Tax_Credit)\n",
    "- [Tax Reform Act of 1986](https://en.wikipedia.org/wiki/Tax_Reform_Act_of_1986)\n",
    "- [NYT - Opinion: A Tax Credit Worth Preserving](https://www.nytimes.com/2012/12/21/opinion/a-tax-credit-worth-preserving.html?_r=0)\n",
    "- [Tax Policy Center: What is the Low-Income Housing Tax Credit and how does it work?](https://www.taxpolicycenter.org/briefing-book/what-low-income-housing-tax-credit-and-how-does-it-work)\n",
    "- [Office Of Policy Development And Research (PD&R): Low-Income Housing Tax Credit LIHTC](https://www.huduser.gov/PORTAL/datasets/lihtc.html)\n",
    "- [Urban Institute: The Low-Income Housing Tax Credit](https://www.urban.org/sites/default/files/publication/98761/lithc_past_achievements_future_challenges_final_0.pdf)\n",
    "- [Omnibus Consolidations Appropriations Act of 2018](https://en.wikipedia.org/wiki/Consolidated_Appropriations_Act,_2018)\n",
    "- [Senate Bill 548](https://www.congress.gov/bill/115th-congress/senate-bill/548)"
   ]
  },
  {
   "cell_type": "markdown",
   "metadata": {},
   "source": [
    "## Tableau Analysis"
   ]
  },
  {
   "cell_type": "markdown",
   "metadata": {},
   "source": [
    "We looked at the data quickly by connecting to Tableau to quickly explore and gain some familiarity with the dataset."
   ]
  },
  {
   "cell_type": "markdown",
   "metadata": {},
   "source": [
    "[Used this method to embed Tableau dashboards](https://datawisesite.wordpress.com/2017/06/26/how-to-embed-tableau-in-jupyter-notebook/)"
   ]
  },
  {
   "cell_type": "code",
   "execution_count": 107,
   "metadata": {
    "scrolled": true
   },
   "outputs": [
    {
     "data": {
      "text/html": [
       "\n",
       "<div class='tableauPlaceholder' id='viz1625861790696' style='position: relative'><noscript><a href='#'><img alt='Low-Income Housing Tax Credit ' src='https:&#47;&#47;public.tableau.com&#47;static&#47;images&#47;Lo&#47;LowIncomeHousingTaxCredit&#47;Low-IncomeHousingTaxCredit&#47;1_rss.png' style='border: none' /></a></noscript><object class='tableauViz'  style='display:none;'><param name='host_url' value='https%3A%2F%2Fpublic.tableau.com%2F' /> <param name='embed_code_version' value='3' /> <param name='site_root' value='' /><param name='name' value='LowIncomeHousingTaxCredit&#47;Low-IncomeHousingTaxCredit' /><param name='tabs' value='no' /><param name='toolbar' value='yes' /><param name='static_image' value='https:&#47;&#47;public.tableau.com&#47;static&#47;images&#47;Lo&#47;LowIncomeHousingTaxCredit&#47;Low-IncomeHousingTaxCredit&#47;1.png' /> <param name='animate_transition' value='yes' /><param name='display_static_image' value='yes' /><param name='display_spinner' value='yes' /><param name='display_overlay' value='yes' /><param name='display_count' value='yes' /><param name='language' value='en-US' /></object></div>                <script type='text/javascript'>                    var divElement = document.getElementById('viz1625861790696');                    var vizElement = divElement.getElementsByTagName('object')[0];                    vizElement.style.width='1016px';vizElement.style.height='1191px';                    var scriptElement = document.createElement('script');                    scriptElement.src = 'https://public.tableau.com/javascripts/api/viz_v1.js';                    vizElement.parentNode.insertBefore(scriptElement, vizElement);                </script>"
      ],
      "text/plain": [
       "<IPython.core.display.HTML object>"
      ]
     },
     "metadata": {},
     "output_type": "display_data"
    }
   ],
   "source": [
    "%%HTML\n",
    "\n",
    "<div class='tableauPlaceholder' id='viz1625861790696' style='position: relative'><noscript><a href='#'><img alt='Low-Income Housing Tax Credit ' src='https:&#47;&#47;public.tableau.com&#47;static&#47;images&#47;Lo&#47;LowIncomeHousingTaxCredit&#47;Low-IncomeHousingTaxCredit&#47;1_rss.png' style='border: none' /></a></noscript><object class='tableauViz'  style='display:none;'><param name='host_url' value='https%3A%2F%2Fpublic.tableau.com%2F' /> <param name='embed_code_version' value='3' /> <param name='site_root' value='' /><param name='name' value='LowIncomeHousingTaxCredit&#47;Low-IncomeHousingTaxCredit' /><param name='tabs' value='no' /><param name='toolbar' value='yes' /><param name='static_image' value='https:&#47;&#47;public.tableau.com&#47;static&#47;images&#47;Lo&#47;LowIncomeHousingTaxCredit&#47;Low-IncomeHousingTaxCredit&#47;1.png' /> <param name='animate_transition' value='yes' /><param name='display_static_image' value='yes' /><param name='display_spinner' value='yes' /><param name='display_overlay' value='yes' /><param name='display_count' value='yes' /><param name='language' value='en-US' /></object></div>                <script type='text/javascript'>                    var divElement = document.getElementById('viz1625861790696');                    var vizElement = divElement.getElementsByTagName('object')[0];                    vizElement.style.width='1016px';vizElement.style.height='1191px';                    var scriptElement = document.createElement('script');                    scriptElement.src = 'https://public.tableau.com/javascripts/api/viz_v1.js';                    vizElement.parentNode.insertBefore(scriptElement, vizElement);                </script>"
   ]
  },
  {
   "cell_type": "markdown",
   "metadata": {},
   "source": [
    "# Initialize Packages"
   ]
  },
  {
   "cell_type": "markdown",
   "metadata": {},
   "source": [
    "### How should the problem be framed? \n",
    "\n",
    "We should use a regression algorithm as we are looking to predict whether amount allocated to a particular area."
   ]
  },
  {
   "cell_type": "code",
   "execution_count": 26,
   "metadata": {
    "collapsed": true
   },
   "outputs": [],
   "source": [
    "import pandas as pd\n",
    "import numpy as np\n",
    "\n",
    "import matplotlib.pyplot as plt\n",
    "%matplotlib inline\n",
    "import seaborn as sns"
   ]
  },
  {
   "cell_type": "markdown",
   "metadata": {},
   "source": [
    "# Load data"
   ]
  },
  {
   "cell_type": "code",
   "execution_count": 27,
   "metadata": {
    "collapsed": true
   },
   "outputs": [],
   "source": [
    "pd.set_option('display.max_rows', 20)"
   ]
  },
  {
   "cell_type": "code",
   "execution_count": 28,
   "metadata": {
    "collapsed": true
   },
   "outputs": [],
   "source": [
    "pathname = '/Users/blakenicholson/Documents/Personal/Coding/DataAnalysis-LIHTC/LIHTCPUB.CSV'"
   ]
  },
  {
   "cell_type": "code",
   "execution_count": 29,
   "metadata": {
    "collapsed": true
   },
   "outputs": [],
   "source": [
    "df = pd.read_csv(pathname, low_memory=False)"
   ]
  },
  {
   "cell_type": "code",
   "execution_count": 30,
   "metadata": {},
   "outputs": [
    {
     "data": {
      "text/plain": [
       "(49449, 75)"
      ]
     },
     "execution_count": 30,
     "metadata": {},
     "output_type": "execute_result"
    }
   ],
   "source": [
    "df.shape"
   ]
  },
  {
   "cell_type": "code",
   "execution_count": 31,
   "metadata": {},
   "outputs": [
    {
     "data": {
      "text/plain": [
       "Index(['hud_id', 'project', 'proj_add', 'proj_cty', 'proj_st', 'proj_zip',\n",
       "       'state_id', 'latitude', 'longitude', 'place1990', 'place2000',\n",
       "       'place2010', 'fips1990', 'fips2000', 'fips2010', 'st2010', 'cnty2010',\n",
       "       'scattered_site_cd', 'resyndication_cd', 'allocamt', 'n_units',\n",
       "       'li_units', 'n_0br', 'n_1br', 'n_2br', 'n_3br', 'n_4br', 'inc_ceil',\n",
       "       'low_ceil', 'ceilunit', 'yr_pis', 'yr_alloc', 'non_prof', 'basis',\n",
       "       'bond', 'mff_ra', 'fmha_514', 'fmha_515', 'fmha_538', 'home',\n",
       "       'home_amt', 'tcap', 'tcap_amt', 'cdbg', 'cdbg_amt', 'htf', 'htf_amt',\n",
       "       'fha', 'hopevi', 'hpvi_amt', 'tcep', 'tcep_amt', 'rad', 'qozf',\n",
       "       'qozf_amt', 'rentassist', 'trgt_pop', 'trgt_fam', 'trgt_eld',\n",
       "       'trgt_dis', 'trgt_hml', 'trgt_other', 'trgt_spc', 'type', 'credit',\n",
       "       'n_unitsr', 'li_unitr', 'metro', 'dda', 'qct', 'nonprog', 'nlm_reason',\n",
       "       'nlm_spc', 'datanote', 'record_stat'],\n",
       "      dtype='object')"
      ]
     },
     "execution_count": 31,
     "metadata": {},
     "output_type": "execute_result"
    }
   ],
   "source": [
    "df.columns"
   ]
  },
  {
   "cell_type": "markdown",
   "metadata": {},
   "source": [
    "Let's check out the first few rows."
   ]
  },
  {
   "cell_type": "code",
   "execution_count": 32,
   "metadata": {
    "scrolled": true
   },
   "outputs": [
    {
     "data": {
      "text/html": [
       "<div>\n",
       "<style scoped>\n",
       "    .dataframe tbody tr th:only-of-type {\n",
       "        vertical-align: middle;\n",
       "    }\n",
       "\n",
       "    .dataframe tbody tr th {\n",
       "        vertical-align: top;\n",
       "    }\n",
       "\n",
       "    .dataframe thead th {\n",
       "        text-align: right;\n",
       "    }\n",
       "</style>\n",
       "<table border=\"1\" class=\"dataframe\">\n",
       "  <thead>\n",
       "    <tr style=\"text-align: right;\">\n",
       "      <th></th>\n",
       "      <th>hud_id</th>\n",
       "      <th>project</th>\n",
       "      <th>proj_add</th>\n",
       "      <th>proj_cty</th>\n",
       "      <th>proj_st</th>\n",
       "      <th>proj_zip</th>\n",
       "      <th>state_id</th>\n",
       "      <th>latitude</th>\n",
       "      <th>longitude</th>\n",
       "      <th>place1990</th>\n",
       "      <th>...</th>\n",
       "      <th>n_unitsr</th>\n",
       "      <th>li_unitr</th>\n",
       "      <th>metro</th>\n",
       "      <th>dda</th>\n",
       "      <th>qct</th>\n",
       "      <th>nonprog</th>\n",
       "      <th>nlm_reason</th>\n",
       "      <th>nlm_spc</th>\n",
       "      <th>datanote</th>\n",
       "      <th>record_stat</th>\n",
       "    </tr>\n",
       "  </thead>\n",
       "  <tbody>\n",
       "    <tr>\n",
       "      <th>0</th>\n",
       "      <td>AKA0000X003</td>\n",
       "      <td>EAGLE RIDGE TOWNHOMES</td>\n",
       "      <td>1775 NORTH THUMA</td>\n",
       "      <td>PALMER</td>\n",
       "      <td>AK</td>\n",
       "      <td>99645</td>\n",
       "      <td>AK-05-23</td>\n",
       "      <td>61.587872</td>\n",
       "      <td>-149.099777</td>\n",
       "      <td>NaN</td>\n",
       "      <td>...</td>\n",
       "      <td>33.0</td>\n",
       "      <td>33.0</td>\n",
       "      <td>1.0</td>\n",
       "      <td>NaN</td>\n",
       "      <td>NaN</td>\n",
       "      <td>NaN</td>\n",
       "      <td>NaN</td>\n",
       "      <td>NaN</td>\n",
       "      <td>NaN</td>\n",
       "      <td>X</td>\n",
       "    </tr>\n",
       "    <tr>\n",
       "      <th>1</th>\n",
       "      <td>AKA0000X018</td>\n",
       "      <td>GATEWAY-SEWARD ASSOCIATES, LTD PTN</td>\n",
       "      <td>1810 PHOENIX ROAD</td>\n",
       "      <td>SEWARD</td>\n",
       "      <td>AK</td>\n",
       "      <td>99664</td>\n",
       "      <td>AK-99-99</td>\n",
       "      <td>60.125469</td>\n",
       "      <td>-149.446060</td>\n",
       "      <td>NaN</td>\n",
       "      <td>...</td>\n",
       "      <td>20.0</td>\n",
       "      <td>20.0</td>\n",
       "      <td>NaN</td>\n",
       "      <td>NaN</td>\n",
       "      <td>NaN</td>\n",
       "      <td>NaN</td>\n",
       "      <td>NaN</td>\n",
       "      <td>NaN</td>\n",
       "      <td>NaN</td>\n",
       "      <td>X</td>\n",
       "    </tr>\n",
       "    <tr>\n",
       "      <th>2</th>\n",
       "      <td>AKA0000X022</td>\n",
       "      <td>JUNEAU AFFORDABLE RENTALS, LLC</td>\n",
       "      <td>SCATTERED SITE</td>\n",
       "      <td>JUNEAU</td>\n",
       "      <td>AK</td>\n",
       "      <td>99801</td>\n",
       "      <td>AK-99-99</td>\n",
       "      <td>58.383499</td>\n",
       "      <td>-134.437698</td>\n",
       "      <td>NaN</td>\n",
       "      <td>...</td>\n",
       "      <td>25.0</td>\n",
       "      <td>25.0</td>\n",
       "      <td>NaN</td>\n",
       "      <td>NaN</td>\n",
       "      <td>NaN</td>\n",
       "      <td>NaN</td>\n",
       "      <td>NaN</td>\n",
       "      <td>NaN</td>\n",
       "      <td>NaN</td>\n",
       "      <td>U</td>\n",
       "    </tr>\n",
       "    <tr>\n",
       "      <th>3</th>\n",
       "      <td>AKA0000X024</td>\n",
       "      <td>MILL BAY TOWNHOMES, LLC</td>\n",
       "      <td>1223 MILL BAY ROAD</td>\n",
       "      <td>KODIAK</td>\n",
       "      <td>AK</td>\n",
       "      <td>99615</td>\n",
       "      <td>AK-99-99</td>\n",
       "      <td>57.796478</td>\n",
       "      <td>-152.392319</td>\n",
       "      <td>NaN</td>\n",
       "      <td>...</td>\n",
       "      <td>20.0</td>\n",
       "      <td>20.0</td>\n",
       "      <td>NaN</td>\n",
       "      <td>NaN</td>\n",
       "      <td>NaN</td>\n",
       "      <td>NaN</td>\n",
       "      <td>NaN</td>\n",
       "      <td>NaN</td>\n",
       "      <td>NaN</td>\n",
       "      <td>X</td>\n",
       "    </tr>\n",
       "    <tr>\n",
       "      <th>4</th>\n",
       "      <td>AKA0000X030</td>\n",
       "      <td>TURNAGAIN PLACE APTS</td>\n",
       "      <td>2708 COHO WAY</td>\n",
       "      <td>ANCHORAGE</td>\n",
       "      <td>AK</td>\n",
       "      <td>99517</td>\n",
       "      <td>AK-99-99</td>\n",
       "      <td>61.205101</td>\n",
       "      <td>-149.930298</td>\n",
       "      <td>NaN</td>\n",
       "      <td>...</td>\n",
       "      <td>29.0</td>\n",
       "      <td>29.0</td>\n",
       "      <td>NaN</td>\n",
       "      <td>NaN</td>\n",
       "      <td>NaN</td>\n",
       "      <td>NaN</td>\n",
       "      <td>NaN</td>\n",
       "      <td>NaN</td>\n",
       "      <td>NaN</td>\n",
       "      <td>U</td>\n",
       "    </tr>\n",
       "  </tbody>\n",
       "</table>\n",
       "<p>5 rows × 75 columns</p>\n",
       "</div>"
      ],
      "text/plain": [
       "        hud_id                             project            proj_add  \\\n",
       "0  AKA0000X003               EAGLE RIDGE TOWNHOMES    1775 NORTH THUMA   \n",
       "1  AKA0000X018  GATEWAY-SEWARD ASSOCIATES, LTD PTN   1810 PHOENIX ROAD   \n",
       "2  AKA0000X022      JUNEAU AFFORDABLE RENTALS, LLC      SCATTERED SITE   \n",
       "3  AKA0000X024             MILL BAY TOWNHOMES, LLC  1223 MILL BAY ROAD   \n",
       "4  AKA0000X030                TURNAGAIN PLACE APTS       2708 COHO WAY   \n",
       "\n",
       "    proj_cty proj_st proj_zip  state_id   latitude   longitude  place1990  \\\n",
       "0     PALMER      AK    99645  AK-05-23  61.587872 -149.099777        NaN   \n",
       "1     SEWARD      AK    99664  AK-99-99  60.125469 -149.446060        NaN   \n",
       "2     JUNEAU      AK    99801  AK-99-99  58.383499 -134.437698        NaN   \n",
       "3     KODIAK      AK    99615  AK-99-99  57.796478 -152.392319        NaN   \n",
       "4  ANCHORAGE      AK    99517  AK-99-99  61.205101 -149.930298        NaN   \n",
       "\n",
       "   ...  n_unitsr  li_unitr metro dda qct  nonprog  nlm_reason  nlm_spc  \\\n",
       "0  ...      33.0      33.0   1.0 NaN NaN      NaN         NaN      NaN   \n",
       "1  ...      20.0      20.0   NaN NaN NaN      NaN         NaN      NaN   \n",
       "2  ...      25.0      25.0   NaN NaN NaN      NaN         NaN      NaN   \n",
       "3  ...      20.0      20.0   NaN NaN NaN      NaN         NaN      NaN   \n",
       "4  ...      29.0      29.0   NaN NaN NaN      NaN         NaN      NaN   \n",
       "\n",
       "   datanote  record_stat  \n",
       "0       NaN            X  \n",
       "1       NaN            X  \n",
       "2       NaN            U  \n",
       "3       NaN            X  \n",
       "4       NaN            U  \n",
       "\n",
       "[5 rows x 75 columns]"
      ]
     },
     "execution_count": 32,
     "metadata": {},
     "output_type": "execute_result"
    }
   ],
   "source": [
    "df.head()"
   ]
  },
  {
   "cell_type": "code",
   "execution_count": 33,
   "metadata": {
    "scrolled": false
   },
   "outputs": [
    {
     "data": {
      "text/html": [
       "<div>\n",
       "<style scoped>\n",
       "    .dataframe tbody tr th:only-of-type {\n",
       "        vertical-align: middle;\n",
       "    }\n",
       "\n",
       "    .dataframe tbody tr th {\n",
       "        vertical-align: top;\n",
       "    }\n",
       "\n",
       "    .dataframe thead th {\n",
       "        text-align: right;\n",
       "    }\n",
       "</style>\n",
       "<table border=\"1\" class=\"dataframe\">\n",
       "  <thead>\n",
       "    <tr style=\"text-align: right;\">\n",
       "      <th></th>\n",
       "      <th>0</th>\n",
       "      <th>1</th>\n",
       "      <th>2</th>\n",
       "      <th>3</th>\n",
       "    </tr>\n",
       "  </thead>\n",
       "  <tbody>\n",
       "    <tr>\n",
       "      <th>hud_id</th>\n",
       "      <td>AKA0000X003</td>\n",
       "      <td>AKA0000X018</td>\n",
       "      <td>AKA0000X022</td>\n",
       "      <td>AKA0000X024</td>\n",
       "    </tr>\n",
       "    <tr>\n",
       "      <th>project</th>\n",
       "      <td>EAGLE RIDGE TOWNHOMES</td>\n",
       "      <td>GATEWAY-SEWARD ASSOCIATES, LTD PTN</td>\n",
       "      <td>JUNEAU AFFORDABLE RENTALS, LLC</td>\n",
       "      <td>MILL BAY TOWNHOMES, LLC</td>\n",
       "    </tr>\n",
       "    <tr>\n",
       "      <th>proj_add</th>\n",
       "      <td>1775 NORTH THUMA</td>\n",
       "      <td>1810 PHOENIX ROAD</td>\n",
       "      <td>SCATTERED SITE</td>\n",
       "      <td>1223 MILL BAY ROAD</td>\n",
       "    </tr>\n",
       "    <tr>\n",
       "      <th>proj_cty</th>\n",
       "      <td>PALMER</td>\n",
       "      <td>SEWARD</td>\n",
       "      <td>JUNEAU</td>\n",
       "      <td>KODIAK</td>\n",
       "    </tr>\n",
       "    <tr>\n",
       "      <th>proj_st</th>\n",
       "      <td>AK</td>\n",
       "      <td>AK</td>\n",
       "      <td>AK</td>\n",
       "      <td>AK</td>\n",
       "    </tr>\n",
       "    <tr>\n",
       "      <th>...</th>\n",
       "      <td>...</td>\n",
       "      <td>...</td>\n",
       "      <td>...</td>\n",
       "      <td>...</td>\n",
       "    </tr>\n",
       "    <tr>\n",
       "      <th>nonprog</th>\n",
       "      <td>NaN</td>\n",
       "      <td>NaN</td>\n",
       "      <td>NaN</td>\n",
       "      <td>NaN</td>\n",
       "    </tr>\n",
       "    <tr>\n",
       "      <th>nlm_reason</th>\n",
       "      <td>NaN</td>\n",
       "      <td>NaN</td>\n",
       "      <td>NaN</td>\n",
       "      <td>NaN</td>\n",
       "    </tr>\n",
       "    <tr>\n",
       "      <th>nlm_spc</th>\n",
       "      <td>NaN</td>\n",
       "      <td>NaN</td>\n",
       "      <td>NaN</td>\n",
       "      <td>NaN</td>\n",
       "    </tr>\n",
       "    <tr>\n",
       "      <th>datanote</th>\n",
       "      <td>NaN</td>\n",
       "      <td>NaN</td>\n",
       "      <td>NaN</td>\n",
       "      <td>NaN</td>\n",
       "    </tr>\n",
       "    <tr>\n",
       "      <th>record_stat</th>\n",
       "      <td>X</td>\n",
       "      <td>X</td>\n",
       "      <td>U</td>\n",
       "      <td>X</td>\n",
       "    </tr>\n",
       "  </tbody>\n",
       "</table>\n",
       "<p>75 rows × 4 columns</p>\n",
       "</div>"
      ],
      "text/plain": [
       "                                 0                                   1  \\\n",
       "hud_id                 AKA0000X003                         AKA0000X018   \n",
       "project      EAGLE RIDGE TOWNHOMES  GATEWAY-SEWARD ASSOCIATES, LTD PTN   \n",
       "proj_add          1775 NORTH THUMA                   1810 PHOENIX ROAD   \n",
       "proj_cty                    PALMER                              SEWARD   \n",
       "proj_st                         AK                                  AK   \n",
       "...                            ...                                 ...   \n",
       "nonprog                        NaN                                 NaN   \n",
       "nlm_reason                     NaN                                 NaN   \n",
       "nlm_spc                        NaN                                 NaN   \n",
       "datanote                       NaN                                 NaN   \n",
       "record_stat                      X                                   X   \n",
       "\n",
       "                                          2                        3  \n",
       "hud_id                          AKA0000X022              AKA0000X024  \n",
       "project      JUNEAU AFFORDABLE RENTALS, LLC  MILL BAY TOWNHOMES, LLC  \n",
       "proj_add                     SCATTERED SITE       1223 MILL BAY ROAD  \n",
       "proj_cty                             JUNEAU                   KODIAK  \n",
       "proj_st                                  AK                       AK  \n",
       "...                                     ...                      ...  \n",
       "nonprog                                 NaN                      NaN  \n",
       "nlm_reason                              NaN                      NaN  \n",
       "nlm_spc                                 NaN                      NaN  \n",
       "datanote                                NaN                      NaN  \n",
       "record_stat                               U                        X  \n",
       "\n",
       "[75 rows x 4 columns]"
      ]
     },
     "execution_count": 33,
     "metadata": {},
     "output_type": "execute_result"
    }
   ],
   "source": [
    "df[0:4].T"
   ]
  },
  {
   "cell_type": "code",
   "execution_count": 34,
   "metadata": {
    "scrolled": true
   },
   "outputs": [
    {
     "data": {
      "text/html": [
       "<div>\n",
       "<style scoped>\n",
       "    .dataframe tbody tr th:only-of-type {\n",
       "        vertical-align: middle;\n",
       "    }\n",
       "\n",
       "    .dataframe tbody tr th {\n",
       "        vertical-align: top;\n",
       "    }\n",
       "\n",
       "    .dataframe thead th {\n",
       "        text-align: right;\n",
       "    }\n",
       "</style>\n",
       "<table border=\"1\" class=\"dataframe\">\n",
       "  <thead>\n",
       "    <tr style=\"text-align: right;\">\n",
       "      <th></th>\n",
       "      <th>count</th>\n",
       "      <th>mean</th>\n",
       "      <th>std</th>\n",
       "      <th>min</th>\n",
       "      <th>25%</th>\n",
       "      <th>50%</th>\n",
       "      <th>75%</th>\n",
       "      <th>max</th>\n",
       "    </tr>\n",
       "  </thead>\n",
       "  <tbody>\n",
       "    <tr>\n",
       "      <th>latitude</th>\n",
       "      <td>47036.0</td>\n",
       "      <td>38.240306</td>\n",
       "      <td>4.975487</td>\n",
       "      <td>0.000000</td>\n",
       "      <td>34.811197</td>\n",
       "      <td>39.006252</td>\n",
       "      <td>41.532846</td>\n",
       "      <td>64.851646</td>\n",
       "    </tr>\n",
       "    <tr>\n",
       "      <th>longitude</th>\n",
       "      <td>47036.0</td>\n",
       "      <td>-90.888845</td>\n",
       "      <td>16.423087</td>\n",
       "      <td>-166.780594</td>\n",
       "      <td>-96.936663</td>\n",
       "      <td>-86.884270</td>\n",
       "      <td>-78.865175</td>\n",
       "      <td>170.220001</td>\n",
       "    </tr>\n",
       "    <tr>\n",
       "      <th>place1990</th>\n",
       "      <td>31804.0</td>\n",
       "      <td>1716.430135</td>\n",
       "      <td>1490.025700</td>\n",
       "      <td>3.000000</td>\n",
       "      <td>680.000000</td>\n",
       "      <td>1305.000000</td>\n",
       "      <td>2495.000000</td>\n",
       "      <td>9070.000000</td>\n",
       "    </tr>\n",
       "    <tr>\n",
       "      <th>place2000</th>\n",
       "      <td>38851.0</td>\n",
       "      <td>39167.335152</td>\n",
       "      <td>23037.168723</td>\n",
       "      <td>100.000000</td>\n",
       "      <td>19000.000000</td>\n",
       "      <td>40000.000000</td>\n",
       "      <td>56320.000000</td>\n",
       "      <td>89150.000000</td>\n",
       "    </tr>\n",
       "    <tr>\n",
       "      <th>place2010</th>\n",
       "      <td>46949.0</td>\n",
       "      <td>45958.198194</td>\n",
       "      <td>26780.984817</td>\n",
       "      <td>100.000000</td>\n",
       "      <td>23290.000000</td>\n",
       "      <td>47610.000000</td>\n",
       "      <td>64260.000000</td>\n",
       "      <td>99999.000000</td>\n",
       "    </tr>\n",
       "    <tr>\n",
       "      <th>...</th>\n",
       "      <td>...</td>\n",
       "      <td>...</td>\n",
       "      <td>...</td>\n",
       "      <td>...</td>\n",
       "      <td>...</td>\n",
       "      <td>...</td>\n",
       "      <td>...</td>\n",
       "      <td>...</td>\n",
       "    </tr>\n",
       "    <tr>\n",
       "      <th>metro</th>\n",
       "      <td>48585.0</td>\n",
       "      <td>1.234805</td>\n",
       "      <td>0.535527</td>\n",
       "      <td>0.000000</td>\n",
       "      <td>1.000000</td>\n",
       "      <td>1.000000</td>\n",
       "      <td>1.000000</td>\n",
       "      <td>3.000000</td>\n",
       "    </tr>\n",
       "    <tr>\n",
       "      <th>dda</th>\n",
       "      <td>16061.0</td>\n",
       "      <td>0.354399</td>\n",
       "      <td>0.733675</td>\n",
       "      <td>0.000000</td>\n",
       "      <td>0.000000</td>\n",
       "      <td>0.000000</td>\n",
       "      <td>0.000000</td>\n",
       "      <td>4.000000</td>\n",
       "    </tr>\n",
       "    <tr>\n",
       "      <th>qct</th>\n",
       "      <td>43671.0</td>\n",
       "      <td>1.788372</td>\n",
       "      <td>0.408467</td>\n",
       "      <td>1.000000</td>\n",
       "      <td>2.000000</td>\n",
       "      <td>2.000000</td>\n",
       "      <td>2.000000</td>\n",
       "      <td>2.000000</td>\n",
       "    </tr>\n",
       "    <tr>\n",
       "      <th>nonprog</th>\n",
       "      <td>8460.0</td>\n",
       "      <td>1.000000</td>\n",
       "      <td>0.000000</td>\n",
       "      <td>1.000000</td>\n",
       "      <td>1.000000</td>\n",
       "      <td>1.000000</td>\n",
       "      <td>1.000000</td>\n",
       "      <td>1.000000</td>\n",
       "    </tr>\n",
       "    <tr>\n",
       "      <th>nlm_reason</th>\n",
       "      <td>684.0</td>\n",
       "      <td>1.653509</td>\n",
       "      <td>0.866559</td>\n",
       "      <td>1.000000</td>\n",
       "      <td>1.000000</td>\n",
       "      <td>1.000000</td>\n",
       "      <td>3.000000</td>\n",
       "      <td>3.000000</td>\n",
       "    </tr>\n",
       "  </tbody>\n",
       "</table>\n",
       "<p>61 rows × 8 columns</p>\n",
       "</div>"
      ],
      "text/plain": [
       "              count          mean           std         min           25%  \\\n",
       "latitude    47036.0     38.240306      4.975487    0.000000     34.811197   \n",
       "longitude   47036.0    -90.888845     16.423087 -166.780594    -96.936663   \n",
       "place1990   31804.0   1716.430135   1490.025700    3.000000    680.000000   \n",
       "place2000   38851.0  39167.335152  23037.168723  100.000000  19000.000000   \n",
       "place2010   46949.0  45958.198194  26780.984817  100.000000  23290.000000   \n",
       "...             ...           ...           ...         ...           ...   \n",
       "metro       48585.0      1.234805      0.535527    0.000000      1.000000   \n",
       "dda         16061.0      0.354399      0.733675    0.000000      0.000000   \n",
       "qct         43671.0      1.788372      0.408467    1.000000      2.000000   \n",
       "nonprog      8460.0      1.000000      0.000000    1.000000      1.000000   \n",
       "nlm_reason    684.0      1.653509      0.866559    1.000000      1.000000   \n",
       "\n",
       "                     50%           75%           max  \n",
       "latitude       39.006252     41.532846     64.851646  \n",
       "longitude     -86.884270    -78.865175    170.220001  \n",
       "place1990    1305.000000   2495.000000   9070.000000  \n",
       "place2000   40000.000000  56320.000000  89150.000000  \n",
       "place2010   47610.000000  64260.000000  99999.000000  \n",
       "...                  ...           ...           ...  \n",
       "metro           1.000000      1.000000      3.000000  \n",
       "dda             0.000000      0.000000      4.000000  \n",
       "qct             2.000000      2.000000      2.000000  \n",
       "nonprog         1.000000      1.000000      1.000000  \n",
       "nlm_reason      1.000000      3.000000      3.000000  \n",
       "\n",
       "[61 rows x 8 columns]"
      ]
     },
     "execution_count": 34,
     "metadata": {},
     "output_type": "execute_result"
    }
   ],
   "source": [
    "df.describe().T"
   ]
  },
  {
   "cell_type": "code",
   "execution_count": 35,
   "metadata": {
    "scrolled": false
   },
   "outputs": [
    {
     "name": "stdout",
     "output_type": "stream",
     "text": [
      "<class 'pandas.core.frame.DataFrame'>\n",
      "RangeIndex: 49449 entries, 0 to 49448\n",
      "Data columns (total 75 columns):\n",
      " #   Column             Non-Null Count  Dtype  \n",
      "---  ------             --------------  -----  \n",
      " 0   hud_id             49449 non-null  object \n",
      " 1   project            49448 non-null  object \n",
      " 2   proj_add           48465 non-null  object \n",
      " 3   proj_cty           49409 non-null  object \n",
      " 4   proj_st            49449 non-null  object \n",
      " 5   proj_zip           46333 non-null  object \n",
      " 6   state_id           48864 non-null  object \n",
      " 7   latitude           47036 non-null  float64\n",
      " 8   longitude          47036 non-null  float64\n",
      " 9   place1990          31804 non-null  float64\n",
      " 10  place2000          38851 non-null  float64\n",
      " 11  place2010          46949 non-null  float64\n",
      " 12  fips1990           49449 non-null  object \n",
      " 13  fips2000           49449 non-null  object \n",
      " 14  fips2010           49449 non-null  object \n",
      " 15  st2010             49449 non-null  int64  \n",
      " 16  cnty2010           47036 non-null  float64\n",
      " 17  scattered_site_cd  43863 non-null  float64\n",
      " 18  resyndication_cd   5998 non-null   float64\n",
      " 19  allocamt           30703 non-null  float64\n",
      " 20  n_units            49054 non-null  float64\n",
      " 21  li_units           46332 non-null  float64\n",
      " 22  n_0br              39559 non-null  float64\n",
      " 23  n_1br              39958 non-null  float64\n",
      " 24  n_2br              39987 non-null  float64\n",
      " 25  n_3br              39827 non-null  float64\n",
      " 26  n_4br              39525 non-null  float64\n",
      " 27  inc_ceil           31319 non-null  float64\n",
      " 28  low_ceil           23610 non-null  float64\n",
      " 29  ceilunit           16827 non-null  float64\n",
      " 30  yr_pis             49449 non-null  int64  \n",
      " 31  yr_alloc           49444 non-null  float64\n",
      " 32  non_prof           39621 non-null  float64\n",
      " 33  basis              39009 non-null  float64\n",
      " 34  bond               38285 non-null  float64\n",
      " 35  mff_ra             13976 non-null  float64\n",
      " 36  fmha_514           20754 non-null  float64\n",
      " 37  fmha_515           38568 non-null  float64\n",
      " 38  fmha_538           19294 non-null  float64\n",
      " 39  home               28950 non-null  float64\n",
      " 40  home_amt           32167 non-null  float64\n",
      " 41  tcap               11115 non-null  float64\n",
      " 42  tcap_amt           16853 non-null  float64\n",
      " 43  cdbg               26064 non-null  float64\n",
      " 44  cdbg_amt           29403 non-null  float64\n",
      " 45  htf                4679 non-null   float64\n",
      " 46  htf_amt            8319 non-null   float64\n",
      " 47  fha                25217 non-null  float64\n",
      " 48  hopevi             20020 non-null  float64\n",
      " 49  hpvi_amt           24036 non-null  float64\n",
      " 50  tcep               16074 non-null  float64\n",
      " 51  tcep_amt           21703 non-null  float64\n",
      " 52  rad                4508 non-null   float64\n",
      " 53  qozf               2322 non-null   float64\n",
      " 54  qozf_amt           8319 non-null   float64\n",
      " 55  rentassist         23637 non-null  float64\n",
      " 56  trgt_pop           33588 non-null  float64\n",
      " 57  trgt_fam           27088 non-null  float64\n",
      " 58  trgt_eld           25548 non-null  float64\n",
      " 59  trgt_dis           25223 non-null  float64\n",
      " 60  trgt_hml           23436 non-null  float64\n",
      " 61  trgt_other         24805 non-null  float64\n",
      " 62  trgt_spc           2778 non-null   object \n",
      " 63  type               42941 non-null  float64\n",
      " 64  credit             38705 non-null  float64\n",
      " 65  n_unitsr           49314 non-null  float64\n",
      " 66  li_unitr           49314 non-null  float64\n",
      " 67  metro              48585 non-null  float64\n",
      " 68  dda                16061 non-null  float64\n",
      " 69  qct                43671 non-null  float64\n",
      " 70  nonprog            8460 non-null   float64\n",
      " 71  nlm_reason         684 non-null    float64\n",
      " 72  nlm_spc            114 non-null    object \n",
      " 73  datanote           11612 non-null  object \n",
      " 74  record_stat        49449 non-null  object \n",
      "dtypes: float64(59), int64(2), object(14)\n",
      "memory usage: 28.3+ MB\n"
     ]
    }
   ],
   "source": [
    "df.info()"
   ]
  },
  {
   "cell_type": "markdown",
   "metadata": {},
   "source": [
    "# Data Exploration"
   ]
  },
  {
   "cell_type": "markdown",
   "metadata": {},
   "source": [
    "- Variable Identification\n",
    "- Univariate Analysis\n",
    "- Bi-variate Analysis\n",
    "- Missing values treatment\n",
    "- Outlier treatment\n",
    "- Variable transformation\n",
    "- Variable creation"
   ]
  },
  {
   "cell_type": "markdown",
   "metadata": {},
   "source": [
    "# Data Cleaning"
   ]
  },
  {
   "cell_type": "markdown",
   "metadata": {},
   "source": [
    "using data dictionary found here: https://github.com/bnicholson206/DataAnalysis-LIHTC/blob/main/LIHTC%20Data%20Dictionary%202019.pdf"
   ]
  },
  {
   "cell_type": "markdown",
   "metadata": {},
   "source": [
    "We have a fair amount of NaN values in the dataset."
   ]
  },
  {
   "cell_type": "code",
   "execution_count": 36,
   "metadata": {},
   "outputs": [
    {
     "data": {
      "text/plain": [
       "hud_id         False\n",
       "project         True\n",
       "proj_add        True\n",
       "proj_cty        True\n",
       "proj_st        False\n",
       "               ...  \n",
       "nonprog         True\n",
       "nlm_reason      True\n",
       "nlm_spc         True\n",
       "datanote        True\n",
       "record_stat    False\n",
       "Length: 75, dtype: bool"
      ]
     },
     "execution_count": 36,
     "metadata": {},
     "output_type": "execute_result"
    }
   ],
   "source": [
    "df.isnull().any()"
   ]
  },
  {
   "cell_type": "markdown",
   "metadata": {},
   "source": [
    "First, identify Predictor (Input) and Target (output) variables. Next, identify the data type and category of the variables."
   ]
  },
  {
   "cell_type": "markdown",
   "metadata": {},
   "source": [
    "Predictors = All Columns\n",
    "\n",
    "Target = Allocamt"
   ]
  },
  {
   "cell_type": "markdown",
   "metadata": {},
   "source": [
    "Convert all floats to Integers"
   ]
  },
  {
   "cell_type": "code",
   "execution_count": 37,
   "metadata": {
    "collapsed": true
   },
   "outputs": [],
   "source": [
    "df_num = df.select_dtypes(include='float')\n",
    "df_num = df_num.drop(columns=['latitude','longitude'])"
   ]
  },
  {
   "cell_type": "code",
   "execution_count": 38,
   "metadata": {
    "scrolled": false
   },
   "outputs": [
    {
     "data": {
      "text/html": [
       "<div>\n",
       "<style scoped>\n",
       "    .dataframe tbody tr th:only-of-type {\n",
       "        vertical-align: middle;\n",
       "    }\n",
       "\n",
       "    .dataframe tbody tr th {\n",
       "        vertical-align: top;\n",
       "    }\n",
       "\n",
       "    .dataframe thead th {\n",
       "        text-align: right;\n",
       "    }\n",
       "</style>\n",
       "<table border=\"1\" class=\"dataframe\">\n",
       "  <thead>\n",
       "    <tr style=\"text-align: right;\">\n",
       "      <th></th>\n",
       "      <th>place1990</th>\n",
       "      <th>place2000</th>\n",
       "      <th>place2010</th>\n",
       "      <th>cnty2010</th>\n",
       "      <th>scattered_site_cd</th>\n",
       "      <th>resyndication_cd</th>\n",
       "      <th>allocamt</th>\n",
       "      <th>n_units</th>\n",
       "      <th>li_units</th>\n",
       "      <th>n_0br</th>\n",
       "      <th>...</th>\n",
       "      <th>trgt_other</th>\n",
       "      <th>type</th>\n",
       "      <th>credit</th>\n",
       "      <th>n_unitsr</th>\n",
       "      <th>li_unitr</th>\n",
       "      <th>metro</th>\n",
       "      <th>dda</th>\n",
       "      <th>qct</th>\n",
       "      <th>nonprog</th>\n",
       "      <th>nlm_reason</th>\n",
       "    </tr>\n",
       "  </thead>\n",
       "  <tbody>\n",
       "    <tr>\n",
       "      <th>0</th>\n",
       "      <td>NaN</td>\n",
       "      <td>NaN</td>\n",
       "      <td>58660.0</td>\n",
       "      <td>170.0</td>\n",
       "      <td>NaN</td>\n",
       "      <td>NaN</td>\n",
       "      <td>NaN</td>\n",
       "      <td>33.0</td>\n",
       "      <td>0.0</td>\n",
       "      <td>0.0</td>\n",
       "      <td>...</td>\n",
       "      <td>NaN</td>\n",
       "      <td>NaN</td>\n",
       "      <td>NaN</td>\n",
       "      <td>33.0</td>\n",
       "      <td>33.0</td>\n",
       "      <td>1.0</td>\n",
       "      <td>NaN</td>\n",
       "      <td>NaN</td>\n",
       "      <td>NaN</td>\n",
       "      <td>NaN</td>\n",
       "    </tr>\n",
       "    <tr>\n",
       "      <th>1</th>\n",
       "      <td>NaN</td>\n",
       "      <td>NaN</td>\n",
       "      <td>68560.0</td>\n",
       "      <td>122.0</td>\n",
       "      <td>NaN</td>\n",
       "      <td>NaN</td>\n",
       "      <td>NaN</td>\n",
       "      <td>20.0</td>\n",
       "      <td>NaN</td>\n",
       "      <td>NaN</td>\n",
       "      <td>...</td>\n",
       "      <td>NaN</td>\n",
       "      <td>NaN</td>\n",
       "      <td>1.0</td>\n",
       "      <td>20.0</td>\n",
       "      <td>20.0</td>\n",
       "      <td>NaN</td>\n",
       "      <td>NaN</td>\n",
       "      <td>NaN</td>\n",
       "      <td>NaN</td>\n",
       "      <td>NaN</td>\n",
       "    </tr>\n",
       "    <tr>\n",
       "      <th>2</th>\n",
       "      <td>NaN</td>\n",
       "      <td>NaN</td>\n",
       "      <td>36400.0</td>\n",
       "      <td>110.0</td>\n",
       "      <td>1.0</td>\n",
       "      <td>2.0</td>\n",
       "      <td>NaN</td>\n",
       "      <td>25.0</td>\n",
       "      <td>25.0</td>\n",
       "      <td>0.0</td>\n",
       "      <td>...</td>\n",
       "      <td>NaN</td>\n",
       "      <td>1.0</td>\n",
       "      <td>NaN</td>\n",
       "      <td>25.0</td>\n",
       "      <td>25.0</td>\n",
       "      <td>NaN</td>\n",
       "      <td>NaN</td>\n",
       "      <td>NaN</td>\n",
       "      <td>NaN</td>\n",
       "      <td>NaN</td>\n",
       "    </tr>\n",
       "    <tr>\n",
       "      <th>3</th>\n",
       "      <td>NaN</td>\n",
       "      <td>NaN</td>\n",
       "      <td>40950.0</td>\n",
       "      <td>150.0</td>\n",
       "      <td>NaN</td>\n",
       "      <td>NaN</td>\n",
       "      <td>NaN</td>\n",
       "      <td>20.0</td>\n",
       "      <td>NaN</td>\n",
       "      <td>NaN</td>\n",
       "      <td>...</td>\n",
       "      <td>NaN</td>\n",
       "      <td>NaN</td>\n",
       "      <td>2.0</td>\n",
       "      <td>20.0</td>\n",
       "      <td>20.0</td>\n",
       "      <td>NaN</td>\n",
       "      <td>NaN</td>\n",
       "      <td>NaN</td>\n",
       "      <td>NaN</td>\n",
       "      <td>NaN</td>\n",
       "    </tr>\n",
       "    <tr>\n",
       "      <th>4</th>\n",
       "      <td>NaN</td>\n",
       "      <td>NaN</td>\n",
       "      <td>3000.0</td>\n",
       "      <td>20.0</td>\n",
       "      <td>NaN</td>\n",
       "      <td>NaN</td>\n",
       "      <td>NaN</td>\n",
       "      <td>29.0</td>\n",
       "      <td>NaN</td>\n",
       "      <td>NaN</td>\n",
       "      <td>...</td>\n",
       "      <td>NaN</td>\n",
       "      <td>NaN</td>\n",
       "      <td>2.0</td>\n",
       "      <td>29.0</td>\n",
       "      <td>29.0</td>\n",
       "      <td>NaN</td>\n",
       "      <td>NaN</td>\n",
       "      <td>NaN</td>\n",
       "      <td>NaN</td>\n",
       "      <td>NaN</td>\n",
       "    </tr>\n",
       "  </tbody>\n",
       "</table>\n",
       "<p>5 rows × 57 columns</p>\n",
       "</div>"
      ],
      "text/plain": [
       "   place1990  place2000  place2010  cnty2010  scattered_site_cd  \\\n",
       "0        NaN        NaN    58660.0     170.0                NaN   \n",
       "1        NaN        NaN    68560.0     122.0                NaN   \n",
       "2        NaN        NaN    36400.0     110.0                1.0   \n",
       "3        NaN        NaN    40950.0     150.0                NaN   \n",
       "4        NaN        NaN     3000.0      20.0                NaN   \n",
       "\n",
       "   resyndication_cd  allocamt  n_units  li_units  n_0br  ...  trgt_other  \\\n",
       "0               NaN       NaN     33.0       0.0    0.0  ...         NaN   \n",
       "1               NaN       NaN     20.0       NaN    NaN  ...         NaN   \n",
       "2               2.0       NaN     25.0      25.0    0.0  ...         NaN   \n",
       "3               NaN       NaN     20.0       NaN    NaN  ...         NaN   \n",
       "4               NaN       NaN     29.0       NaN    NaN  ...         NaN   \n",
       "\n",
       "   type  credit  n_unitsr  li_unitr  metro  dda  qct  nonprog  nlm_reason  \n",
       "0   NaN     NaN      33.0      33.0    1.0  NaN  NaN      NaN         NaN  \n",
       "1   NaN     1.0      20.0      20.0    NaN  NaN  NaN      NaN         NaN  \n",
       "2   1.0     NaN      25.0      25.0    NaN  NaN  NaN      NaN         NaN  \n",
       "3   NaN     2.0      20.0      20.0    NaN  NaN  NaN      NaN         NaN  \n",
       "4   NaN     2.0      29.0      29.0    NaN  NaN  NaN      NaN         NaN  \n",
       "\n",
       "[5 rows x 57 columns]"
      ]
     },
     "execution_count": 38,
     "metadata": {},
     "output_type": "execute_result"
    }
   ],
   "source": [
    "df_num.head()"
   ]
  },
  {
   "cell_type": "markdown",
   "metadata": {},
   "source": [
    "#### Fill in NaN values"
   ]
  },
  {
   "cell_type": "code",
   "execution_count": 39,
   "metadata": {
    "collapsed": true
   },
   "outputs": [],
   "source": [
    "# fill all NaN values and change data type to 'int'\n",
    "\n",
    "df[df_num.columns] = df[df_num.columns].fillna(0)\n",
    "df[df_num.columns] = df[df_num.columns].astype('int')"
   ]
  },
  {
   "cell_type": "markdown",
   "metadata": {},
   "source": [
    "#### Convert all discrete numbers into discrete categories"
   ]
  },
  {
   "cell_type": "code",
   "execution_count": 40,
   "metadata": {
    "collapsed": true
   },
   "outputs": [],
   "source": [
    "# convert all discrete numbers into discrete categories\n",
    "\n",
    "def scattered_site_cd_numttocat(number): # Scattered Sity Property\n",
    "    if number is 1:\n",
    "        return 'Yes'\n",
    "    elif number is 2:\n",
    "        return 'No'\n",
    "    \n",
    "def resyndication_cd_numttocat(number): # Resyndicated Property\n",
    "    if number is 1:\n",
    "        return 'Yes'\n",
    "    elif number is 2:\n",
    "        return 'No'\n",
    "    \n",
    "def Non_Profit_numttocat(number): # Non profit sponsor\n",
    "    if number is 1:\n",
    "        return 'Yes'\n",
    "    elif number is 2:\n",
    "        return 'No'\n",
    "    \n",
    "def nonprog_numttocat(number): # Non profit sponsor\n",
    "    if number is 1:\n",
    "        return 'Yes'\n",
    "    elif number is 2:\n",
    "        return 'No'\n",
    "    else:\n",
    "        return 'No'\n",
    "    \n",
    "def Basis_Profit_numttocat(number): # Increase in eligible basis\n",
    "    if number is 1:\n",
    "        return 'Yes'\n",
    "    elif number is 2:\n",
    "        return 'No'\n",
    "    \n",
    "def Bond_Profit_numttocat(number): # Tax-exempt bond received\n",
    "    if number is 1:\n",
    "        return 'Yes'\n",
    "    elif number is 2:\n",
    "        return 'No'\n",
    "    \n",
    "def Home_numttocat(number): # HOME Investment Partnership Program Funds\n",
    "    if number is 1:\n",
    "        return 'Yes'\n",
    "    elif number is 2:\n",
    "        return 'No'\n",
    "    \n",
    "def Mrr_ra_Profit_numttocat(number): # HUD Multi-Family financial/rental assistance\n",
    "    if number is 1:\n",
    "        return 'Yes'\n",
    "    elif number is 2:\n",
    "        return 'No'\n",
    "    \n",
    "def fmha_514_numttocat(number): # FmHA (RHS) Section 514 Loan\n",
    "    if number is 1:\n",
    "        return 'Yes'\n",
    "    elif number is 2:\n",
    "        return 'No'\n",
    "    \n",
    "def fmha_515_numttocat(number): # FmHA (RHS) Section 515 Loan\n",
    "    if number is 1:\n",
    "        return 'Yes'\n",
    "    elif number is 2:\n",
    "        return 'No'\n",
    "    \n",
    "def fmha_538_numttocat(number): # FmHA (RHS) Section 515 Loan\n",
    "    if number is 1:\n",
    "        return 'Yes'\n",
    "    elif number is 2:\n",
    "        return 'No'\n",
    "    \n",
    "def rad_numttocat(number): # Housing Trust Fund funds\n",
    "    if number is 1:\n",
    "        return 'Yes'\n",
    "    elif number is 2:\n",
    "        return 'No'\n",
    "    \n",
    "def htf_numttocat(number): # Housing Trust Fund funds\n",
    "    if number is 1:\n",
    "        return 'Yes'\n",
    "    elif number is 2:\n",
    "        return 'No'\n",
    "    \n",
    "def hopevi_numttocat(number): # Forms part of a HOPEVI development\n",
    "    if number is 1:\n",
    "        return 'Yes'\n",
    "    elif number is 2:\n",
    "        return 'No'\n",
    "    \n",
    "def tcep_numttocat(number): # Tax Credit Exchange Program (TCEP) funds\n",
    "    if number is 1:\n",
    "        return 'Yes'\n",
    "    elif number is 2:\n",
    "        return 'No'\n",
    "    \n",
    "def tcap_numttocat(number): # Tax Credit Assistance Program (TCEP) funds\n",
    "    if number is 1:\n",
    "        return 'Yes'\n",
    "    elif number is 2:\n",
    "        return 'No'\n",
    "    \n",
    "def fha_numttocat(number): #FHA-insured loan\n",
    "    if number is 1:\n",
    "        return 'Yes'\n",
    "    elif number is 2:\n",
    "        return 'No'\n",
    "    \n",
    "def cdbg_numttocat(number): # community development block grant (CDBG) funds\n",
    "    if number is 1:\n",
    "        return 'Yes'\n",
    "    elif number is 2:\n",
    "        return 'No'\n",
    "    \n",
    "def inc_ceil_numttocat(number): #Elected Rent/income ceiling for low income units\n",
    "    if number is 1:\n",
    "        return '50% AMGI'\n",
    "    elif number is 2:\n",
    "        return '60% AMGI'\n",
    "    elif number is 3:\n",
    "        return 'Not Reported'\n",
    "    \n",
    "def Low_ceil_numttocat(number): # Units set aside with rents lower than elected rent/income ceiling\n",
    "    if number is 1:\n",
    "        return 'Yes'\n",
    "    elif number is 2:\n",
    "        return 'No'\n",
    "    \n",
    "def record_stat_numttocat(number): # Units set aside with rents lower than elected rent/income ceiling\n",
    "    if number is 'N':\n",
    "        return 'New'\n",
    "    elif number is 'U':\n",
    "        return 'Updated'\n",
    "    elif number is 'X':\n",
    "        return 'Existing'\n",
    "    \n",
    "def Rentassist_stat_numttocat(number): # Federal or state project-based rental assistance contract\n",
    "    if number is 1:\n",
    "        return 'Federal'\n",
    "    elif number is 2:\n",
    "        return 'State'\n",
    "    elif number is 3:\n",
    "        return 'Both State and Federal'\n",
    "    elif number is 4:\n",
    "        return 'Neither'\n",
    "    elif number is 5:\n",
    "        return 'Unknown'\n",
    "    \n",
    "def Type_numttocat(number): # Federal or state project-based rental assistance contract\n",
    "    if number is 1:\n",
    "        return 'New Construction'\n",
    "    elif number is 2:\n",
    "        return 'Acquisition and Rehab'\n",
    "    elif number is 3:\n",
    "        return 'Both new construction and A/R'\n",
    "    elif number is 4:\n",
    "        return 'Existing'\n",
    "    \n",
    "def Credit_numttocat(number): # Type of credit percentage\n",
    "    if number is 1:\n",
    "        return '30% present value'\n",
    "    elif number is 2:\n",
    "        return '70% present value'\n",
    "    elif number is 3:\n",
    "        return 'Both'\n",
    "    elif number is 4:\n",
    "        return 'TCEP Only'\n",
    "    \n",
    "def dda_numttocat(number): # Is the census tract in a difficult development area?\n",
    "    if number is 0:\n",
    "        return 'Not in DDA'\n",
    "    elif number is 1:\n",
    "        return 'In Metro DDA'\n",
    "    elif number is 2:\n",
    "        return 'In Non-Metro DDA'\n",
    "    elif number is 3:\n",
    "        return 'In Metro GO Zone DDA'\n",
    "    elif number is 4:\n",
    "        return 'In Non-Metro GO Zone DDA'\n",
    "    \n",
    "def metro_numttocat(number): # Is the census tract metro or non-metro at the time the property was placed into service?\n",
    "    if number is 1:\n",
    "        return 'Metro/Non-Central City'\n",
    "    elif number is 2:\n",
    "        return 'Metro/Central City'\n",
    "    elif number is 3:\n",
    "        return 'Non-Metro'\n",
    "    \n",
    "def nlm_reason_numttocat(number): # Reason property is no longer monitored for LIHTC\n",
    "    if number is 1:\n",
    "        return 'Completed Extended-Use Period'\n",
    "    elif number is 2:\n",
    "        return 'Sale under Qualified Contract'\n",
    "    elif number is 3:\n",
    "        return 'Other'\n",
    "    \n",
    "def qct_numttocat(number): # Is the census tract a qualified census tract?\n",
    "    if number is 1:\n",
    "        return 'In a Qualified Census Tract'\n",
    "    elif number is 2:\n",
    "        return 'Not In a Qualified Census Tract'\n",
    "    \n",
    "def qozf_numttocat(number): # Qualified Opportunity Zone Fund\n",
    "    if number is 1:\n",
    "        return 'Yes'\n",
    "    elif number is 2:\n",
    "        return 'No'\n",
    "    \n",
    "def trgt_pop_numttocat(number): # Targets a specific population with specified services or facilities\n",
    "    if number is 1:\n",
    "        return 'Yes'\n",
    "    elif number is 2:\n",
    "        return 'No'\n",
    "    \n",
    "def trgt_fam_numttocat(number): # Targets a specific population - families\n",
    "    if number is 1:\n",
    "        return 'Yes'\n",
    "    elif number is 2:\n",
    "        return 'No'\n",
    "    \n",
    "def trgt_eld_numttocat(number): # Targets a specific population - elderly\n",
    "    if number is 1:\n",
    "        return 'Yes'\n",
    "    elif number is 2:\n",
    "        return 'No'\n",
    "    \n",
    "def trgt_dis_numttocat(number): # Targets a specific population - disabled\n",
    "    if number is 1:\n",
    "        return 'Yes'\n",
    "    elif number is 2:\n",
    "        return 'No'\n",
    "    \n",
    "def trgt_hml_numttocat(number): # Targets a specific population - homeless\n",
    "    if number is 1:\n",
    "        return 'Yes'\n",
    "    elif number is 2:\n",
    "        return 'No'\n",
    "    \n",
    "def trgt_other_numttocat(number): # Targets a specific population - other\n",
    "    if number is 1:\n",
    "        return 'Yes'\n",
    "    elif number is 2:\n",
    "        return 'No'"
   ]
  },
  {
   "cell_type": "code",
   "execution_count": 41,
   "metadata": {
    "collapsed": true
   },
   "outputs": [],
   "source": [
    "df[\"scattered_site_cd\"] = df[\"scattered_site_cd\"].map(scattered_site_cd_numttocat)\n",
    "df[\"resyndication_cd\"] = df[\"resyndication_cd\"].map(resyndication_cd_numttocat)\n",
    "df[\"inc_ceil\"] = df[\"inc_ceil\"].map(inc_ceil_numttocat)\n",
    "df[\"low_ceil\"] = df[\"low_ceil\"].map(Low_ceil_numttocat)\n",
    "df[\"record_stat\"] = df[\"record_stat\"].map(record_stat_numttocat)\n",
    "df[\"non_prof\"] = df[\"non_prof\"].map(Non_Profit_numttocat)\n",
    "df[\"basis\"] = df[\"basis\"].map(Basis_Profit_numttocat)\n",
    "df[\"bond\"] = df[\"bond\"].map(Bond_Profit_numttocat)\n",
    "df[\"mff_ra\"] = df[\"mff_ra\"].map(Mrr_ra_Profit_numttocat)\n",
    "df[\"fmha_514\"] = df[\"fmha_514\"].map(fmha_514_numttocat)\n",
    "df[\"fmha_515\"] = df[\"fmha_515\"].map(fmha_515_numttocat)\n",
    "df[\"fmha_538\"] = df[\"fmha_538\"].map(fmha_538_numttocat)\n",
    "df[\"home\"] = df[\"home\"].map(Home_numttocat)\n",
    "df[\"rentassist\"] = df[\"rentassist\"].map(Rentassist_stat_numttocat)\n",
    "df[\"type\"] = df[\"type\"].map(Type_numttocat)\n",
    "df[\"credit\"] = df[\"credit\"].map(Credit_numttocat)\n",
    "df[\"dda\"] = df[\"dda\"].map(dda_numttocat)\n",
    "df[\"metro\"] = df[\"metro\"].map(metro_numttocat)\n",
    "df[\"nlm_reason\"] = df[\"nlm_reason\"].map(nlm_reason_numttocat)\n",
    "df[\"tcap\"] = df[\"tcap\"].map(tcap_numttocat)\n",
    "df[\"cdbg\"] = df[\"cdbg\"].map(cdbg_numttocat)\n",
    "df[\"htf\"] = df[\"htf\"].map(htf_numttocat)\n",
    "df[\"hopevi\"] = df[\"hopevi\"].map(hopevi_numttocat)\n",
    "df[\"fha\"] = df[\"fha\"].map(fha_numttocat)\n",
    "df[\"tcep\"] = df[\"tcep\"].map(tcep_numttocat)\n",
    "df[\"rad\"] = df[\"rad\"].map(rad_numttocat)\n",
    "df[\"nonprog\"] = df[\"nonprog\"].map(nonprog_numttocat)\n",
    "df[\"qct\"] = df[\"qct\"].map(qct_numttocat)\n",
    "df[\"qozf\"] = df[\"qozf\"].map(qozf_numttocat)\n",
    "df[\"trgt_pop\"] = df[\"trgt_pop\"].map(trgt_pop_numttocat)\n",
    "df[\"trgt_fam\"] = df[\"trgt_fam\"].map(trgt_fam_numttocat)\n",
    "df[\"trgt_eld\"] = df[\"trgt_eld\"].map(trgt_eld_numttocat)\n",
    "df[\"trgt_hml\"] = df[\"trgt_hml\"].map(trgt_hml_numttocat)\n",
    "df[\"trgt_dis\"] = df[\"trgt_dis\"].map(trgt_hml_numttocat)\n",
    "df[\"trgt_other\"] = df[\"trgt_other\"].map(trgt_other_numttocat)"
   ]
  },
  {
   "cell_type": "code",
   "execution_count": 42,
   "metadata": {
    "collapsed": true
   },
   "outputs": [],
   "source": [
    "df.to_csv(\"LIHTCPUB_cleaned.csv\", index_label=\"ID\")"
   ]
  },
  {
   "cell_type": "code",
   "execution_count": 43,
   "metadata": {},
   "outputs": [
    {
     "data": {
      "text/html": [
       "<div>\n",
       "<style scoped>\n",
       "    .dataframe tbody tr th:only-of-type {\n",
       "        vertical-align: middle;\n",
       "    }\n",
       "\n",
       "    .dataframe tbody tr th {\n",
       "        vertical-align: top;\n",
       "    }\n",
       "\n",
       "    .dataframe thead th {\n",
       "        text-align: right;\n",
       "    }\n",
       "</style>\n",
       "<table border=\"1\" class=\"dataframe\">\n",
       "  <thead>\n",
       "    <tr style=\"text-align: right;\">\n",
       "      <th></th>\n",
       "      <th>hud_id</th>\n",
       "      <th>project</th>\n",
       "      <th>proj_add</th>\n",
       "      <th>proj_cty</th>\n",
       "      <th>proj_st</th>\n",
       "      <th>proj_zip</th>\n",
       "      <th>state_id</th>\n",
       "      <th>latitude</th>\n",
       "      <th>longitude</th>\n",
       "      <th>place1990</th>\n",
       "      <th>...</th>\n",
       "      <th>n_unitsr</th>\n",
       "      <th>li_unitr</th>\n",
       "      <th>metro</th>\n",
       "      <th>dda</th>\n",
       "      <th>qct</th>\n",
       "      <th>nonprog</th>\n",
       "      <th>nlm_reason</th>\n",
       "      <th>nlm_spc</th>\n",
       "      <th>datanote</th>\n",
       "      <th>record_stat</th>\n",
       "    </tr>\n",
       "  </thead>\n",
       "  <tbody>\n",
       "    <tr>\n",
       "      <th>0</th>\n",
       "      <td>AKA0000X003</td>\n",
       "      <td>EAGLE RIDGE TOWNHOMES</td>\n",
       "      <td>1775 NORTH THUMA</td>\n",
       "      <td>PALMER</td>\n",
       "      <td>AK</td>\n",
       "      <td>99645</td>\n",
       "      <td>AK-05-23</td>\n",
       "      <td>61.587872</td>\n",
       "      <td>-149.099777</td>\n",
       "      <td>0</td>\n",
       "      <td>...</td>\n",
       "      <td>33</td>\n",
       "      <td>33</td>\n",
       "      <td>Metro/Non-Central City</td>\n",
       "      <td>Not in DDA</td>\n",
       "      <td>None</td>\n",
       "      <td>No</td>\n",
       "      <td>None</td>\n",
       "      <td>NaN</td>\n",
       "      <td>NaN</td>\n",
       "      <td>Existing</td>\n",
       "    </tr>\n",
       "    <tr>\n",
       "      <th>1</th>\n",
       "      <td>AKA0000X018</td>\n",
       "      <td>GATEWAY-SEWARD ASSOCIATES, LTD PTN</td>\n",
       "      <td>1810 PHOENIX ROAD</td>\n",
       "      <td>SEWARD</td>\n",
       "      <td>AK</td>\n",
       "      <td>99664</td>\n",
       "      <td>AK-99-99</td>\n",
       "      <td>60.125469</td>\n",
       "      <td>-149.446060</td>\n",
       "      <td>0</td>\n",
       "      <td>...</td>\n",
       "      <td>20</td>\n",
       "      <td>20</td>\n",
       "      <td>None</td>\n",
       "      <td>Not in DDA</td>\n",
       "      <td>None</td>\n",
       "      <td>No</td>\n",
       "      <td>None</td>\n",
       "      <td>NaN</td>\n",
       "      <td>NaN</td>\n",
       "      <td>Existing</td>\n",
       "    </tr>\n",
       "    <tr>\n",
       "      <th>2</th>\n",
       "      <td>AKA0000X022</td>\n",
       "      <td>JUNEAU AFFORDABLE RENTALS, LLC</td>\n",
       "      <td>SCATTERED SITE</td>\n",
       "      <td>JUNEAU</td>\n",
       "      <td>AK</td>\n",
       "      <td>99801</td>\n",
       "      <td>AK-99-99</td>\n",
       "      <td>58.383499</td>\n",
       "      <td>-134.437698</td>\n",
       "      <td>0</td>\n",
       "      <td>...</td>\n",
       "      <td>25</td>\n",
       "      <td>25</td>\n",
       "      <td>None</td>\n",
       "      <td>Not in DDA</td>\n",
       "      <td>None</td>\n",
       "      <td>No</td>\n",
       "      <td>None</td>\n",
       "      <td>NaN</td>\n",
       "      <td>NaN</td>\n",
       "      <td>Updated</td>\n",
       "    </tr>\n",
       "    <tr>\n",
       "      <th>3</th>\n",
       "      <td>AKA0000X024</td>\n",
       "      <td>MILL BAY TOWNHOMES, LLC</td>\n",
       "      <td>1223 MILL BAY ROAD</td>\n",
       "      <td>KODIAK</td>\n",
       "      <td>AK</td>\n",
       "      <td>99615</td>\n",
       "      <td>AK-99-99</td>\n",
       "      <td>57.796478</td>\n",
       "      <td>-152.392319</td>\n",
       "      <td>0</td>\n",
       "      <td>...</td>\n",
       "      <td>20</td>\n",
       "      <td>20</td>\n",
       "      <td>None</td>\n",
       "      <td>Not in DDA</td>\n",
       "      <td>None</td>\n",
       "      <td>No</td>\n",
       "      <td>None</td>\n",
       "      <td>NaN</td>\n",
       "      <td>NaN</td>\n",
       "      <td>Existing</td>\n",
       "    </tr>\n",
       "    <tr>\n",
       "      <th>4</th>\n",
       "      <td>AKA0000X030</td>\n",
       "      <td>TURNAGAIN PLACE APTS</td>\n",
       "      <td>2708 COHO WAY</td>\n",
       "      <td>ANCHORAGE</td>\n",
       "      <td>AK</td>\n",
       "      <td>99517</td>\n",
       "      <td>AK-99-99</td>\n",
       "      <td>61.205101</td>\n",
       "      <td>-149.930298</td>\n",
       "      <td>0</td>\n",
       "      <td>...</td>\n",
       "      <td>29</td>\n",
       "      <td>29</td>\n",
       "      <td>None</td>\n",
       "      <td>Not in DDA</td>\n",
       "      <td>None</td>\n",
       "      <td>No</td>\n",
       "      <td>None</td>\n",
       "      <td>NaN</td>\n",
       "      <td>NaN</td>\n",
       "      <td>Updated</td>\n",
       "    </tr>\n",
       "  </tbody>\n",
       "</table>\n",
       "<p>5 rows × 75 columns</p>\n",
       "</div>"
      ],
      "text/plain": [
       "        hud_id                             project            proj_add  \\\n",
       "0  AKA0000X003               EAGLE RIDGE TOWNHOMES    1775 NORTH THUMA   \n",
       "1  AKA0000X018  GATEWAY-SEWARD ASSOCIATES, LTD PTN   1810 PHOENIX ROAD   \n",
       "2  AKA0000X022      JUNEAU AFFORDABLE RENTALS, LLC      SCATTERED SITE   \n",
       "3  AKA0000X024             MILL BAY TOWNHOMES, LLC  1223 MILL BAY ROAD   \n",
       "4  AKA0000X030                TURNAGAIN PLACE APTS       2708 COHO WAY   \n",
       "\n",
       "    proj_cty proj_st proj_zip  state_id   latitude   longitude  place1990  \\\n",
       "0     PALMER      AK    99645  AK-05-23  61.587872 -149.099777          0   \n",
       "1     SEWARD      AK    99664  AK-99-99  60.125469 -149.446060          0   \n",
       "2     JUNEAU      AK    99801  AK-99-99  58.383499 -134.437698          0   \n",
       "3     KODIAK      AK    99615  AK-99-99  57.796478 -152.392319          0   \n",
       "4  ANCHORAGE      AK    99517  AK-99-99  61.205101 -149.930298          0   \n",
       "\n",
       "   ...  n_unitsr  li_unitr                   metro         dda   qct  nonprog  \\\n",
       "0  ...        33        33  Metro/Non-Central City  Not in DDA  None       No   \n",
       "1  ...        20        20                    None  Not in DDA  None       No   \n",
       "2  ...        25        25                    None  Not in DDA  None       No   \n",
       "3  ...        20        20                    None  Not in DDA  None       No   \n",
       "4  ...        29        29                    None  Not in DDA  None       No   \n",
       "\n",
       "   nlm_reason nlm_spc datanote  record_stat  \n",
       "0        None     NaN      NaN     Existing  \n",
       "1        None     NaN      NaN     Existing  \n",
       "2        None     NaN      NaN      Updated  \n",
       "3        None     NaN      NaN     Existing  \n",
       "4        None     NaN      NaN      Updated  \n",
       "\n",
       "[5 rows x 75 columns]"
      ]
     },
     "execution_count": 43,
     "metadata": {},
     "output_type": "execute_result"
    }
   ],
   "source": [
    "df.head()"
   ]
  },
  {
   "cell_type": "markdown",
   "metadata": {},
   "source": [
    "# Feature Engineering"
   ]
  },
  {
   "cell_type": "code",
   "execution_count": 44,
   "metadata": {
    "collapsed": true
   },
   "outputs": [],
   "source": [
    "# try:\n",
    "#   df['ratio_of_li_units'] = df['li_units'] / df['n_units'] \n",
    "# except ZeroDivisionError:\n",
    "#   df['ratio_of_li_units'] = 0"
   ]
  },
  {
   "cell_type": "code",
   "execution_count": 45,
   "metadata": {
    "collapsed": true
   },
   "outputs": [],
   "source": [
    "\n",
    "# try:\n",
    "#   df['ratio_of_0br_units'] = df['n_0br'] / df['n_units'] \n",
    "# except ZeroDivisionError:\n",
    "#   df['ratio_of_0br_units'] = 0\n",
    "\n",
    "# try:\n",
    "#   df['ratio_of_1br_units'] = df['n_1br'] / df['n_units'] \n",
    "# except ZeroDivisionError:\n",
    "#   df['ratio_of_1br_units'] = 0\n",
    "\n",
    "# try:\n",
    "#   df['ratio_of_2br_units'] = df['n_2br'] / df['n_units'] \n",
    "# except ZeroDivisionError:\n",
    "#   df['ratio_of_2br_units'] = 0\n",
    "\n",
    "# try:\n",
    "#   df['ratio_of_3br_units'] = df['n_3br'] / df['n_units'] \n",
    "# except ZeroDivisionError:\n",
    "#   df['ratio_of_3br_units'] = 0\n",
    "\n",
    "# try:\n",
    "#   df['ratio_of_4br_units'] = df['n_4br'] / df['n_units'] \n",
    "# except ZeroDivisionError:\n",
    "#   df['ratio_of_4br_units'] = 0"
   ]
  },
  {
   "cell_type": "code",
   "execution_count": 46,
   "metadata": {
    "collapsed": true,
    "scrolled": true
   },
   "outputs": [],
   "source": [
    "# df['log_of_n_units'] = np.log(df['n_units'])"
   ]
  },
  {
   "cell_type": "markdown",
   "metadata": {},
   "source": [
    "# Exploratory Data Analysis"
   ]
  },
  {
   "cell_type": "code",
   "execution_count": 47,
   "metadata": {
    "scrolled": true
   },
   "outputs": [
    {
     "data": {
      "image/png": "[encoded data removed]",
      "text/plain": [
       "<Figure size 1440x1080 with 30 Axes>"
      ]
     },
     "metadata": {},
     "output_type": "display_data"
    }
   ],
   "source": [
    "df.hist(bins=50, figsize=(20,15))\n",
    "plt.show()"
   ]
  },
  {
   "cell_type": "code",
   "execution_count": 48,
   "metadata": {
    "scrolled": false
   },
   "outputs": [
    {
     "data": {
      "image/png": "[encoded data removed]",
      "text/plain": [
       "<Figure size 1080x720 with 2 Axes>"
      ]
     },
     "metadata": {},
     "output_type": "display_data"
    }
   ],
   "source": [
    "corr = df.corr()\n",
    "mask = np.triu(np.ones_like(corr, dtype=bool))\n",
    "f, ax = plt.subplots(figsize=(15, 10))\n",
    "g = sns.heatmap(corr, mask=mask, cmap=\"YlGnBu\", center=0, square=True, linewidths=.5,\n",
    "            cbar_kws={\"shrink\": 0.6}).set_title('Pairwise correlation')"
   ]
  },
  {
   "cell_type": "code",
   "execution_count": 49,
   "metadata": {
    "scrolled": true
   },
   "outputs": [
    {
     "data": {
      "text/plain": [
       "<AxesSubplot:>"
      ]
     },
     "execution_count": 49,
     "metadata": {},
     "output_type": "execute_result"
    },
    {
     "data": {
      "image/png": "[encoded data removed]",
      "text/plain": [
       "<Figure size 432x288 with 1 Axes>"
      ]
     },
     "metadata": {},
     "output_type": "display_data"
    }
   ],
   "source": [
    "df.n_units.hist(bins=50)"
   ]
  },
  {
   "cell_type": "code",
   "execution_count": 50,
   "metadata": {},
   "outputs": [
    {
     "data": {
      "text/plain": [
       "<AxesSubplot:>"
      ]
     },
     "execution_count": 50,
     "metadata": {},
     "output_type": "execute_result"
    },
    {
     "data": {
      "image/png": "[encoded data removed]",
      "text/plain": [
       "<Figure size 432x288 with 1 Axes>"
      ]
     },
     "metadata": {},
     "output_type": "display_data"
    }
   ],
   "source": [
    "df.n_0br.hist(bins=20)"
   ]
  },
  {
   "cell_type": "code",
   "execution_count": 51,
   "metadata": {},
   "outputs": [
    {
     "data": {
      "image/png": "[encoded data removed]",
      "text/plain": [
       "<Figure size 432x288 with 1 Axes>"
      ]
     },
     "metadata": {},
     "output_type": "display_data"
    }
   ],
   "source": [
    "boxplot = df.boxplot(column=['n_units','n_0br','n_1br','n_2br','n_3br','n_4br'])"
   ]
  },
  {
   "cell_type": "code",
   "execution_count": 52,
   "metadata": {},
   "outputs": [
    {
     "data": {
      "text/plain": [
       "<Figure size 720x432 with 0 Axes>"
      ]
     },
     "metadata": {},
     "output_type": "display_data"
    },
    {
     "data": {
      "image/png": "[encoded data removed]",
      "text/plain": [
       "<Figure size 1132x360 with 3 Axes>"
      ]
     },
     "metadata": {},
     "output_type": "display_data"
    }
   ],
   "source": [
    "plt.figure(figsize=(10,6))\n",
    "sns.lmplot(data=df, y='allocamt',x='n_units', hue=\"trgt_hml\",col=\"record_stat\")\n",
    "\n",
    "plt.show()"
   ]
  },
  {
   "cell_type": "code",
   "execution_count": 53,
   "metadata": {
    "scrolled": true
   },
   "outputs": [
    {
     "data": {
      "text/plain": [
       "<Figure size 720x432 with 0 Axes>"
      ]
     },
     "metadata": {},
     "output_type": "display_data"
    },
    {
     "data": {
      "image/png": "[encoded data removed]",
      "text/plain": [
       "<Figure size 1132x360 with 3 Axes>"
      ]
     },
     "metadata": {},
     "output_type": "display_data"
    }
   ],
   "source": [
    "plt.figure(figsize=(10,6))\n",
    "sns.lmplot(data=df, y='allocamt',x='n_units', hue=\"trgt_pop\",col=\"record_stat\")\n",
    "\n",
    "plt.show()"
   ]
  },
  {
   "cell_type": "code",
   "execution_count": 54,
   "metadata": {},
   "outputs": [
    {
     "data": {
      "text/plain": [
       "<Figure size 720x432 with 0 Axes>"
      ]
     },
     "metadata": {},
     "output_type": "display_data"
    },
    {
     "data": {
      "image/png": "[encoded data removed]",
      "text/plain": [
       "<Figure size 1132x360 with 3 Axes>"
      ]
     },
     "metadata": {},
     "output_type": "display_data"
    }
   ],
   "source": [
    "plt.figure(figsize=(10,6))\n",
    "sns.lmplot(data=df, y='allocamt',x='n_units', hue=\"trgt_dis\",col=\"record_stat\")\n",
    "\n",
    "plt.show()"
   ]
  },
  {
   "cell_type": "code",
   "execution_count": 55,
   "metadata": {
    "collapsed": true
   },
   "outputs": [],
   "source": [
    "# add multiple filtering criteria\n",
    "ts_mask = df.where(df['yr_alloc'] < 3000)\n",
    "ts_mask = ts_mask.where(df['yr_alloc'] > 1000)"
   ]
  },
  {
   "cell_type": "code",
   "execution_count": 56,
   "metadata": {
    "scrolled": true
   },
   "outputs": [
    {
     "data": {
      "image/png": "[encoded data removed]",
      "text/plain": [
       "<Figure size 720x432 with 1 Axes>"
      ]
     },
     "metadata": {},
     "output_type": "display_data"
    }
   ],
   "source": [
    "plt.figure(figsize=(10,6))\n",
    "sns.lineplot(data=ts_mask, x=\"yr_alloc\", y=\"allocamt\")\n",
    "\n",
    "plt.show()"
   ]
  },
  {
   "cell_type": "code",
   "execution_count": 57,
   "metadata": {
    "scrolled": true
   },
   "outputs": [
    {
     "data": {
      "image/png": "[encoded data removed]",
      "text/plain": [
       "<Figure size 720x432 with 1 Axes>"
      ]
     },
     "metadata": {},
     "output_type": "display_data"
    }
   ],
   "source": [
    "plt.figure(figsize=(10,6))\n",
    "sns.lineplot(data=ts_mask, x=\"yr_alloc\", y=\"n_units\")\n",
    "\n",
    "plt.show()"
   ]
  },
  {
   "cell_type": "markdown",
   "metadata": {},
   "source": [
    "# Variable Selection and Identification"
   ]
  },
  {
   "cell_type": "code",
   "execution_count": 71,
   "metadata": {
    "collapsed": true
   },
   "outputs": [],
   "source": [
    "X = df.drop(['allocamt','latitude','longitude'], axis = 1)\n",
    "y = df.loc[:,'allocamt']"
   ]
  },
  {
   "cell_type": "code",
   "execution_count": 72,
   "metadata": {},
   "outputs": [
    {
     "data": {
      "text/html": [
       "<div>\n",
       "<style scoped>\n",
       "    .dataframe tbody tr th:only-of-type {\n",
       "        vertical-align: middle;\n",
       "    }\n",
       "\n",
       "    .dataframe tbody tr th {\n",
       "        vertical-align: top;\n",
       "    }\n",
       "\n",
       "    .dataframe thead th {\n",
       "        text-align: right;\n",
       "    }\n",
       "</style>\n",
       "<table border=\"1\" class=\"dataframe\">\n",
       "  <thead>\n",
       "    <tr style=\"text-align: right;\">\n",
       "      <th></th>\n",
       "      <th>hud_id</th>\n",
       "      <th>project</th>\n",
       "      <th>proj_add</th>\n",
       "      <th>proj_cty</th>\n",
       "      <th>proj_st</th>\n",
       "      <th>proj_zip</th>\n",
       "      <th>state_id</th>\n",
       "      <th>place1990</th>\n",
       "      <th>place2000</th>\n",
       "      <th>place2010</th>\n",
       "      <th>...</th>\n",
       "      <th>n_unitsr</th>\n",
       "      <th>li_unitr</th>\n",
       "      <th>metro</th>\n",
       "      <th>dda</th>\n",
       "      <th>qct</th>\n",
       "      <th>nonprog</th>\n",
       "      <th>nlm_reason</th>\n",
       "      <th>nlm_spc</th>\n",
       "      <th>datanote</th>\n",
       "      <th>record_stat</th>\n",
       "    </tr>\n",
       "  </thead>\n",
       "  <tbody>\n",
       "    <tr>\n",
       "      <th>0</th>\n",
       "      <td>AKA0000X003</td>\n",
       "      <td>EAGLE RIDGE TOWNHOMES</td>\n",
       "      <td>1775 NORTH THUMA</td>\n",
       "      <td>PALMER</td>\n",
       "      <td>AK</td>\n",
       "      <td>99645</td>\n",
       "      <td>AK-05-23</td>\n",
       "      <td>0</td>\n",
       "      <td>0</td>\n",
       "      <td>58660</td>\n",
       "      <td>...</td>\n",
       "      <td>33</td>\n",
       "      <td>33</td>\n",
       "      <td>Metro/Non-Central City</td>\n",
       "      <td>Not in DDA</td>\n",
       "      <td>None</td>\n",
       "      <td>No</td>\n",
       "      <td>None</td>\n",
       "      <td>NaN</td>\n",
       "      <td>NaN</td>\n",
       "      <td>Existing</td>\n",
       "    </tr>\n",
       "    <tr>\n",
       "      <th>1</th>\n",
       "      <td>AKA0000X018</td>\n",
       "      <td>GATEWAY-SEWARD ASSOCIATES, LTD PTN</td>\n",
       "      <td>1810 PHOENIX ROAD</td>\n",
       "      <td>SEWARD</td>\n",
       "      <td>AK</td>\n",
       "      <td>99664</td>\n",
       "      <td>AK-99-99</td>\n",
       "      <td>0</td>\n",
       "      <td>0</td>\n",
       "      <td>68560</td>\n",
       "      <td>...</td>\n",
       "      <td>20</td>\n",
       "      <td>20</td>\n",
       "      <td>None</td>\n",
       "      <td>Not in DDA</td>\n",
       "      <td>None</td>\n",
       "      <td>No</td>\n",
       "      <td>None</td>\n",
       "      <td>NaN</td>\n",
       "      <td>NaN</td>\n",
       "      <td>Existing</td>\n",
       "    </tr>\n",
       "    <tr>\n",
       "      <th>2</th>\n",
       "      <td>AKA0000X022</td>\n",
       "      <td>JUNEAU AFFORDABLE RENTALS, LLC</td>\n",
       "      <td>SCATTERED SITE</td>\n",
       "      <td>JUNEAU</td>\n",
       "      <td>AK</td>\n",
       "      <td>99801</td>\n",
       "      <td>AK-99-99</td>\n",
       "      <td>0</td>\n",
       "      <td>0</td>\n",
       "      <td>36400</td>\n",
       "      <td>...</td>\n",
       "      <td>25</td>\n",
       "      <td>25</td>\n",
       "      <td>None</td>\n",
       "      <td>Not in DDA</td>\n",
       "      <td>None</td>\n",
       "      <td>No</td>\n",
       "      <td>None</td>\n",
       "      <td>NaN</td>\n",
       "      <td>NaN</td>\n",
       "      <td>Updated</td>\n",
       "    </tr>\n",
       "    <tr>\n",
       "      <th>3</th>\n",
       "      <td>AKA0000X024</td>\n",
       "      <td>MILL BAY TOWNHOMES, LLC</td>\n",
       "      <td>1223 MILL BAY ROAD</td>\n",
       "      <td>KODIAK</td>\n",
       "      <td>AK</td>\n",
       "      <td>99615</td>\n",
       "      <td>AK-99-99</td>\n",
       "      <td>0</td>\n",
       "      <td>0</td>\n",
       "      <td>40950</td>\n",
       "      <td>...</td>\n",
       "      <td>20</td>\n",
       "      <td>20</td>\n",
       "      <td>None</td>\n",
       "      <td>Not in DDA</td>\n",
       "      <td>None</td>\n",
       "      <td>No</td>\n",
       "      <td>None</td>\n",
       "      <td>NaN</td>\n",
       "      <td>NaN</td>\n",
       "      <td>Existing</td>\n",
       "    </tr>\n",
       "    <tr>\n",
       "      <th>4</th>\n",
       "      <td>AKA0000X030</td>\n",
       "      <td>TURNAGAIN PLACE APTS</td>\n",
       "      <td>2708 COHO WAY</td>\n",
       "      <td>ANCHORAGE</td>\n",
       "      <td>AK</td>\n",
       "      <td>99517</td>\n",
       "      <td>AK-99-99</td>\n",
       "      <td>0</td>\n",
       "      <td>0</td>\n",
       "      <td>3000</td>\n",
       "      <td>...</td>\n",
       "      <td>29</td>\n",
       "      <td>29</td>\n",
       "      <td>None</td>\n",
       "      <td>Not in DDA</td>\n",
       "      <td>None</td>\n",
       "      <td>No</td>\n",
       "      <td>None</td>\n",
       "      <td>NaN</td>\n",
       "      <td>NaN</td>\n",
       "      <td>Updated</td>\n",
       "    </tr>\n",
       "    <tr>\n",
       "      <th>...</th>\n",
       "      <td>...</td>\n",
       "      <td>...</td>\n",
       "      <td>...</td>\n",
       "      <td>...</td>\n",
       "      <td>...</td>\n",
       "      <td>...</td>\n",
       "      <td>...</td>\n",
       "      <td>...</td>\n",
       "      <td>...</td>\n",
       "      <td>...</td>\n",
       "      <td>...</td>\n",
       "      <td>...</td>\n",
       "      <td>...</td>\n",
       "      <td>...</td>\n",
       "      <td>...</td>\n",
       "      <td>...</td>\n",
       "      <td>...</td>\n",
       "      <td>...</td>\n",
       "      <td>...</td>\n",
       "      <td>...</td>\n",
       "      <td>...</td>\n",
       "    </tr>\n",
       "    <tr>\n",
       "      <th>49444</th>\n",
       "      <td>WYA20190001</td>\n",
       "      <td>ALPINE PARK APARTMENTS</td>\n",
       "      <td>111 BOARDWALK DRIVE</td>\n",
       "      <td>ALPINE</td>\n",
       "      <td>WY</td>\n",
       "      <td>83128</td>\n",
       "      <td>WY-99-99</td>\n",
       "      <td>0</td>\n",
       "      <td>0</td>\n",
       "      <td>1695</td>\n",
       "      <td>...</td>\n",
       "      <td>24</td>\n",
       "      <td>24</td>\n",
       "      <td>Metro/Non-Central City</td>\n",
       "      <td>Not in DDA</td>\n",
       "      <td>Not In a Qualified Census Tract</td>\n",
       "      <td>No</td>\n",
       "      <td>None</td>\n",
       "      <td>NaN</td>\n",
       "      <td>NaN</td>\n",
       "      <td>New</td>\n",
       "    </tr>\n",
       "    <tr>\n",
       "      <th>49445</th>\n",
       "      <td>WYA20190002</td>\n",
       "      <td>GRAND MESA APARTMENTS (801)</td>\n",
       "      <td>501 S. SNYDER AVENUE #100 GRANDMESA@COSTELLOCO...</td>\n",
       "      <td>CHEYENNE</td>\n",
       "      <td>WY</td>\n",
       "      <td>82007</td>\n",
       "      <td>WY-99-99</td>\n",
       "      <td>0</td>\n",
       "      <td>0</td>\n",
       "      <td>13900</td>\n",
       "      <td>...</td>\n",
       "      <td>62</td>\n",
       "      <td>62</td>\n",
       "      <td>Metro/Non-Central City</td>\n",
       "      <td>Not in DDA</td>\n",
       "      <td>In a Qualified Census Tract</td>\n",
       "      <td>No</td>\n",
       "      <td>None</td>\n",
       "      <td>NaN</td>\n",
       "      <td>NaN</td>\n",
       "      <td>New</td>\n",
       "    </tr>\n",
       "    <tr>\n",
       "      <th>49446</th>\n",
       "      <td>WYA20190003</td>\n",
       "      <td>GRANITE SPRINGS APARTMENTS</td>\n",
       "      <td>908 E JEFFERSON ST</td>\n",
       "      <td>CHEYENNE</td>\n",
       "      <td>WY</td>\n",
       "      <td>82007</td>\n",
       "      <td>WY-99-99</td>\n",
       "      <td>0</td>\n",
       "      <td>0</td>\n",
       "      <td>29300</td>\n",
       "      <td>...</td>\n",
       "      <td>24</td>\n",
       "      <td>24</td>\n",
       "      <td>Metro/Non-Central City</td>\n",
       "      <td>Not in DDA</td>\n",
       "      <td>Not In a Qualified Census Tract</td>\n",
       "      <td>No</td>\n",
       "      <td>None</td>\n",
       "      <td>NaN</td>\n",
       "      <td>NaN</td>\n",
       "      <td>New</td>\n",
       "    </tr>\n",
       "    <tr>\n",
       "      <th>49447</th>\n",
       "      <td>WYA20190004</td>\n",
       "      <td>HAYDEN COMMONS</td>\n",
       "      <td>92 EAST HAYDEN AVENUE</td>\n",
       "      <td>EVANSTON</td>\n",
       "      <td>WY</td>\n",
       "      <td>82930</td>\n",
       "      <td>WY--308</td>\n",
       "      <td>0</td>\n",
       "      <td>0</td>\n",
       "      <td>25620</td>\n",
       "      <td>...</td>\n",
       "      <td>24</td>\n",
       "      <td>23</td>\n",
       "      <td>Metro/Non-Central City</td>\n",
       "      <td>Not in DDA</td>\n",
       "      <td>Not In a Qualified Census Tract</td>\n",
       "      <td>No</td>\n",
       "      <td>None</td>\n",
       "      <td>NaN</td>\n",
       "      <td>NaN</td>\n",
       "      <td>New</td>\n",
       "    </tr>\n",
       "    <tr>\n",
       "      <th>49448</th>\n",
       "      <td>WYA20190005</td>\n",
       "      <td>MISSION VILLAGE OF CHEYENNE</td>\n",
       "      <td>4306 DELL RANGE BOULEVARD</td>\n",
       "      <td>CHEYENNE</td>\n",
       "      <td>WY</td>\n",
       "      <td>82009</td>\n",
       "      <td>WY-99-99</td>\n",
       "      <td>0</td>\n",
       "      <td>0</td>\n",
       "      <td>13900</td>\n",
       "      <td>...</td>\n",
       "      <td>41</td>\n",
       "      <td>41</td>\n",
       "      <td>Metro/Non-Central City</td>\n",
       "      <td>Not in DDA</td>\n",
       "      <td>Not In a Qualified Census Tract</td>\n",
       "      <td>No</td>\n",
       "      <td>None</td>\n",
       "      <td>NaN</td>\n",
       "      <td>NaN</td>\n",
       "      <td>New</td>\n",
       "    </tr>\n",
       "  </tbody>\n",
       "</table>\n",
       "<p>49449 rows × 72 columns</p>\n",
       "</div>"
      ],
      "text/plain": [
       "            hud_id                             project  \\\n",
       "0      AKA0000X003               EAGLE RIDGE TOWNHOMES   \n",
       "1      AKA0000X018  GATEWAY-SEWARD ASSOCIATES, LTD PTN   \n",
       "2      AKA0000X022      JUNEAU AFFORDABLE RENTALS, LLC   \n",
       "3      AKA0000X024             MILL BAY TOWNHOMES, LLC   \n",
       "4      AKA0000X030                TURNAGAIN PLACE APTS   \n",
       "...            ...                                 ...   \n",
       "49444  WYA20190001              ALPINE PARK APARTMENTS   \n",
       "49445  WYA20190002         GRAND MESA APARTMENTS (801)   \n",
       "49446  WYA20190003          GRANITE SPRINGS APARTMENTS   \n",
       "49447  WYA20190004                      HAYDEN COMMONS   \n",
       "49448  WYA20190005         MISSION VILLAGE OF CHEYENNE   \n",
       "\n",
       "                                                proj_add   proj_cty proj_st  \\\n",
       "0                                       1775 NORTH THUMA     PALMER      AK   \n",
       "1                                      1810 PHOENIX ROAD     SEWARD      AK   \n",
       "2                                         SCATTERED SITE     JUNEAU      AK   \n",
       "3                                     1223 MILL BAY ROAD     KODIAK      AK   \n",
       "4                                          2708 COHO WAY  ANCHORAGE      AK   \n",
       "...                                                  ...        ...     ...   \n",
       "49444                                111 BOARDWALK DRIVE     ALPINE      WY   \n",
       "49445  501 S. SNYDER AVENUE #100 GRANDMESA@COSTELLOCO...   CHEYENNE      WY   \n",
       "49446                                 908 E JEFFERSON ST   CHEYENNE      WY   \n",
       "49447                              92 EAST HAYDEN AVENUE   EVANSTON      WY   \n",
       "49448                          4306 DELL RANGE BOULEVARD   CHEYENNE      WY   \n",
       "\n",
       "      proj_zip  state_id  place1990  place2000  place2010  ... n_unitsr  \\\n",
       "0        99645  AK-05-23          0          0      58660  ...       33   \n",
       "1        99664  AK-99-99          0          0      68560  ...       20   \n",
       "2        99801  AK-99-99          0          0      36400  ...       25   \n",
       "3        99615  AK-99-99          0          0      40950  ...       20   \n",
       "4        99517  AK-99-99          0          0       3000  ...       29   \n",
       "...        ...       ...        ...        ...        ...  ...      ...   \n",
       "49444    83128  WY-99-99          0          0       1695  ...       24   \n",
       "49445    82007  WY-99-99          0          0      13900  ...       62   \n",
       "49446    82007  WY-99-99          0          0      29300  ...       24   \n",
       "49447    82930   WY--308          0          0      25620  ...       24   \n",
       "49448    82009  WY-99-99          0          0      13900  ...       41   \n",
       "\n",
       "      li_unitr                   metro         dda  \\\n",
       "0           33  Metro/Non-Central City  Not in DDA   \n",
       "1           20                    None  Not in DDA   \n",
       "2           25                    None  Not in DDA   \n",
       "3           20                    None  Not in DDA   \n",
       "4           29                    None  Not in DDA   \n",
       "...        ...                     ...         ...   \n",
       "49444       24  Metro/Non-Central City  Not in DDA   \n",
       "49445       62  Metro/Non-Central City  Not in DDA   \n",
       "49446       24  Metro/Non-Central City  Not in DDA   \n",
       "49447       23  Metro/Non-Central City  Not in DDA   \n",
       "49448       41  Metro/Non-Central City  Not in DDA   \n",
       "\n",
       "                                   qct nonprog nlm_reason  nlm_spc  datanote  \\\n",
       "0                                 None      No       None      NaN       NaN   \n",
       "1                                 None      No       None      NaN       NaN   \n",
       "2                                 None      No       None      NaN       NaN   \n",
       "3                                 None      No       None      NaN       NaN   \n",
       "4                                 None      No       None      NaN       NaN   \n",
       "...                                ...     ...        ...      ...       ...   \n",
       "49444  Not In a Qualified Census Tract      No       None      NaN       NaN   \n",
       "49445      In a Qualified Census Tract      No       None      NaN       NaN   \n",
       "49446  Not In a Qualified Census Tract      No       None      NaN       NaN   \n",
       "49447  Not In a Qualified Census Tract      No       None      NaN       NaN   \n",
       "49448  Not In a Qualified Census Tract      No       None      NaN       NaN   \n",
       "\n",
       "       record_stat  \n",
       "0         Existing  \n",
       "1         Existing  \n",
       "2          Updated  \n",
       "3         Existing  \n",
       "4          Updated  \n",
       "...            ...  \n",
       "49444          New  \n",
       "49445          New  \n",
       "49446          New  \n",
       "49447          New  \n",
       "49448          New  \n",
       "\n",
       "[49449 rows x 72 columns]"
      ]
     },
     "execution_count": 72,
     "metadata": {},
     "output_type": "execute_result"
    }
   ],
   "source": [
    "X"
   ]
  },
  {
   "cell_type": "code",
   "execution_count": 73,
   "metadata": {},
   "outputs": [
    {
     "data": {
      "text/plain": [
       "0             0\n",
       "1             0\n",
       "2             0\n",
       "3             0\n",
       "4             0\n",
       "          ...  \n",
       "49444         0\n",
       "49445    873987\n",
       "49446         0\n",
       "49447         0\n",
       "49448         0\n",
       "Name: allocamt, Length: 49449, dtype: int64"
      ]
     },
     "execution_count": 73,
     "metadata": {},
     "output_type": "execute_result"
    }
   ],
   "source": [
    "y"
   ]
  },
  {
   "cell_type": "code",
   "execution_count": 74,
   "metadata": {
    "collapsed": true
   },
   "outputs": [],
   "source": [
    "from sklearn.preprocessing import LabelEncoder\n",
    "\n",
    "cat_features = X.columns[X.dtypes == object]\n",
    "# Label Encoding\n",
    "for f in cat_features:\n",
    "    lbl = LabelEncoder()\n",
    "    lbl.fit(list(X[f].values))\n",
    "    X[f] = lbl.transform(list(X[f].values))"
   ]
  },
  {
   "cell_type": "code",
   "execution_count": 75,
   "metadata": {},
   "outputs": [
    {
     "data": {
      "text/html": [
       "<div>\n",
       "<style scoped>\n",
       "    .dataframe tbody tr th:only-of-type {\n",
       "        vertical-align: middle;\n",
       "    }\n",
       "\n",
       "    .dataframe tbody tr th {\n",
       "        vertical-align: top;\n",
       "    }\n",
       "\n",
       "    .dataframe thead th {\n",
       "        text-align: right;\n",
       "    }\n",
       "</style>\n",
       "<table border=\"1\" class=\"dataframe\">\n",
       "  <thead>\n",
       "    <tr style=\"text-align: right;\">\n",
       "      <th></th>\n",
       "      <th>hud_id</th>\n",
       "      <th>project</th>\n",
       "      <th>proj_add</th>\n",
       "      <th>proj_cty</th>\n",
       "      <th>proj_st</th>\n",
       "      <th>proj_zip</th>\n",
       "      <th>state_id</th>\n",
       "      <th>place1990</th>\n",
       "      <th>place2000</th>\n",
       "      <th>place2010</th>\n",
       "      <th>...</th>\n",
       "      <th>n_unitsr</th>\n",
       "      <th>li_unitr</th>\n",
       "      <th>metro</th>\n",
       "      <th>dda</th>\n",
       "      <th>qct</th>\n",
       "      <th>nonprog</th>\n",
       "      <th>nlm_reason</th>\n",
       "      <th>nlm_spc</th>\n",
       "      <th>datanote</th>\n",
       "      <th>record_stat</th>\n",
       "    </tr>\n",
       "  </thead>\n",
       "  <tbody>\n",
       "    <tr>\n",
       "      <th>0</th>\n",
       "      <td>0</td>\n",
       "      <td>13222</td>\n",
       "      <td>12738</td>\n",
       "      <td>4428</td>\n",
       "      <td>0</td>\n",
       "      <td>13795</td>\n",
       "      <td>16965</td>\n",
       "      <td>0</td>\n",
       "      <td>0</td>\n",
       "      <td>58660</td>\n",
       "      <td>...</td>\n",
       "      <td>33</td>\n",
       "      <td>33</td>\n",
       "      <td>1</td>\n",
       "      <td>4</td>\n",
       "      <td>2</td>\n",
       "      <td>0</td>\n",
       "      <td>3</td>\n",
       "      <td>31</td>\n",
       "      <td>10547</td>\n",
       "      <td>0</td>\n",
       "    </tr>\n",
       "    <tr>\n",
       "      <th>1</th>\n",
       "      <td>1</td>\n",
       "      <td>16131</td>\n",
       "      <td>13141</td>\n",
       "      <td>5326</td>\n",
       "      <td>0</td>\n",
       "      <td>13797</td>\n",
       "      <td>17020</td>\n",
       "      <td>0</td>\n",
       "      <td>0</td>\n",
       "      <td>68560</td>\n",
       "      <td>...</td>\n",
       "      <td>20</td>\n",
       "      <td>20</td>\n",
       "      <td>3</td>\n",
       "      <td>4</td>\n",
       "      <td>2</td>\n",
       "      <td>0</td>\n",
       "      <td>3</td>\n",
       "      <td>31</td>\n",
       "      <td>10547</td>\n",
       "      <td>0</td>\n",
       "    </tr>\n",
       "    <tr>\n",
       "      <th>2</th>\n",
       "      <td>2</td>\n",
       "      <td>20707</td>\n",
       "      <td>45431</td>\n",
       "      <td>2871</td>\n",
       "      <td>0</td>\n",
       "      <td>13805</td>\n",
       "      <td>17020</td>\n",
       "      <td>0</td>\n",
       "      <td>0</td>\n",
       "      <td>36400</td>\n",
       "      <td>...</td>\n",
       "      <td>25</td>\n",
       "      <td>25</td>\n",
       "      <td>3</td>\n",
       "      <td>4</td>\n",
       "      <td>2</td>\n",
       "      <td>0</td>\n",
       "      <td>3</td>\n",
       "      <td>31</td>\n",
       "      <td>10547</td>\n",
       "      <td>2</td>\n",
       "    </tr>\n",
       "    <tr>\n",
       "      <th>3</th>\n",
       "      <td>3</td>\n",
       "      <td>25543</td>\n",
       "      <td>6107</td>\n",
       "      <td>3008</td>\n",
       "      <td>0</td>\n",
       "      <td>13793</td>\n",
       "      <td>17020</td>\n",
       "      <td>0</td>\n",
       "      <td>0</td>\n",
       "      <td>40950</td>\n",
       "      <td>...</td>\n",
       "      <td>20</td>\n",
       "      <td>20</td>\n",
       "      <td>3</td>\n",
       "      <td>4</td>\n",
       "      <td>2</td>\n",
       "      <td>0</td>\n",
       "      <td>3</td>\n",
       "      <td>31</td>\n",
       "      <td>10547</td>\n",
       "      <td>0</td>\n",
       "    </tr>\n",
       "    <tr>\n",
       "      <th>4</th>\n",
       "      <td>4</td>\n",
       "      <td>40103</td>\n",
       "      <td>20993</td>\n",
       "      <td>123</td>\n",
       "      <td>0</td>\n",
       "      <td>13786</td>\n",
       "      <td>17020</td>\n",
       "      <td>0</td>\n",
       "      <td>0</td>\n",
       "      <td>3000</td>\n",
       "      <td>...</td>\n",
       "      <td>29</td>\n",
       "      <td>29</td>\n",
       "      <td>3</td>\n",
       "      <td>4</td>\n",
       "      <td>2</td>\n",
       "      <td>0</td>\n",
       "      <td>3</td>\n",
       "      <td>31</td>\n",
       "      <td>10547</td>\n",
       "      <td>2</td>\n",
       "    </tr>\n",
       "    <tr>\n",
       "      <th>...</th>\n",
       "      <td>...</td>\n",
       "      <td>...</td>\n",
       "      <td>...</td>\n",
       "      <td>...</td>\n",
       "      <td>...</td>\n",
       "      <td>...</td>\n",
       "      <td>...</td>\n",
       "      <td>...</td>\n",
       "      <td>...</td>\n",
       "      <td>...</td>\n",
       "      <td>...</td>\n",
       "      <td>...</td>\n",
       "      <td>...</td>\n",
       "      <td>...</td>\n",
       "      <td>...</td>\n",
       "      <td>...</td>\n",
       "      <td>...</td>\n",
       "      <td>...</td>\n",
       "      <td>...</td>\n",
       "      <td>...</td>\n",
       "      <td>...</td>\n",
       "    </tr>\n",
       "    <tr>\n",
       "      <th>49444</th>\n",
       "      <td>49444</td>\n",
       "      <td>3488</td>\n",
       "      <td>3958</td>\n",
       "      <td>83</td>\n",
       "      <td>55</td>\n",
       "      <td>11588</td>\n",
       "      <td>44556</td>\n",
       "      <td>0</td>\n",
       "      <td>0</td>\n",
       "      <td>1695</td>\n",
       "      <td>...</td>\n",
       "      <td>24</td>\n",
       "      <td>24</td>\n",
       "      <td>1</td>\n",
       "      <td>4</td>\n",
       "      <td>1</td>\n",
       "      <td>0</td>\n",
       "      <td>3</td>\n",
       "      <td>31</td>\n",
       "      <td>10547</td>\n",
       "      <td>1</td>\n",
       "    </tr>\n",
       "    <tr>\n",
       "      <th>49445</th>\n",
       "      <td>49445</td>\n",
       "      <td>16728</td>\n",
       "      <td>32182</td>\n",
       "      <td>1015</td>\n",
       "      <td>55</td>\n",
       "      <td>11548</td>\n",
       "      <td>44556</td>\n",
       "      <td>0</td>\n",
       "      <td>0</td>\n",
       "      <td>13900</td>\n",
       "      <td>...</td>\n",
       "      <td>62</td>\n",
       "      <td>62</td>\n",
       "      <td>1</td>\n",
       "      <td>4</td>\n",
       "      <td>0</td>\n",
       "      <td>0</td>\n",
       "      <td>3</td>\n",
       "      <td>31</td>\n",
       "      <td>10547</td>\n",
       "      <td>1</td>\n",
       "    </tr>\n",
       "    <tr>\n",
       "      <th>49446</th>\n",
       "      <td>49446</td>\n",
       "      <td>16819</td>\n",
       "      <td>42745</td>\n",
       "      <td>1015</td>\n",
       "      <td>55</td>\n",
       "      <td>11548</td>\n",
       "      <td>44556</td>\n",
       "      <td>0</td>\n",
       "      <td>0</td>\n",
       "      <td>29300</td>\n",
       "      <td>...</td>\n",
       "      <td>24</td>\n",
       "      <td>24</td>\n",
       "      <td>1</td>\n",
       "      <td>4</td>\n",
       "      <td>1</td>\n",
       "      <td>0</td>\n",
       "      <td>3</td>\n",
       "      <td>31</td>\n",
       "      <td>10547</td>\n",
       "      <td>1</td>\n",
       "    </tr>\n",
       "    <tr>\n",
       "      <th>49447</th>\n",
       "      <td>49447</td>\n",
       "      <td>17966</td>\n",
       "      <td>43056</td>\n",
       "      <td>1841</td>\n",
       "      <td>55</td>\n",
       "      <td>11581</td>\n",
       "      <td>44542</td>\n",
       "      <td>0</td>\n",
       "      <td>0</td>\n",
       "      <td>25620</td>\n",
       "      <td>...</td>\n",
       "      <td>24</td>\n",
       "      <td>23</td>\n",
       "      <td>1</td>\n",
       "      <td>4</td>\n",
       "      <td>1</td>\n",
       "      <td>0</td>\n",
       "      <td>3</td>\n",
       "      <td>31</td>\n",
       "      <td>10547</td>\n",
       "      <td>1</td>\n",
       "    </tr>\n",
       "    <tr>\n",
       "      <th>49448</th>\n",
       "      <td>49448</td>\n",
       "      <td>25809</td>\n",
       "      <td>29726</td>\n",
       "      <td>1015</td>\n",
       "      <td>55</td>\n",
       "      <td>11549</td>\n",
       "      <td>44556</td>\n",
       "      <td>0</td>\n",
       "      <td>0</td>\n",
       "      <td>13900</td>\n",
       "      <td>...</td>\n",
       "      <td>41</td>\n",
       "      <td>41</td>\n",
       "      <td>1</td>\n",
       "      <td>4</td>\n",
       "      <td>1</td>\n",
       "      <td>0</td>\n",
       "      <td>3</td>\n",
       "      <td>31</td>\n",
       "      <td>10547</td>\n",
       "      <td>1</td>\n",
       "    </tr>\n",
       "  </tbody>\n",
       "</table>\n",
       "<p>49449 rows × 72 columns</p>\n",
       "</div>"
      ],
      "text/plain": [
       "       hud_id  project  proj_add  proj_cty  proj_st  proj_zip  state_id  \\\n",
       "0           0    13222     12738      4428        0     13795     16965   \n",
       "1           1    16131     13141      5326        0     13797     17020   \n",
       "2           2    20707     45431      2871        0     13805     17020   \n",
       "3           3    25543      6107      3008        0     13793     17020   \n",
       "4           4    40103     20993       123        0     13786     17020   \n",
       "...       ...      ...       ...       ...      ...       ...       ...   \n",
       "49444   49444     3488      3958        83       55     11588     44556   \n",
       "49445   49445    16728     32182      1015       55     11548     44556   \n",
       "49446   49446    16819     42745      1015       55     11548     44556   \n",
       "49447   49447    17966     43056      1841       55     11581     44542   \n",
       "49448   49448    25809     29726      1015       55     11549     44556   \n",
       "\n",
       "       place1990  place2000  place2010  ...  n_unitsr  li_unitr  metro  dda  \\\n",
       "0              0          0      58660  ...        33        33      1    4   \n",
       "1              0          0      68560  ...        20        20      3    4   \n",
       "2              0          0      36400  ...        25        25      3    4   \n",
       "3              0          0      40950  ...        20        20      3    4   \n",
       "4              0          0       3000  ...        29        29      3    4   \n",
       "...          ...        ...        ...  ...       ...       ...    ...  ...   \n",
       "49444          0          0       1695  ...        24        24      1    4   \n",
       "49445          0          0      13900  ...        62        62      1    4   \n",
       "49446          0          0      29300  ...        24        24      1    4   \n",
       "49447          0          0      25620  ...        24        23      1    4   \n",
       "49448          0          0      13900  ...        41        41      1    4   \n",
       "\n",
       "       qct  nonprog  nlm_reason  nlm_spc  datanote  record_stat  \n",
       "0        2        0           3       31     10547            0  \n",
       "1        2        0           3       31     10547            0  \n",
       "2        2        0           3       31     10547            2  \n",
       "3        2        0           3       31     10547            0  \n",
       "4        2        0           3       31     10547            2  \n",
       "...    ...      ...         ...      ...       ...          ...  \n",
       "49444    1        0           3       31     10547            1  \n",
       "49445    0        0           3       31     10547            1  \n",
       "49446    1        0           3       31     10547            1  \n",
       "49447    1        0           3       31     10547            1  \n",
       "49448    1        0           3       31     10547            1  \n",
       "\n",
       "[49449 rows x 72 columns]"
      ]
     },
     "execution_count": 75,
     "metadata": {},
     "output_type": "execute_result"
    }
   ],
   "source": [
    "X"
   ]
  },
  {
   "cell_type": "markdown",
   "metadata": {},
   "source": [
    "# Splitting Training / Test Data"
   ]
  },
  {
   "cell_type": "code",
   "execution_count": 76,
   "metadata": {
    "collapsed": true
   },
   "outputs": [],
   "source": [
    "# from sklearn.preprocessing import StandardScaler\n",
    "from sklearn.model_selection import train_test_split\n",
    "\n",
    "# from scipy.misc import comb"
   ]
  },
  {
   "cell_type": "code",
   "execution_count": 77,
   "metadata": {
    "collapsed": true
   },
   "outputs": [],
   "source": [
    "X_train, X_test, y_train, y_test = train_test_split(X, y, random_state=40)"
   ]
  },
  {
   "cell_type": "markdown",
   "metadata": {},
   "source": [
    "# Select and Train a Model"
   ]
  },
  {
   "cell_type": "code",
   "execution_count": 78,
   "metadata": {},
   "outputs": [
    {
     "data": {
      "text/html": [
       "<div>\n",
       "<style scoped>\n",
       "    .dataframe tbody tr th:only-of-type {\n",
       "        vertical-align: middle;\n",
       "    }\n",
       "\n",
       "    .dataframe tbody tr th {\n",
       "        vertical-align: top;\n",
       "    }\n",
       "\n",
       "    .dataframe thead th {\n",
       "        text-align: right;\n",
       "    }\n",
       "</style>\n",
       "<table border=\"1\" class=\"dataframe\">\n",
       "  <thead>\n",
       "    <tr style=\"text-align: right;\">\n",
       "      <th></th>\n",
       "      <th>hud_id</th>\n",
       "      <th>project</th>\n",
       "      <th>proj_add</th>\n",
       "      <th>proj_cty</th>\n",
       "      <th>proj_st</th>\n",
       "      <th>proj_zip</th>\n",
       "      <th>state_id</th>\n",
       "      <th>place1990</th>\n",
       "      <th>place2000</th>\n",
       "      <th>place2010</th>\n",
       "      <th>...</th>\n",
       "      <th>n_unitsr</th>\n",
       "      <th>li_unitr</th>\n",
       "      <th>metro</th>\n",
       "      <th>dda</th>\n",
       "      <th>qct</th>\n",
       "      <th>nonprog</th>\n",
       "      <th>nlm_reason</th>\n",
       "      <th>nlm_spc</th>\n",
       "      <th>datanote</th>\n",
       "      <th>record_stat</th>\n",
       "    </tr>\n",
       "  </thead>\n",
       "  <tbody>\n",
       "    <tr>\n",
       "      <th>24074</th>\n",
       "      <td>24074</td>\n",
       "      <td>33342</td>\n",
       "      <td>15942</td>\n",
       "      <td>5029</td>\n",
       "      <td>28</td>\n",
       "      <td>5180</td>\n",
       "      <td>32658</td>\n",
       "      <td>1115</td>\n",
       "      <td>63560</td>\n",
       "      <td>63560</td>\n",
       "      <td>...</td>\n",
       "      <td>32</td>\n",
       "      <td>31</td>\n",
       "      <td>1</td>\n",
       "      <td>4</td>\n",
       "      <td>1</td>\n",
       "      <td>0</td>\n",
       "      <td>3</td>\n",
       "      <td>31</td>\n",
       "      <td>10547</td>\n",
       "      <td>0</td>\n",
       "    </tr>\n",
       "    <tr>\n",
       "      <th>47404</th>\n",
       "      <td>47404</td>\n",
       "      <td>8695</td>\n",
       "      <td>25910</td>\n",
       "      <td>1988</td>\n",
       "      <td>52</td>\n",
       "      <td>13539</td>\n",
       "      <td>2343</td>\n",
       "      <td>465</td>\n",
       "      <td>24810</td>\n",
       "      <td>24810</td>\n",
       "      <td>...</td>\n",
       "      <td>30</td>\n",
       "      <td>30</td>\n",
       "      <td>1</td>\n",
       "      <td>2</td>\n",
       "      <td>1</td>\n",
       "      <td>0</td>\n",
       "      <td>3</td>\n",
       "      <td>31</td>\n",
       "      <td>10334</td>\n",
       "      <td>2</td>\n",
       "    </tr>\n",
       "    <tr>\n",
       "      <th>35123</th>\n",
       "      <td>35123</td>\n",
       "      <td>24887</td>\n",
       "      <td>748</td>\n",
       "      <td>5351</td>\n",
       "      <td>38</td>\n",
       "      <td>5916</td>\n",
       "      <td>12434</td>\n",
       "      <td>3945</td>\n",
       "      <td>72102</td>\n",
       "      <td>72102</td>\n",
       "      <td>...</td>\n",
       "      <td>50</td>\n",
       "      <td>39</td>\n",
       "      <td>1</td>\n",
       "      <td>4</td>\n",
       "      <td>1</td>\n",
       "      <td>0</td>\n",
       "      <td>3</td>\n",
       "      <td>31</td>\n",
       "      <td>10547</td>\n",
       "      <td>0</td>\n",
       "    </tr>\n",
       "    <tr>\n",
       "      <th>28475</th>\n",
       "      <td>28475</td>\n",
       "      <td>16900</td>\n",
       "      <td>205</td>\n",
       "      <td>1793</td>\n",
       "      <td>34</td>\n",
       "      <td>10726</td>\n",
       "      <td>8500</td>\n",
       "      <td>0</td>\n",
       "      <td>0</td>\n",
       "      <td>21480</td>\n",
       "      <td>...</td>\n",
       "      <td>270</td>\n",
       "      <td>270</td>\n",
       "      <td>3</td>\n",
       "      <td>4</td>\n",
       "      <td>2</td>\n",
       "      <td>0</td>\n",
       "      <td>3</td>\n",
       "      <td>31</td>\n",
       "      <td>10547</td>\n",
       "      <td>1</td>\n",
       "    </tr>\n",
       "    <tr>\n",
       "      <th>31339</th>\n",
       "      <td>31339</td>\n",
       "      <td>36213</td>\n",
       "      <td>31788</td>\n",
       "      <td>4708</td>\n",
       "      <td>37</td>\n",
       "      <td>347</td>\n",
       "      <td>5738</td>\n",
       "      <td>2925</td>\n",
       "      <td>59223</td>\n",
       "      <td>59223</td>\n",
       "      <td>...</td>\n",
       "      <td>65</td>\n",
       "      <td>64</td>\n",
       "      <td>1</td>\n",
       "      <td>4</td>\n",
       "      <td>1</td>\n",
       "      <td>0</td>\n",
       "      <td>3</td>\n",
       "      <td>31</td>\n",
       "      <td>10547</td>\n",
       "      <td>0</td>\n",
       "    </tr>\n",
       "  </tbody>\n",
       "</table>\n",
       "<p>5 rows × 72 columns</p>\n",
       "</div>"
      ],
      "text/plain": [
       "       hud_id  project  proj_add  proj_cty  proj_st  proj_zip  state_id  \\\n",
       "24074   24074    33342     15942      5029       28      5180     32658   \n",
       "47404   47404     8695     25910      1988       52     13539      2343   \n",
       "35123   35123    24887       748      5351       38      5916     12434   \n",
       "28475   28475    16900       205      1793       34     10726      8500   \n",
       "31339   31339    36213     31788      4708       37       347      5738   \n",
       "\n",
       "       place1990  place2000  place2010  ...  n_unitsr  li_unitr  metro  dda  \\\n",
       "24074       1115      63560      63560  ...        32        31      1    4   \n",
       "47404        465      24810      24810  ...        30        30      1    2   \n",
       "35123       3945      72102      72102  ...        50        39      1    4   \n",
       "28475          0          0      21480  ...       270       270      3    4   \n",
       "31339       2925      59223      59223  ...        65        64      1    4   \n",
       "\n",
       "       qct  nonprog  nlm_reason  nlm_spc  datanote  record_stat  \n",
       "24074    1        0           3       31     10547            0  \n",
       "47404    1        0           3       31     10334            2  \n",
       "35123    1        0           3       31     10547            0  \n",
       "28475    2        0           3       31     10547            1  \n",
       "31339    1        0           3       31     10547            0  \n",
       "\n",
       "[5 rows x 72 columns]"
      ]
     },
     "execution_count": 78,
     "metadata": {},
     "output_type": "execute_result"
    }
   ],
   "source": [
    "X_train.head()"
   ]
  },
  {
   "cell_type": "code",
   "execution_count": 79,
   "metadata": {},
   "outputs": [
    {
     "data": {
      "text/plain": [
       "24074      46743\n",
       "47404     618300\n",
       "35123     187756\n",
       "28475    1066870\n",
       "31339          0\n",
       "Name: allocamt, dtype: int64"
      ]
     },
     "execution_count": 79,
     "metadata": {},
     "output_type": "execute_result"
    }
   ],
   "source": [
    "y_train.head()"
   ]
  },
  {
   "cell_type": "code",
   "execution_count": 80,
   "metadata": {
    "collapsed": true
   },
   "outputs": [],
   "source": [
    "from sklearn.metrics import mean_squared_error\n",
    "from sklearn.metrics import mean_absolute_error"
   ]
  },
  {
   "cell_type": "code",
   "execution_count": 81,
   "metadata": {},
   "outputs": [
    {
     "data": {
      "text/plain": [
       "LinearRegression()"
      ]
     },
     "execution_count": 81,
     "metadata": {},
     "output_type": "execute_result"
    }
   ],
   "source": [
    "from sklearn.linear_model import LinearRegression\n",
    "\n",
    "lin_reg = LinearRegression()\n",
    "lin_reg.fit(X_train,y_train)"
   ]
  },
  {
   "cell_type": "code",
   "execution_count": 82,
   "metadata": {},
   "outputs": [
    {
     "data": {
      "text/html": [
       "<div>\n",
       "<style scoped>\n",
       "    .dataframe tbody tr th:only-of-type {\n",
       "        vertical-align: middle;\n",
       "    }\n",
       "\n",
       "    .dataframe tbody tr th {\n",
       "        vertical-align: top;\n",
       "    }\n",
       "\n",
       "    .dataframe thead th {\n",
       "        text-align: right;\n",
       "    }\n",
       "</style>\n",
       "<table border=\"1\" class=\"dataframe\">\n",
       "  <thead>\n",
       "    <tr style=\"text-align: right;\">\n",
       "      <th></th>\n",
       "      <th>hud_id</th>\n",
       "      <th>project</th>\n",
       "      <th>proj_add</th>\n",
       "      <th>proj_cty</th>\n",
       "      <th>proj_st</th>\n",
       "      <th>proj_zip</th>\n",
       "      <th>state_id</th>\n",
       "      <th>place1990</th>\n",
       "      <th>place2000</th>\n",
       "      <th>place2010</th>\n",
       "      <th>...</th>\n",
       "      <th>n_unitsr</th>\n",
       "      <th>li_unitr</th>\n",
       "      <th>metro</th>\n",
       "      <th>dda</th>\n",
       "      <th>qct</th>\n",
       "      <th>nonprog</th>\n",
       "      <th>nlm_reason</th>\n",
       "      <th>nlm_spc</th>\n",
       "      <th>datanote</th>\n",
       "      <th>record_stat</th>\n",
       "    </tr>\n",
       "  </thead>\n",
       "  <tbody>\n",
       "    <tr>\n",
       "      <th>100</th>\n",
       "      <td>100</td>\n",
       "      <td>42562</td>\n",
       "      <td>7225</td>\n",
       "      <td>1868</td>\n",
       "      <td>0</td>\n",
       "      <td>13802</td>\n",
       "      <td>16969</td>\n",
       "      <td>1080</td>\n",
       "      <td>24230</td>\n",
       "      <td>24230</td>\n",
       "      <td>...</td>\n",
       "      <td>56</td>\n",
       "      <td>56</td>\n",
       "      <td>1</td>\n",
       "      <td>4</td>\n",
       "      <td>1</td>\n",
       "      <td>0</td>\n",
       "      <td>3</td>\n",
       "      <td>31</td>\n",
       "      <td>3027</td>\n",
       "      <td>0</td>\n",
       "    </tr>\n",
       "  </tbody>\n",
       "</table>\n",
       "<p>1 rows × 72 columns</p>\n",
       "</div>"
      ],
      "text/plain": [
       "     hud_id  project  proj_add  proj_cty  proj_st  proj_zip  state_id  \\\n",
       "100     100    42562      7225      1868        0     13802     16969   \n",
       "\n",
       "     place1990  place2000  place2010  ...  n_unitsr  li_unitr  metro  dda  \\\n",
       "100       1080      24230      24230  ...        56        56      1    4   \n",
       "\n",
       "     qct  nonprog  nlm_reason  nlm_spc  datanote  record_stat  \n",
       "100    1        0           3       31      3027            0  \n",
       "\n",
       "[1 rows x 72 columns]"
      ]
     },
     "execution_count": 82,
     "metadata": {},
     "output_type": "execute_result"
    }
   ],
   "source": [
    "j = 100\n",
    "some_sample = X.iloc[j,:]\n",
    "some_sample = pd.DataFrame(some_sample).T\n",
    "some_sample"
   ]
  },
  {
   "cell_type": "code",
   "execution_count": 83,
   "metadata": {},
   "outputs": [
    {
     "data": {
      "text/plain": [
       "array([630917.64231351])"
      ]
     },
     "execution_count": 83,
     "metadata": {},
     "output_type": "execute_result"
    }
   ],
   "source": [
    "lin_reg.predict(some_sample)"
   ]
  },
  {
   "cell_type": "code",
   "execution_count": 84,
   "metadata": {},
   "outputs": [
    {
     "data": {
      "text/plain": [
       "array([ 5.26049961e-01, -2.48828187e-01,  1.69989107e-02,  6.64761265e-01,\n",
       "        4.32393141e+03,  5.15378017e+00, -5.20940081e+00,  1.62960130e+01,\n",
       "       -1.75742869e+00,  7.67686566e-01, -1.19819892e+01, -8.02068779e+00,\n",
       "        2.29739684e+01, -3.29962813e+03, -3.39241338e+02,  2.11329782e+05,\n",
       "       -8.22011111e+04,  5.10068655e+02,  2.06475792e+03,  1.14216866e+03,\n",
       "       -2.96505168e+02, -1.86737363e+03,  3.09577894e+01,  1.83182392e+03,\n",
       "       -7.85745512e+04, -5.25517532e+03,  1.65024869e+03, -8.84293985e+00,\n",
       "       -1.11623806e+01,  3.60620788e+04,  4.97941205e+04,  3.64730789e+04,\n",
       "       -5.07094182e+04,  9.25873275e+04, -2.44045886e+04, -1.18643060e+03,\n",
       "        2.87464087e+04, -7.99817503e-03,  3.36092138e+04, -9.14455826e-03,\n",
       "       -6.09311873e+04, -4.27634692e-03,  2.26548268e+05, -3.66077741e-01,\n",
       "        4.67221037e+04, -1.72687088e+05,  6.78834910e-02, -3.74071936e+03,\n",
       "        2.20640477e-02, -7.32802060e+03, -2.57577836e+05,  0.00000000e+00,\n",
       "        1.40002782e+04, -2.84075643e+03, -6.91033759e+04,  2.60965638e+04,\n",
       "        9.32185972e+04, -1.58226920e+05,  3.11106914e+04,  1.18592473e+03,\n",
       "        5.04766578e+04,  3.76824464e+02, -2.42512965e+02,  1.11653979e+03,\n",
       "        8.26011500e+04, -4.37574957e+04, -1.53564456e+05,  1.60757626e+04,\n",
       "        2.82763806e+04,  1.93583925e+03,  8.49676343e+00, -5.74011440e+04])"
      ]
     },
     "execution_count": 84,
     "metadata": {},
     "output_type": "execute_result"
    }
   ],
   "source": [
    "lin_reg.coef_"
   ]
  },
  {
   "cell_type": "code",
   "execution_count": 85,
   "metadata": {},
   "outputs": [
    {
     "data": {
      "text/plain": [
       "0.06588060522755346"
      ]
     },
     "execution_count": 85,
     "metadata": {},
     "output_type": "execute_result"
    }
   ],
   "source": [
    "lin_reg.score(X_test,y_test)"
   ]
  },
  {
   "cell_type": "code",
   "execution_count": 86,
   "metadata": {},
   "outputs": [
    {
     "data": {
      "text/plain": [
       "array([175718.68103749, 323689.55729956, -52160.12925737, ...,\n",
       "       -54438.86578536, 279310.36976395, 101346.38161398])"
      ]
     },
     "execution_count": 86,
     "metadata": {},
     "output_type": "execute_result"
    }
   ],
   "source": [
    "predLinReg = lin_reg.predict(X_test)\n",
    "predLinReg"
   ]
  },
  {
   "cell_type": "code",
   "execution_count": 87,
   "metadata": {},
   "outputs": [
    {
     "data": {
      "text/plain": [
       "(12363,)"
      ]
     },
     "execution_count": 87,
     "metadata": {},
     "output_type": "execute_result"
    }
   ],
   "source": [
    "predLinReg.shape"
   ]
  },
  {
   "cell_type": "markdown",
   "metadata": {},
   "source": [
    "# Random Forest Regressor"
   ]
  },
  {
   "cell_type": "code",
   "execution_count": 88,
   "metadata": {
    "collapsed": true
   },
   "outputs": [],
   "source": [
    "# from sklearn.model_selection import train_test_split\n",
    "\n",
    "# X_train, X_test, y_train, y_test = train_test_split(data, label, test_size=0.33, random_state=1)\n",
    "from sklearn.ensemble import RandomForestRegressor\n",
    "# Instantiate model with 1200 decision trees\n",
    "#nombre de feuille dans arbre   criterion:mean absolut error\n",
    "RandoForest = RandomForestRegressor( random_state = 0,n_estimators=700,criterion='mse')"
   ]
  },
  {
   "cell_type": "code",
   "execution_count": 89,
   "metadata": {},
   "outputs": [
    {
     "data": {
      "text/plain": [
       "RandomForestRegressor(n_estimators=700, random_state=0)"
      ]
     },
     "execution_count": 89,
     "metadata": {},
     "output_type": "execute_result"
    }
   ],
   "source": [
    "RandoForest.fit(X_train,y_train)"
   ]
  },
  {
   "cell_type": "code",
   "execution_count": 90,
   "metadata": {},
   "outputs": [
    {
     "data": {
      "text/plain": [
       "array([329339.30571429])"
      ]
     },
     "execution_count": 90,
     "metadata": {},
     "output_type": "execute_result"
    }
   ],
   "source": [
    "RandoForest.predict(some_sample)"
   ]
  },
  {
   "cell_type": "code",
   "execution_count": 91,
   "metadata": {},
   "outputs": [
    {
     "data": {
      "text/plain": [
       "0.18438228306345728"
      ]
     },
     "execution_count": 91,
     "metadata": {},
     "output_type": "execute_result"
    }
   ],
   "source": [
    "RandoForest.score(X_test,y_test)"
   ]
  },
  {
   "cell_type": "code",
   "execution_count": 92,
   "metadata": {},
   "outputs": [
    {
     "data": {
      "text/plain": [
       "array([8.24948679e-02, 3.16267421e-02, 2.63137146e-02, 1.58934896e-02,\n",
       "       4.01173507e-03, 4.39037010e-02, 1.05125194e-01, 1.05286345e-02,\n",
       "       7.56768454e-03, 1.45058804e-02, 8.87269256e-03, 1.54538370e-02,\n",
       "       3.79416650e-02, 4.08357500e-03, 1.54587141e-02, 2.72985306e-03,\n",
       "       4.40371424e-03, 4.06589012e-02, 7.93744570e-02, 1.69956136e-02,\n",
       "       1.83057925e-02, 1.20397689e-02, 9.55928403e-03, 1.01897195e-02,\n",
       "       1.31524885e-02, 4.33426920e-03, 9.62638445e-03, 6.63443803e-02,\n",
       "       6.17030958e-02, 4.64760864e-03, 7.57585855e-03, 3.02799004e-03,\n",
       "       1.81732492e-03, 1.50806425e-03, 1.52893402e-03, 7.88797841e-04,\n",
       "       1.19894638e-03, 1.30454534e-03, 1.46536067e-03, 1.81305276e-03,\n",
       "       1.03228253e-03, 1.82984517e-04, 1.79746302e-03, 1.61365367e-06,\n",
       "       1.78159624e-03, 1.94844590e-03, 1.09303339e-03, 1.22226805e-03,\n",
       "       8.65994099e-03, 8.13189861e-03, 5.65269097e-03, 0.00000000e+00,\n",
       "       4.40228133e-03, 6.41179408e-03, 4.66019201e-03, 4.31142223e-03,\n",
       "       1.93284416e-03, 1.81793244e-03, 3.87312762e-03, 1.52272196e-02,\n",
       "       1.40948065e-02, 1.23108013e-02, 2.49242969e-02, 4.88890081e-02,\n",
       "       1.11009573e-03, 2.80491618e-03, 5.25993293e-03, 3.14977451e-03,\n",
       "       9.92591341e-06, 2.67418245e-05, 9.52558195e-03, 3.87675340e-03])"
      ]
     },
     "execution_count": 92,
     "metadata": {},
     "output_type": "execute_result"
    }
   ],
   "source": [
    "RandoForest.feature_importances_"
   ]
  },
  {
   "cell_type": "code",
   "execution_count": 93,
   "metadata": {},
   "outputs": [
    {
     "data": {
      "text/html": [
       "<div>\n",
       "<style scoped>\n",
       "    .dataframe tbody tr th:only-of-type {\n",
       "        vertical-align: middle;\n",
       "    }\n",
       "\n",
       "    .dataframe tbody tr th {\n",
       "        vertical-align: top;\n",
       "    }\n",
       "\n",
       "    .dataframe thead th {\n",
       "        text-align: right;\n",
       "    }\n",
       "</style>\n",
       "<table border=\"1\" class=\"dataframe\">\n",
       "  <thead>\n",
       "    <tr style=\"text-align: right;\">\n",
       "      <th></th>\n",
       "      <th>feature</th>\n",
       "      <th>importance</th>\n",
       "    </tr>\n",
       "  </thead>\n",
       "  <tbody>\n",
       "    <tr>\n",
       "      <th>6</th>\n",
       "      <td>state_id</td>\n",
       "      <td>0.105125</td>\n",
       "    </tr>\n",
       "    <tr>\n",
       "      <th>0</th>\n",
       "      <td>hud_id</td>\n",
       "      <td>0.082495</td>\n",
       "    </tr>\n",
       "    <tr>\n",
       "      <th>18</th>\n",
       "      <td>li_units</td>\n",
       "      <td>0.079374</td>\n",
       "    </tr>\n",
       "    <tr>\n",
       "      <th>27</th>\n",
       "      <td>yr_pis</td>\n",
       "      <td>0.066344</td>\n",
       "    </tr>\n",
       "    <tr>\n",
       "      <th>28</th>\n",
       "      <td>yr_alloc</td>\n",
       "      <td>0.061703</td>\n",
       "    </tr>\n",
       "    <tr>\n",
       "      <th>63</th>\n",
       "      <td>li_unitr</td>\n",
       "      <td>0.048889</td>\n",
       "    </tr>\n",
       "    <tr>\n",
       "      <th>5</th>\n",
       "      <td>proj_zip</td>\n",
       "      <td>0.043904</td>\n",
       "    </tr>\n",
       "    <tr>\n",
       "      <th>17</th>\n",
       "      <td>n_units</td>\n",
       "      <td>0.040659</td>\n",
       "    </tr>\n",
       "    <tr>\n",
       "      <th>12</th>\n",
       "      <td>fips2010</td>\n",
       "      <td>0.037942</td>\n",
       "    </tr>\n",
       "    <tr>\n",
       "      <th>1</th>\n",
       "      <td>project</td>\n",
       "      <td>0.031627</td>\n",
       "    </tr>\n",
       "  </tbody>\n",
       "</table>\n",
       "</div>"
      ],
      "text/plain": [
       "     feature  importance\n",
       "6   state_id    0.105125\n",
       "0     hud_id    0.082495\n",
       "18  li_units    0.079374\n",
       "27    yr_pis    0.066344\n",
       "28  yr_alloc    0.061703\n",
       "63  li_unitr    0.048889\n",
       "5   proj_zip    0.043904\n",
       "17   n_units    0.040659\n",
       "12  fips2010    0.037942\n",
       "1    project    0.031627"
      ]
     },
     "execution_count": 93,
     "metadata": {},
     "output_type": "execute_result"
    }
   ],
   "source": [
    " importances = pd.DataFrame({\"feature\": X_train.columns, \"importance\": RandoForest.feature_importances_})\n",
    " importances.sort_values(\"importance\", ascending=False)[:10]"
   ]
  },
  {
   "cell_type": "code",
   "execution_count": 94,
   "metadata": {},
   "outputs": [
    {
     "data": {
      "text/plain": [
       "<AxesSubplot:xlabel='importance', ylabel='feature'>"
      ]
     },
     "execution_count": 94,
     "metadata": {},
     "output_type": "execute_result"
    },
    {
     "data": {
      "image/png": "[encoded data removed]",
      "text/plain": [
       "<Figure size 432x288 with 1 Axes>"
      ]
     },
     "metadata": {},
     "output_type": "display_data"
    }
   ],
   "source": [
    "sns.barplot(data=importances.sort_values(\"importance\", ascending=False).head(8), x=\"importance\", y=\"feature\")"
   ]
  },
  {
   "cell_type": "code",
   "execution_count": 95,
   "metadata": {
    "collapsed": true
   },
   "outputs": [],
   "source": [
    "predForest = RandoForest.predict(X_test)"
   ]
  },
  {
   "cell_type": "code",
   "execution_count": 96,
   "metadata": {},
   "outputs": [
    {
     "data": {
      "text/plain": [
       "1383124.9251874087"
      ]
     },
     "execution_count": 96,
     "metadata": {},
     "output_type": "execute_result"
    }
   ],
   "source": [
    "lin_mse_forest = mean_squared_error(y_test, predForest)\n",
    "lin_rmse_forest = np.sqrt(lin_mse_forest)\n",
    "lin_rmse_forest"
   ]
  },
  {
   "cell_type": "code",
   "execution_count": 97,
   "metadata": {},
   "outputs": [
    {
     "data": {
      "text/plain": [
       "183504.43760737687"
      ]
     },
     "execution_count": 97,
     "metadata": {},
     "output_type": "execute_result"
    }
   ],
   "source": [
    "lin_mae_forest = mean_absolute_error(y_test, predForest)\n",
    "lin_mae_forest"
   ]
  },
  {
   "cell_type": "code",
   "execution_count": 98,
   "metadata": {},
   "outputs": [
    {
     "data": {
      "text/plain": [
       "1480196.172637975"
      ]
     },
     "execution_count": 98,
     "metadata": {},
     "output_type": "execute_result"
    }
   ],
   "source": [
    "lin_mse_lin_reg = mean_squared_error(y_test, predLinReg) \n",
    "lin_rmse_lin_reg = np.sqrt(lin_mse_lin_reg)\n",
    "lin_rmse_lin_reg"
   ]
  },
  {
   "cell_type": "code",
   "execution_count": 99,
   "metadata": {},
   "outputs": [
    {
     "data": {
      "text/plain": [
       "323018.53344329726"
      ]
     },
     "execution_count": 99,
     "metadata": {},
     "output_type": "execute_result"
    }
   ],
   "source": [
    "lin_mae_lin_reg = mean_absolute_error(y_test, predLinReg)\n",
    "lin_mae_lin_reg"
   ]
  },
  {
   "cell_type": "code",
   "execution_count": null,
   "metadata": {
    "collapsed": true
   },
   "outputs": [],
   "source": []
  },
  {
   "cell_type": "code",
   "execution_count": null,
   "metadata": {
    "collapsed": true
   },
   "outputs": [],
   "source": []
  }
 ],
 "metadata": {
  "kernelspec": {
   "display_name": "Python 3",
   "language": "python",
   "name": "python3"
  },
  "language_info": {
   "codemirror_mode": {
    "name": "ipython",
    "version": 3
   },
   "file_extension": ".py",
   "mimetype": "text/x-python",
   "name": "python",
   "nbconvert_exporter": "python",
   "pygments_lexer": "ipython3",
   "version": "3.6.1"
  }
 },
 "nbformat": 4,
 "nbformat_minor": 2
}
