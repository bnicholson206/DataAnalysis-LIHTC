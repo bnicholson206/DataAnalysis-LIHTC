{
 "cells": [
  {
   "cell_type": "markdown",
   "metadata": {},
   "source": [
    "### What is the objective of this project? \n",
    "\n",
    "The objective for this project is to explore the LIHTC dataset, get a better understanding of the program, and build a regressor to predict what the allocated amount for a project ought to be based off of various features in the dataset.\n",
    "\n",
    "We also might build a classifier to determine if a particular project qualifies for certain binary criteria. This depends on the quality of the data.\n",
    "\n"
   ]
  },
  {
   "cell_type": "markdown",
   "metadata": {},
   "source": [
    "### How should the problem be framed? \n",
    "\n",
    "We should use a regression algorithm as we are looking to predict whether amount allocated to a particular area."
   ]
  },
  {
   "cell_type": "markdown",
   "metadata": {},
   "source": [
    "![lihtc](https://camo.githubusercontent.com/af8ed0a0f65baaa8c90afabbd29e8b1fbc19b48fcf63b86028d5143a0d22acb9/68747470733a2f2f7777772e696864612e6f72672f77702d636f6e74656e742f75706c6f6164732f323031352f30382f494844412d4c6f772d496e636f6d652d5461782d4372656469742d30322d332e6a7067)"
   ]
  },
  {
   "cell_type": "markdown",
   "metadata": {},
   "source": [
    "# Initialize Packages"
   ]
  },
  {
   "cell_type": "code",
   "execution_count": 808,
   "metadata": {
    "collapsed": true
   },
   "outputs": [],
   "source": [
    "import pandas as pd\n",
    "import numpy as np\n",
    "\n",
    "import matplotlib.pyplot as plt\n",
    "%matplotlib inline\n",
    "import seaborn as sns"
   ]
  },
  {
   "cell_type": "markdown",
   "metadata": {},
   "source": [
    "# Load data"
   ]
  },
  {
   "cell_type": "code",
   "execution_count": 809,
   "metadata": {
    "collapsed": true
   },
   "outputs": [],
   "source": [
    "pd.set_option('display.max_rows', 20)"
   ]
  },
  {
   "cell_type": "code",
   "execution_count": 810,
   "metadata": {
    "collapsed": true
   },
   "outputs": [],
   "source": [
    "pathname = '/Users/blakenicholson/Documents/Personal/Coding/DataAnalysis-LIHTC/LIHTCPUB.CSV'"
   ]
  },
  {
   "cell_type": "code",
   "execution_count": 811,
   "metadata": {
    "collapsed": true
   },
   "outputs": [],
   "source": [
    "df = pd.read_csv(pathname, low_memory=False)"
   ]
  },
  {
   "cell_type": "code",
   "execution_count": 812,
   "metadata": {},
   "outputs": [
    {
     "data": {
      "text/plain": [
       "(49449, 75)"
      ]
     },
     "execution_count": 812,
     "metadata": {},
     "output_type": "execute_result"
    }
   ],
   "source": [
    "df.shape"
   ]
  },
  {
   "cell_type": "code",
   "execution_count": 813,
   "metadata": {},
   "outputs": [
    {
     "data": {
      "text/plain": [
       "Index(['hud_id', 'project', 'proj_add', 'proj_cty', 'proj_st', 'proj_zip',\n",
       "       'state_id', 'latitude', 'longitude', 'place1990', 'place2000',\n",
       "       'place2010', 'fips1990', 'fips2000', 'fips2010', 'st2010', 'cnty2010',\n",
       "       'scattered_site_cd', 'resyndication_cd', 'allocamt', 'n_units',\n",
       "       'li_units', 'n_0br', 'n_1br', 'n_2br', 'n_3br', 'n_4br', 'inc_ceil',\n",
       "       'low_ceil', 'ceilunit', 'yr_pis', 'yr_alloc', 'non_prof', 'basis',\n",
       "       'bond', 'mff_ra', 'fmha_514', 'fmha_515', 'fmha_538', 'home',\n",
       "       'home_amt', 'tcap', 'tcap_amt', 'cdbg', 'cdbg_amt', 'htf', 'htf_amt',\n",
       "       'fha', 'hopevi', 'hpvi_amt', 'tcep', 'tcep_amt', 'rad', 'qozf',\n",
       "       'qozf_amt', 'rentassist', 'trgt_pop', 'trgt_fam', 'trgt_eld',\n",
       "       'trgt_dis', 'trgt_hml', 'trgt_other', 'trgt_spc', 'type', 'credit',\n",
       "       'n_unitsr', 'li_unitr', 'metro', 'dda', 'qct', 'nonprog', 'nlm_reason',\n",
       "       'nlm_spc', 'datanote', 'record_stat'],\n",
       "      dtype='object')"
      ]
     },
     "execution_count": 813,
     "metadata": {},
     "output_type": "execute_result"
    }
   ],
   "source": [
    "df.columns"
   ]
  },
  {
   "cell_type": "markdown",
   "metadata": {},
   "source": [
    "Let's check out the first few rows."
   ]
  },
  {
   "cell_type": "code",
   "execution_count": 814,
   "metadata": {
    "scrolled": true
   },
   "outputs": [
    {
     "data": {
      "text/html": [
       "<div>\n",
       "<style scoped>\n",
       "    .dataframe tbody tr th:only-of-type {\n",
       "        vertical-align: middle;\n",
       "    }\n",
       "\n",
       "    .dataframe tbody tr th {\n",
       "        vertical-align: top;\n",
       "    }\n",
       "\n",
       "    .dataframe thead th {\n",
       "        text-align: right;\n",
       "    }\n",
       "</style>\n",
       "<table border=\"1\" class=\"dataframe\">\n",
       "  <thead>\n",
       "    <tr style=\"text-align: right;\">\n",
       "      <th></th>\n",
       "      <th>hud_id</th>\n",
       "      <th>project</th>\n",
       "      <th>proj_add</th>\n",
       "      <th>proj_cty</th>\n",
       "      <th>proj_st</th>\n",
       "      <th>proj_zip</th>\n",
       "      <th>state_id</th>\n",
       "      <th>latitude</th>\n",
       "      <th>longitude</th>\n",
       "      <th>place1990</th>\n",
       "      <th>...</th>\n",
       "      <th>n_unitsr</th>\n",
       "      <th>li_unitr</th>\n",
       "      <th>metro</th>\n",
       "      <th>dda</th>\n",
       "      <th>qct</th>\n",
       "      <th>nonprog</th>\n",
       "      <th>nlm_reason</th>\n",
       "      <th>nlm_spc</th>\n",
       "      <th>datanote</th>\n",
       "      <th>record_stat</th>\n",
       "    </tr>\n",
       "  </thead>\n",
       "  <tbody>\n",
       "    <tr>\n",
       "      <th>0</th>\n",
       "      <td>AKA0000X003</td>\n",
       "      <td>EAGLE RIDGE TOWNHOMES</td>\n",
       "      <td>1775 NORTH THUMA</td>\n",
       "      <td>PALMER</td>\n",
       "      <td>AK</td>\n",
       "      <td>99645</td>\n",
       "      <td>AK-05-23</td>\n",
       "      <td>61.587872</td>\n",
       "      <td>-149.099777</td>\n",
       "      <td>NaN</td>\n",
       "      <td>...</td>\n",
       "      <td>33.0</td>\n",
       "      <td>33.0</td>\n",
       "      <td>1.0</td>\n",
       "      <td>NaN</td>\n",
       "      <td>NaN</td>\n",
       "      <td>NaN</td>\n",
       "      <td>NaN</td>\n",
       "      <td>NaN</td>\n",
       "      <td>NaN</td>\n",
       "      <td>X</td>\n",
       "    </tr>\n",
       "    <tr>\n",
       "      <th>1</th>\n",
       "      <td>AKA0000X018</td>\n",
       "      <td>GATEWAY-SEWARD ASSOCIATES, LTD PTN</td>\n",
       "      <td>1810 PHOENIX ROAD</td>\n",
       "      <td>SEWARD</td>\n",
       "      <td>AK</td>\n",
       "      <td>99664</td>\n",
       "      <td>AK-99-99</td>\n",
       "      <td>60.125469</td>\n",
       "      <td>-149.446060</td>\n",
       "      <td>NaN</td>\n",
       "      <td>...</td>\n",
       "      <td>20.0</td>\n",
       "      <td>20.0</td>\n",
       "      <td>NaN</td>\n",
       "      <td>NaN</td>\n",
       "      <td>NaN</td>\n",
       "      <td>NaN</td>\n",
       "      <td>NaN</td>\n",
       "      <td>NaN</td>\n",
       "      <td>NaN</td>\n",
       "      <td>X</td>\n",
       "    </tr>\n",
       "    <tr>\n",
       "      <th>2</th>\n",
       "      <td>AKA0000X022</td>\n",
       "      <td>JUNEAU AFFORDABLE RENTALS, LLC</td>\n",
       "      <td>SCATTERED SITE</td>\n",
       "      <td>JUNEAU</td>\n",
       "      <td>AK</td>\n",
       "      <td>99801</td>\n",
       "      <td>AK-99-99</td>\n",
       "      <td>58.383499</td>\n",
       "      <td>-134.437698</td>\n",
       "      <td>NaN</td>\n",
       "      <td>...</td>\n",
       "      <td>25.0</td>\n",
       "      <td>25.0</td>\n",
       "      <td>NaN</td>\n",
       "      <td>NaN</td>\n",
       "      <td>NaN</td>\n",
       "      <td>NaN</td>\n",
       "      <td>NaN</td>\n",
       "      <td>NaN</td>\n",
       "      <td>NaN</td>\n",
       "      <td>U</td>\n",
       "    </tr>\n",
       "    <tr>\n",
       "      <th>3</th>\n",
       "      <td>AKA0000X024</td>\n",
       "      <td>MILL BAY TOWNHOMES, LLC</td>\n",
       "      <td>1223 MILL BAY ROAD</td>\n",
       "      <td>KODIAK</td>\n",
       "      <td>AK</td>\n",
       "      <td>99615</td>\n",
       "      <td>AK-99-99</td>\n",
       "      <td>57.796478</td>\n",
       "      <td>-152.392319</td>\n",
       "      <td>NaN</td>\n",
       "      <td>...</td>\n",
       "      <td>20.0</td>\n",
       "      <td>20.0</td>\n",
       "      <td>NaN</td>\n",
       "      <td>NaN</td>\n",
       "      <td>NaN</td>\n",
       "      <td>NaN</td>\n",
       "      <td>NaN</td>\n",
       "      <td>NaN</td>\n",
       "      <td>NaN</td>\n",
       "      <td>X</td>\n",
       "    </tr>\n",
       "    <tr>\n",
       "      <th>4</th>\n",
       "      <td>AKA0000X030</td>\n",
       "      <td>TURNAGAIN PLACE APTS</td>\n",
       "      <td>2708 COHO WAY</td>\n",
       "      <td>ANCHORAGE</td>\n",
       "      <td>AK</td>\n",
       "      <td>99517</td>\n",
       "      <td>AK-99-99</td>\n",
       "      <td>61.205101</td>\n",
       "      <td>-149.930298</td>\n",
       "      <td>NaN</td>\n",
       "      <td>...</td>\n",
       "      <td>29.0</td>\n",
       "      <td>29.0</td>\n",
       "      <td>NaN</td>\n",
       "      <td>NaN</td>\n",
       "      <td>NaN</td>\n",
       "      <td>NaN</td>\n",
       "      <td>NaN</td>\n",
       "      <td>NaN</td>\n",
       "      <td>NaN</td>\n",
       "      <td>U</td>\n",
       "    </tr>\n",
       "  </tbody>\n",
       "</table>\n",
       "<p>5 rows × 75 columns</p>\n",
       "</div>"
      ],
      "text/plain": [
       "        hud_id                             project            proj_add  \\\n",
       "0  AKA0000X003               EAGLE RIDGE TOWNHOMES    1775 NORTH THUMA   \n",
       "1  AKA0000X018  GATEWAY-SEWARD ASSOCIATES, LTD PTN   1810 PHOENIX ROAD   \n",
       "2  AKA0000X022      JUNEAU AFFORDABLE RENTALS, LLC      SCATTERED SITE   \n",
       "3  AKA0000X024             MILL BAY TOWNHOMES, LLC  1223 MILL BAY ROAD   \n",
       "4  AKA0000X030                TURNAGAIN PLACE APTS       2708 COHO WAY   \n",
       "\n",
       "    proj_cty proj_st proj_zip  state_id   latitude   longitude  place1990  \\\n",
       "0     PALMER      AK    99645  AK-05-23  61.587872 -149.099777        NaN   \n",
       "1     SEWARD      AK    99664  AK-99-99  60.125469 -149.446060        NaN   \n",
       "2     JUNEAU      AK    99801  AK-99-99  58.383499 -134.437698        NaN   \n",
       "3     KODIAK      AK    99615  AK-99-99  57.796478 -152.392319        NaN   \n",
       "4  ANCHORAGE      AK    99517  AK-99-99  61.205101 -149.930298        NaN   \n",
       "\n",
       "   ...  n_unitsr  li_unitr metro dda qct  nonprog  nlm_reason  nlm_spc  \\\n",
       "0  ...      33.0      33.0   1.0 NaN NaN      NaN         NaN      NaN   \n",
       "1  ...      20.0      20.0   NaN NaN NaN      NaN         NaN      NaN   \n",
       "2  ...      25.0      25.0   NaN NaN NaN      NaN         NaN      NaN   \n",
       "3  ...      20.0      20.0   NaN NaN NaN      NaN         NaN      NaN   \n",
       "4  ...      29.0      29.0   NaN NaN NaN      NaN         NaN      NaN   \n",
       "\n",
       "   datanote  record_stat  \n",
       "0       NaN            X  \n",
       "1       NaN            X  \n",
       "2       NaN            U  \n",
       "3       NaN            X  \n",
       "4       NaN            U  \n",
       "\n",
       "[5 rows x 75 columns]"
      ]
     },
     "execution_count": 814,
     "metadata": {},
     "output_type": "execute_result"
    }
   ],
   "source": [
    "df.head()"
   ]
  },
  {
   "cell_type": "code",
   "execution_count": 815,
   "metadata": {
    "scrolled": false
   },
   "outputs": [
    {
     "data": {
      "text/html": [
       "<div>\n",
       "<style scoped>\n",
       "    .dataframe tbody tr th:only-of-type {\n",
       "        vertical-align: middle;\n",
       "    }\n",
       "\n",
       "    .dataframe tbody tr th {\n",
       "        vertical-align: top;\n",
       "    }\n",
       "\n",
       "    .dataframe thead th {\n",
       "        text-align: right;\n",
       "    }\n",
       "</style>\n",
       "<table border=\"1\" class=\"dataframe\">\n",
       "  <thead>\n",
       "    <tr style=\"text-align: right;\">\n",
       "      <th></th>\n",
       "      <th>0</th>\n",
       "      <th>1</th>\n",
       "      <th>2</th>\n",
       "      <th>3</th>\n",
       "    </tr>\n",
       "  </thead>\n",
       "  <tbody>\n",
       "    <tr>\n",
       "      <th>hud_id</th>\n",
       "      <td>AKA0000X003</td>\n",
       "      <td>AKA0000X018</td>\n",
       "      <td>AKA0000X022</td>\n",
       "      <td>AKA0000X024</td>\n",
       "    </tr>\n",
       "    <tr>\n",
       "      <th>project</th>\n",
       "      <td>EAGLE RIDGE TOWNHOMES</td>\n",
       "      <td>GATEWAY-SEWARD ASSOCIATES, LTD PTN</td>\n",
       "      <td>JUNEAU AFFORDABLE RENTALS, LLC</td>\n",
       "      <td>MILL BAY TOWNHOMES, LLC</td>\n",
       "    </tr>\n",
       "    <tr>\n",
       "      <th>proj_add</th>\n",
       "      <td>1775 NORTH THUMA</td>\n",
       "      <td>1810 PHOENIX ROAD</td>\n",
       "      <td>SCATTERED SITE</td>\n",
       "      <td>1223 MILL BAY ROAD</td>\n",
       "    </tr>\n",
       "    <tr>\n",
       "      <th>proj_cty</th>\n",
       "      <td>PALMER</td>\n",
       "      <td>SEWARD</td>\n",
       "      <td>JUNEAU</td>\n",
       "      <td>KODIAK</td>\n",
       "    </tr>\n",
       "    <tr>\n",
       "      <th>proj_st</th>\n",
       "      <td>AK</td>\n",
       "      <td>AK</td>\n",
       "      <td>AK</td>\n",
       "      <td>AK</td>\n",
       "    </tr>\n",
       "    <tr>\n",
       "      <th>...</th>\n",
       "      <td>...</td>\n",
       "      <td>...</td>\n",
       "      <td>...</td>\n",
       "      <td>...</td>\n",
       "    </tr>\n",
       "    <tr>\n",
       "      <th>nonprog</th>\n",
       "      <td>NaN</td>\n",
       "      <td>NaN</td>\n",
       "      <td>NaN</td>\n",
       "      <td>NaN</td>\n",
       "    </tr>\n",
       "    <tr>\n",
       "      <th>nlm_reason</th>\n",
       "      <td>NaN</td>\n",
       "      <td>NaN</td>\n",
       "      <td>NaN</td>\n",
       "      <td>NaN</td>\n",
       "    </tr>\n",
       "    <tr>\n",
       "      <th>nlm_spc</th>\n",
       "      <td>NaN</td>\n",
       "      <td>NaN</td>\n",
       "      <td>NaN</td>\n",
       "      <td>NaN</td>\n",
       "    </tr>\n",
       "    <tr>\n",
       "      <th>datanote</th>\n",
       "      <td>NaN</td>\n",
       "      <td>NaN</td>\n",
       "      <td>NaN</td>\n",
       "      <td>NaN</td>\n",
       "    </tr>\n",
       "    <tr>\n",
       "      <th>record_stat</th>\n",
       "      <td>X</td>\n",
       "      <td>X</td>\n",
       "      <td>U</td>\n",
       "      <td>X</td>\n",
       "    </tr>\n",
       "  </tbody>\n",
       "</table>\n",
       "<p>75 rows × 4 columns</p>\n",
       "</div>"
      ],
      "text/plain": [
       "                                 0                                   1  \\\n",
       "hud_id                 AKA0000X003                         AKA0000X018   \n",
       "project      EAGLE RIDGE TOWNHOMES  GATEWAY-SEWARD ASSOCIATES, LTD PTN   \n",
       "proj_add          1775 NORTH THUMA                   1810 PHOENIX ROAD   \n",
       "proj_cty                    PALMER                              SEWARD   \n",
       "proj_st                         AK                                  AK   \n",
       "...                            ...                                 ...   \n",
       "nonprog                        NaN                                 NaN   \n",
       "nlm_reason                     NaN                                 NaN   \n",
       "nlm_spc                        NaN                                 NaN   \n",
       "datanote                       NaN                                 NaN   \n",
       "record_stat                      X                                   X   \n",
       "\n",
       "                                          2                        3  \n",
       "hud_id                          AKA0000X022              AKA0000X024  \n",
       "project      JUNEAU AFFORDABLE RENTALS, LLC  MILL BAY TOWNHOMES, LLC  \n",
       "proj_add                     SCATTERED SITE       1223 MILL BAY ROAD  \n",
       "proj_cty                             JUNEAU                   KODIAK  \n",
       "proj_st                                  AK                       AK  \n",
       "...                                     ...                      ...  \n",
       "nonprog                                 NaN                      NaN  \n",
       "nlm_reason                              NaN                      NaN  \n",
       "nlm_spc                                 NaN                      NaN  \n",
       "datanote                                NaN                      NaN  \n",
       "record_stat                               U                        X  \n",
       "\n",
       "[75 rows x 4 columns]"
      ]
     },
     "execution_count": 815,
     "metadata": {},
     "output_type": "execute_result"
    }
   ],
   "source": [
    "df[0:4].T"
   ]
  },
  {
   "cell_type": "code",
   "execution_count": 816,
   "metadata": {
    "scrolled": true
   },
   "outputs": [
    {
     "data": {
      "text/html": [
       "<div>\n",
       "<style scoped>\n",
       "    .dataframe tbody tr th:only-of-type {\n",
       "        vertical-align: middle;\n",
       "    }\n",
       "\n",
       "    .dataframe tbody tr th {\n",
       "        vertical-align: top;\n",
       "    }\n",
       "\n",
       "    .dataframe thead th {\n",
       "        text-align: right;\n",
       "    }\n",
       "</style>\n",
       "<table border=\"1\" class=\"dataframe\">\n",
       "  <thead>\n",
       "    <tr style=\"text-align: right;\">\n",
       "      <th></th>\n",
       "      <th>count</th>\n",
       "      <th>mean</th>\n",
       "      <th>std</th>\n",
       "      <th>min</th>\n",
       "      <th>25%</th>\n",
       "      <th>50%</th>\n",
       "      <th>75%</th>\n",
       "      <th>max</th>\n",
       "    </tr>\n",
       "  </thead>\n",
       "  <tbody>\n",
       "    <tr>\n",
       "      <th>latitude</th>\n",
       "      <td>47036.0</td>\n",
       "      <td>38.240306</td>\n",
       "      <td>4.975487</td>\n",
       "      <td>0.000000</td>\n",
       "      <td>34.811197</td>\n",
       "      <td>39.006252</td>\n",
       "      <td>41.532846</td>\n",
       "      <td>64.851646</td>\n",
       "    </tr>\n",
       "    <tr>\n",
       "      <th>longitude</th>\n",
       "      <td>47036.0</td>\n",
       "      <td>-90.888845</td>\n",
       "      <td>16.423087</td>\n",
       "      <td>-166.780594</td>\n",
       "      <td>-96.936663</td>\n",
       "      <td>-86.884270</td>\n",
       "      <td>-78.865175</td>\n",
       "      <td>170.220001</td>\n",
       "    </tr>\n",
       "    <tr>\n",
       "      <th>place1990</th>\n",
       "      <td>31804.0</td>\n",
       "      <td>1716.430135</td>\n",
       "      <td>1490.025700</td>\n",
       "      <td>3.000000</td>\n",
       "      <td>680.000000</td>\n",
       "      <td>1305.000000</td>\n",
       "      <td>2495.000000</td>\n",
       "      <td>9070.000000</td>\n",
       "    </tr>\n",
       "    <tr>\n",
       "      <th>place2000</th>\n",
       "      <td>38851.0</td>\n",
       "      <td>39167.335152</td>\n",
       "      <td>23037.168723</td>\n",
       "      <td>100.000000</td>\n",
       "      <td>19000.000000</td>\n",
       "      <td>40000.000000</td>\n",
       "      <td>56320.000000</td>\n",
       "      <td>89150.000000</td>\n",
       "    </tr>\n",
       "    <tr>\n",
       "      <th>place2010</th>\n",
       "      <td>46949.0</td>\n",
       "      <td>45958.198194</td>\n",
       "      <td>26780.984817</td>\n",
       "      <td>100.000000</td>\n",
       "      <td>23290.000000</td>\n",
       "      <td>47610.000000</td>\n",
       "      <td>64260.000000</td>\n",
       "      <td>99999.000000</td>\n",
       "    </tr>\n",
       "    <tr>\n",
       "      <th>...</th>\n",
       "      <td>...</td>\n",
       "      <td>...</td>\n",
       "      <td>...</td>\n",
       "      <td>...</td>\n",
       "      <td>...</td>\n",
       "      <td>...</td>\n",
       "      <td>...</td>\n",
       "      <td>...</td>\n",
       "    </tr>\n",
       "    <tr>\n",
       "      <th>metro</th>\n",
       "      <td>48585.0</td>\n",
       "      <td>1.234805</td>\n",
       "      <td>0.535527</td>\n",
       "      <td>0.000000</td>\n",
       "      <td>1.000000</td>\n",
       "      <td>1.000000</td>\n",
       "      <td>1.000000</td>\n",
       "      <td>3.000000</td>\n",
       "    </tr>\n",
       "    <tr>\n",
       "      <th>dda</th>\n",
       "      <td>16061.0</td>\n",
       "      <td>0.354399</td>\n",
       "      <td>0.733675</td>\n",
       "      <td>0.000000</td>\n",
       "      <td>0.000000</td>\n",
       "      <td>0.000000</td>\n",
       "      <td>0.000000</td>\n",
       "      <td>4.000000</td>\n",
       "    </tr>\n",
       "    <tr>\n",
       "      <th>qct</th>\n",
       "      <td>43671.0</td>\n",
       "      <td>1.788372</td>\n",
       "      <td>0.408467</td>\n",
       "      <td>1.000000</td>\n",
       "      <td>2.000000</td>\n",
       "      <td>2.000000</td>\n",
       "      <td>2.000000</td>\n",
       "      <td>2.000000</td>\n",
       "    </tr>\n",
       "    <tr>\n",
       "      <th>nonprog</th>\n",
       "      <td>8460.0</td>\n",
       "      <td>1.000000</td>\n",
       "      <td>0.000000</td>\n",
       "      <td>1.000000</td>\n",
       "      <td>1.000000</td>\n",
       "      <td>1.000000</td>\n",
       "      <td>1.000000</td>\n",
       "      <td>1.000000</td>\n",
       "    </tr>\n",
       "    <tr>\n",
       "      <th>nlm_reason</th>\n",
       "      <td>684.0</td>\n",
       "      <td>1.653509</td>\n",
       "      <td>0.866559</td>\n",
       "      <td>1.000000</td>\n",
       "      <td>1.000000</td>\n",
       "      <td>1.000000</td>\n",
       "      <td>3.000000</td>\n",
       "      <td>3.000000</td>\n",
       "    </tr>\n",
       "  </tbody>\n",
       "</table>\n",
       "<p>61 rows × 8 columns</p>\n",
       "</div>"
      ],
      "text/plain": [
       "              count          mean           std         min           25%  \\\n",
       "latitude    47036.0     38.240306      4.975487    0.000000     34.811197   \n",
       "longitude   47036.0    -90.888845     16.423087 -166.780594    -96.936663   \n",
       "place1990   31804.0   1716.430135   1490.025700    3.000000    680.000000   \n",
       "place2000   38851.0  39167.335152  23037.168723  100.000000  19000.000000   \n",
       "place2010   46949.0  45958.198194  26780.984817  100.000000  23290.000000   \n",
       "...             ...           ...           ...         ...           ...   \n",
       "metro       48585.0      1.234805      0.535527    0.000000      1.000000   \n",
       "dda         16061.0      0.354399      0.733675    0.000000      0.000000   \n",
       "qct         43671.0      1.788372      0.408467    1.000000      2.000000   \n",
       "nonprog      8460.0      1.000000      0.000000    1.000000      1.000000   \n",
       "nlm_reason    684.0      1.653509      0.866559    1.000000      1.000000   \n",
       "\n",
       "                     50%           75%           max  \n",
       "latitude       39.006252     41.532846     64.851646  \n",
       "longitude     -86.884270    -78.865175    170.220001  \n",
       "place1990    1305.000000   2495.000000   9070.000000  \n",
       "place2000   40000.000000  56320.000000  89150.000000  \n",
       "place2010   47610.000000  64260.000000  99999.000000  \n",
       "...                  ...           ...           ...  \n",
       "metro           1.000000      1.000000      3.000000  \n",
       "dda             0.000000      0.000000      4.000000  \n",
       "qct             2.000000      2.000000      2.000000  \n",
       "nonprog         1.000000      1.000000      1.000000  \n",
       "nlm_reason      1.000000      3.000000      3.000000  \n",
       "\n",
       "[61 rows x 8 columns]"
      ]
     },
     "execution_count": 816,
     "metadata": {},
     "output_type": "execute_result"
    }
   ],
   "source": [
    "df.describe().T"
   ]
  },
  {
   "cell_type": "code",
   "execution_count": 817,
   "metadata": {
    "scrolled": false
   },
   "outputs": [
    {
     "name": "stdout",
     "output_type": "stream",
     "text": [
      "<class 'pandas.core.frame.DataFrame'>\n",
      "RangeIndex: 49449 entries, 0 to 49448\n",
      "Data columns (total 75 columns):\n",
      " #   Column             Non-Null Count  Dtype  \n",
      "---  ------             --------------  -----  \n",
      " 0   hud_id             49449 non-null  object \n",
      " 1   project            49448 non-null  object \n",
      " 2   proj_add           48465 non-null  object \n",
      " 3   proj_cty           49409 non-null  object \n",
      " 4   proj_st            49449 non-null  object \n",
      " 5   proj_zip           46333 non-null  object \n",
      " 6   state_id           48864 non-null  object \n",
      " 7   latitude           47036 non-null  float64\n",
      " 8   longitude          47036 non-null  float64\n",
      " 9   place1990          31804 non-null  float64\n",
      " 10  place2000          38851 non-null  float64\n",
      " 11  place2010          46949 non-null  float64\n",
      " 12  fips1990           49449 non-null  object \n",
      " 13  fips2000           49449 non-null  object \n",
      " 14  fips2010           49449 non-null  object \n",
      " 15  st2010             49449 non-null  int64  \n",
      " 16  cnty2010           47036 non-null  float64\n",
      " 17  scattered_site_cd  43863 non-null  float64\n",
      " 18  resyndication_cd   5998 non-null   float64\n",
      " 19  allocamt           30703 non-null  float64\n",
      " 20  n_units            49054 non-null  float64\n",
      " 21  li_units           46332 non-null  float64\n",
      " 22  n_0br              39559 non-null  float64\n",
      " 23  n_1br              39958 non-null  float64\n",
      " 24  n_2br              39987 non-null  float64\n",
      " 25  n_3br              39827 non-null  float64\n",
      " 26  n_4br              39525 non-null  float64\n",
      " 27  inc_ceil           31319 non-null  float64\n",
      " 28  low_ceil           23610 non-null  float64\n",
      " 29  ceilunit           16827 non-null  float64\n",
      " 30  yr_pis             49449 non-null  int64  \n",
      " 31  yr_alloc           49444 non-null  float64\n",
      " 32  non_prof           39621 non-null  float64\n",
      " 33  basis              39009 non-null  float64\n",
      " 34  bond               38285 non-null  float64\n",
      " 35  mff_ra             13976 non-null  float64\n",
      " 36  fmha_514           20754 non-null  float64\n",
      " 37  fmha_515           38568 non-null  float64\n",
      " 38  fmha_538           19294 non-null  float64\n",
      " 39  home               28950 non-null  float64\n",
      " 40  home_amt           32167 non-null  float64\n",
      " 41  tcap               11115 non-null  float64\n",
      " 42  tcap_amt           16853 non-null  float64\n",
      " 43  cdbg               26064 non-null  float64\n",
      " 44  cdbg_amt           29403 non-null  float64\n",
      " 45  htf                4679 non-null   float64\n",
      " 46  htf_amt            8319 non-null   float64\n",
      " 47  fha                25217 non-null  float64\n",
      " 48  hopevi             20020 non-null  float64\n",
      " 49  hpvi_amt           24036 non-null  float64\n",
      " 50  tcep               16074 non-null  float64\n",
      " 51  tcep_amt           21703 non-null  float64\n",
      " 52  rad                4508 non-null   float64\n",
      " 53  qozf               2322 non-null   float64\n",
      " 54  qozf_amt           8319 non-null   float64\n",
      " 55  rentassist         23637 non-null  float64\n",
      " 56  trgt_pop           33588 non-null  float64\n",
      " 57  trgt_fam           27088 non-null  float64\n",
      " 58  trgt_eld           25548 non-null  float64\n",
      " 59  trgt_dis           25223 non-null  float64\n",
      " 60  trgt_hml           23436 non-null  float64\n",
      " 61  trgt_other         24805 non-null  float64\n",
      " 62  trgt_spc           2778 non-null   object \n",
      " 63  type               42941 non-null  float64\n",
      " 64  credit             38705 non-null  float64\n",
      " 65  n_unitsr           49314 non-null  float64\n",
      " 66  li_unitr           49314 non-null  float64\n",
      " 67  metro              48585 non-null  float64\n",
      " 68  dda                16061 non-null  float64\n",
      " 69  qct                43671 non-null  float64\n",
      " 70  nonprog            8460 non-null   float64\n",
      " 71  nlm_reason         684 non-null    float64\n",
      " 72  nlm_spc            114 non-null    object \n",
      " 73  datanote           11612 non-null  object \n",
      " 74  record_stat        49449 non-null  object \n",
      "dtypes: float64(59), int64(2), object(14)\n",
      "memory usage: 28.3+ MB\n"
     ]
    }
   ],
   "source": [
    "df.info()"
   ]
  },
  {
   "cell_type": "markdown",
   "metadata": {},
   "source": [
    "# Data Exploration"
   ]
  },
  {
   "cell_type": "markdown",
   "metadata": {},
   "source": [
    "- Variable Identification\n",
    "- Univariate Analysis\n",
    "- Bi-variate Analysis\n",
    "- Missing values treatment\n",
    "- Outlier treatment\n",
    "- Variable transformation\n",
    "- Variable creation"
   ]
  },
  {
   "cell_type": "markdown",
   "metadata": {},
   "source": [
    "# Data Cleaning"
   ]
  },
  {
   "cell_type": "markdown",
   "metadata": {},
   "source": [
    "using data dictionary found here: https://github.com/bnicholson206/DataAnalysis-LIHTC/blob/main/LIHTC%20Data%20Dictionary%202019.pdf"
   ]
  },
  {
   "cell_type": "markdown",
   "metadata": {},
   "source": [
    "We have a fair amount of NaN values in the dataset."
   ]
  },
  {
   "cell_type": "code",
   "execution_count": 818,
   "metadata": {},
   "outputs": [
    {
     "data": {
      "text/plain": [
       "hud_id         False\n",
       "project         True\n",
       "proj_add        True\n",
       "proj_cty        True\n",
       "proj_st        False\n",
       "               ...  \n",
       "nonprog         True\n",
       "nlm_reason      True\n",
       "nlm_spc         True\n",
       "datanote        True\n",
       "record_stat    False\n",
       "Length: 75, dtype: bool"
      ]
     },
     "execution_count": 818,
     "metadata": {},
     "output_type": "execute_result"
    }
   ],
   "source": [
    "df.isnull().any()"
   ]
  },
  {
   "cell_type": "markdown",
   "metadata": {},
   "source": [
    "First, identify Predictor (Input) and Target (output) variables. Next, identify the data type and category of the variables."
   ]
  },
  {
   "cell_type": "markdown",
   "metadata": {},
   "source": [
    "Predictors = All Columns\n",
    "\n",
    "Target = Allocamt"
   ]
  },
  {
   "cell_type": "markdown",
   "metadata": {},
   "source": [
    "Convert all floats to Integers"
   ]
  },
  {
   "cell_type": "code",
   "execution_count": 819,
   "metadata": {},
   "outputs": [],
   "source": [
    "df_num = df.select_dtypes(include='float')\n",
    "# df_num.drop(columns=['latitude','longitude'])"
   ]
  },
  {
   "cell_type": "code",
   "execution_count": 820,
   "metadata": {
    "scrolled": false
   },
   "outputs": [
    {
     "data": {
      "text/html": [
       "<div>\n",
       "<style scoped>\n",
       "    .dataframe tbody tr th:only-of-type {\n",
       "        vertical-align: middle;\n",
       "    }\n",
       "\n",
       "    .dataframe tbody tr th {\n",
       "        vertical-align: top;\n",
       "    }\n",
       "\n",
       "    .dataframe thead th {\n",
       "        text-align: right;\n",
       "    }\n",
       "</style>\n",
       "<table border=\"1\" class=\"dataframe\">\n",
       "  <thead>\n",
       "    <tr style=\"text-align: right;\">\n",
       "      <th></th>\n",
       "      <th>latitude</th>\n",
       "      <th>longitude</th>\n",
       "      <th>place1990</th>\n",
       "      <th>place2000</th>\n",
       "      <th>place2010</th>\n",
       "      <th>cnty2010</th>\n",
       "      <th>scattered_site_cd</th>\n",
       "      <th>resyndication_cd</th>\n",
       "      <th>allocamt</th>\n",
       "      <th>n_units</th>\n",
       "      <th>...</th>\n",
       "      <th>trgt_other</th>\n",
       "      <th>type</th>\n",
       "      <th>credit</th>\n",
       "      <th>n_unitsr</th>\n",
       "      <th>li_unitr</th>\n",
       "      <th>metro</th>\n",
       "      <th>dda</th>\n",
       "      <th>qct</th>\n",
       "      <th>nonprog</th>\n",
       "      <th>nlm_reason</th>\n",
       "    </tr>\n",
       "  </thead>\n",
       "  <tbody>\n",
       "    <tr>\n",
       "      <th>0</th>\n",
       "      <td>61.587872</td>\n",
       "      <td>-149.099777</td>\n",
       "      <td>NaN</td>\n",
       "      <td>NaN</td>\n",
       "      <td>58660.0</td>\n",
       "      <td>170.0</td>\n",
       "      <td>NaN</td>\n",
       "      <td>NaN</td>\n",
       "      <td>NaN</td>\n",
       "      <td>33.0</td>\n",
       "      <td>...</td>\n",
       "      <td>NaN</td>\n",
       "      <td>NaN</td>\n",
       "      <td>NaN</td>\n",
       "      <td>33.0</td>\n",
       "      <td>33.0</td>\n",
       "      <td>1.0</td>\n",
       "      <td>NaN</td>\n",
       "      <td>NaN</td>\n",
       "      <td>NaN</td>\n",
       "      <td>NaN</td>\n",
       "    </tr>\n",
       "    <tr>\n",
       "      <th>1</th>\n",
       "      <td>60.125469</td>\n",
       "      <td>-149.446060</td>\n",
       "      <td>NaN</td>\n",
       "      <td>NaN</td>\n",
       "      <td>68560.0</td>\n",
       "      <td>122.0</td>\n",
       "      <td>NaN</td>\n",
       "      <td>NaN</td>\n",
       "      <td>NaN</td>\n",
       "      <td>20.0</td>\n",
       "      <td>...</td>\n",
       "      <td>NaN</td>\n",
       "      <td>NaN</td>\n",
       "      <td>1.0</td>\n",
       "      <td>20.0</td>\n",
       "      <td>20.0</td>\n",
       "      <td>NaN</td>\n",
       "      <td>NaN</td>\n",
       "      <td>NaN</td>\n",
       "      <td>NaN</td>\n",
       "      <td>NaN</td>\n",
       "    </tr>\n",
       "    <tr>\n",
       "      <th>2</th>\n",
       "      <td>58.383499</td>\n",
       "      <td>-134.437698</td>\n",
       "      <td>NaN</td>\n",
       "      <td>NaN</td>\n",
       "      <td>36400.0</td>\n",
       "      <td>110.0</td>\n",
       "      <td>1.0</td>\n",
       "      <td>2.0</td>\n",
       "      <td>NaN</td>\n",
       "      <td>25.0</td>\n",
       "      <td>...</td>\n",
       "      <td>NaN</td>\n",
       "      <td>1.0</td>\n",
       "      <td>NaN</td>\n",
       "      <td>25.0</td>\n",
       "      <td>25.0</td>\n",
       "      <td>NaN</td>\n",
       "      <td>NaN</td>\n",
       "      <td>NaN</td>\n",
       "      <td>NaN</td>\n",
       "      <td>NaN</td>\n",
       "    </tr>\n",
       "    <tr>\n",
       "      <th>3</th>\n",
       "      <td>57.796478</td>\n",
       "      <td>-152.392319</td>\n",
       "      <td>NaN</td>\n",
       "      <td>NaN</td>\n",
       "      <td>40950.0</td>\n",
       "      <td>150.0</td>\n",
       "      <td>NaN</td>\n",
       "      <td>NaN</td>\n",
       "      <td>NaN</td>\n",
       "      <td>20.0</td>\n",
       "      <td>...</td>\n",
       "      <td>NaN</td>\n",
       "      <td>NaN</td>\n",
       "      <td>2.0</td>\n",
       "      <td>20.0</td>\n",
       "      <td>20.0</td>\n",
       "      <td>NaN</td>\n",
       "      <td>NaN</td>\n",
       "      <td>NaN</td>\n",
       "      <td>NaN</td>\n",
       "      <td>NaN</td>\n",
       "    </tr>\n",
       "    <tr>\n",
       "      <th>4</th>\n",
       "      <td>61.205101</td>\n",
       "      <td>-149.930298</td>\n",
       "      <td>NaN</td>\n",
       "      <td>NaN</td>\n",
       "      <td>3000.0</td>\n",
       "      <td>20.0</td>\n",
       "      <td>NaN</td>\n",
       "      <td>NaN</td>\n",
       "      <td>NaN</td>\n",
       "      <td>29.0</td>\n",
       "      <td>...</td>\n",
       "      <td>NaN</td>\n",
       "      <td>NaN</td>\n",
       "      <td>2.0</td>\n",
       "      <td>29.0</td>\n",
       "      <td>29.0</td>\n",
       "      <td>NaN</td>\n",
       "      <td>NaN</td>\n",
       "      <td>NaN</td>\n",
       "      <td>NaN</td>\n",
       "      <td>NaN</td>\n",
       "    </tr>\n",
       "  </tbody>\n",
       "</table>\n",
       "<p>5 rows × 59 columns</p>\n",
       "</div>"
      ],
      "text/plain": [
       "    latitude   longitude  place1990  place2000  place2010  cnty2010  \\\n",
       "0  61.587872 -149.099777        NaN        NaN    58660.0     170.0   \n",
       "1  60.125469 -149.446060        NaN        NaN    68560.0     122.0   \n",
       "2  58.383499 -134.437698        NaN        NaN    36400.0     110.0   \n",
       "3  57.796478 -152.392319        NaN        NaN    40950.0     150.0   \n",
       "4  61.205101 -149.930298        NaN        NaN     3000.0      20.0   \n",
       "\n",
       "   scattered_site_cd  resyndication_cd  allocamt  n_units  ...  trgt_other  \\\n",
       "0                NaN               NaN       NaN     33.0  ...         NaN   \n",
       "1                NaN               NaN       NaN     20.0  ...         NaN   \n",
       "2                1.0               2.0       NaN     25.0  ...         NaN   \n",
       "3                NaN               NaN       NaN     20.0  ...         NaN   \n",
       "4                NaN               NaN       NaN     29.0  ...         NaN   \n",
       "\n",
       "   type  credit  n_unitsr  li_unitr  metro  dda  qct  nonprog  nlm_reason  \n",
       "0   NaN     NaN      33.0      33.0    1.0  NaN  NaN      NaN         NaN  \n",
       "1   NaN     1.0      20.0      20.0    NaN  NaN  NaN      NaN         NaN  \n",
       "2   1.0     NaN      25.0      25.0    NaN  NaN  NaN      NaN         NaN  \n",
       "3   NaN     2.0      20.0      20.0    NaN  NaN  NaN      NaN         NaN  \n",
       "4   NaN     2.0      29.0      29.0    NaN  NaN  NaN      NaN         NaN  \n",
       "\n",
       "[5 rows x 59 columns]"
      ]
     },
     "execution_count": 820,
     "metadata": {},
     "output_type": "execute_result"
    }
   ],
   "source": [
    "df_num.head()"
   ]
  },
  {
   "cell_type": "markdown",
   "metadata": {},
   "source": [
    "#### Fill in NaN values"
   ]
  },
  {
   "cell_type": "code",
   "execution_count": 821,
   "metadata": {},
   "outputs": [],
   "source": [
    "# fill all NaN values and change data type to 'int'\n",
    "\n",
    "df[df_num.columns] = df[df_num.columns].fillna(0)\n",
    "df[df_num.columns] = df[df_num.columns].astype('int')"
   ]
  },
  {
   "cell_type": "markdown",
   "metadata": {},
   "source": [
    "#### Convert all discrete numbers into discrete categories"
   ]
  },
  {
   "cell_type": "code",
   "execution_count": 822,
   "metadata": {
    "collapsed": true
   },
   "outputs": [],
   "source": [
    "# convert all discrete numbers into discrete categories\n",
    "\n",
    "def scattered_site_cd_numttocat(number): # Scattered Sity Property\n",
    "    if number is 1:\n",
    "        return 'Yes'\n",
    "    elif number is 2:\n",
    "        return 'No'\n",
    "    \n",
    "def resyndication_cd_numttocat(number): # Resyndicated Property\n",
    "    if number is 1:\n",
    "        return 'Yes'\n",
    "    elif number is 2:\n",
    "        return 'No'\n",
    "    \n",
    "def Non_Profit_numttocat(number): # Non profit sponsor\n",
    "    if number is 1:\n",
    "        return 'Yes'\n",
    "    elif number is 2:\n",
    "        return 'No'\n",
    "    \n",
    "def nonprog_numttocat(number): # Non profit sponsor\n",
    "    if number is 1:\n",
    "        return 'Yes'\n",
    "    elif number is 2:\n",
    "        return 'No'\n",
    "    else:\n",
    "        return 'No'\n",
    "    \n",
    "def Basis_Profit_numttocat(number): # Increase in eligible basis\n",
    "    if number is 1:\n",
    "        return 'Yes'\n",
    "    elif number is 2:\n",
    "        return 'No'\n",
    "    \n",
    "def Bond_Profit_numttocat(number): # Tax-exempt bond received\n",
    "    if number is 1:\n",
    "        return 'Yes'\n",
    "    elif number is 2:\n",
    "        return 'No'\n",
    "    \n",
    "def Home_numttocat(number): # HOME Investment Partnership Program Funds\n",
    "    if number is 1:\n",
    "        return 'Yes'\n",
    "    elif number is 2:\n",
    "        return 'No'\n",
    "    \n",
    "def Mrr_ra_Profit_numttocat(number): # HUD Multi-Family financial/rental assistance\n",
    "    if number is 1:\n",
    "        return 'Yes'\n",
    "    elif number is 2:\n",
    "        return 'No'\n",
    "    \n",
    "def fmha_514_numttocat(number): # FmHA (RHS) Section 514 Loan\n",
    "    if number is 1:\n",
    "        return 'Yes'\n",
    "    elif number is 2:\n",
    "        return 'No'\n",
    "    \n",
    "def fmha_515_numttocat(number): # FmHA (RHS) Section 515 Loan\n",
    "    if number is 1:\n",
    "        return 'Yes'\n",
    "    elif number is 2:\n",
    "        return 'No'\n",
    "    \n",
    "def fmha_538_numttocat(number): # FmHA (RHS) Section 515 Loan\n",
    "    if number is 1:\n",
    "        return 'Yes'\n",
    "    elif number is 2:\n",
    "        return 'No'\n",
    "    \n",
    "def rad_numttocat(number): # Housing Trust Fund funds\n",
    "    if number is 1:\n",
    "        return 'Yes'\n",
    "    elif number is 2:\n",
    "        return 'No'\n",
    "    \n",
    "def htf_numttocat(number): # Housing Trust Fund funds\n",
    "    if number is 1:\n",
    "        return 'Yes'\n",
    "    elif number is 2:\n",
    "        return 'No'\n",
    "    \n",
    "def hopevi_numttocat(number): # Forms part of a HOPEVI development\n",
    "    if number is 1:\n",
    "        return 'Yes'\n",
    "    elif number is 2:\n",
    "        return 'No'\n",
    "    \n",
    "def tcep_numttocat(number): # Tax Credit Exchange Program (TCEP) funds\n",
    "    if number is 1:\n",
    "        return 'Yes'\n",
    "    elif number is 2:\n",
    "        return 'No'\n",
    "    \n",
    "def tcap_numttocat(number): # Tax Credit Assistance Program (TCEP) funds\n",
    "    if number is 1:\n",
    "        return 'Yes'\n",
    "    elif number is 2:\n",
    "        return 'No'\n",
    "    \n",
    "def fha_numttocat(number): #FHA-insured loan\n",
    "    if number is 1:\n",
    "        return 'Yes'\n",
    "    elif number is 2:\n",
    "        return 'No'\n",
    "    \n",
    "def cdbg_numttocat(number): # community development block grant (CDBG) funds\n",
    "    if number is 1:\n",
    "        return 'Yes'\n",
    "    elif number is 2:\n",
    "        return 'No'\n",
    "    \n",
    "def inc_ceil_numttocat(number): #Elected Rent/income ceiling for low income units\n",
    "    if number is 1:\n",
    "        return '50% AMGI'\n",
    "    elif number is 2:\n",
    "        return '60% AMGI'\n",
    "    elif number is 3:\n",
    "        return 'Not Reported'\n",
    "    \n",
    "def Low_ceil_numttocat(number): # Units set aside with rents lower than elected rent/income ceiling\n",
    "    if number is 1:\n",
    "        return 'Yes'\n",
    "    elif number is 2:\n",
    "        return 'No'\n",
    "    \n",
    "def record_stat_numttocat(number): # Units set aside with rents lower than elected rent/income ceiling\n",
    "    if number is 'N':\n",
    "        return 'New'\n",
    "    elif number is 'U':\n",
    "        return 'Updated'\n",
    "    elif number is 'X':\n",
    "        return 'Existing'\n",
    "    \n",
    "def Rentassist_stat_numttocat(number): # Federal or state project-based rental assistance contract\n",
    "    if number is 1:\n",
    "        return 'Federal'\n",
    "    elif number is 2:\n",
    "        return 'State'\n",
    "    elif number is 3:\n",
    "        return 'Both State and Federal'\n",
    "    elif number is 4:\n",
    "        return 'Neither'\n",
    "    elif number is 5:\n",
    "        return 'Unknown'\n",
    "    \n",
    "def Type_numttocat(number): # Federal or state project-based rental assistance contract\n",
    "    if number is 1:\n",
    "        return 'New Construction'\n",
    "    elif number is 2:\n",
    "        return 'Acquisition and Rehab'\n",
    "    elif number is 3:\n",
    "        return 'Both new construction and A/R'\n",
    "    elif number is 4:\n",
    "        return 'Existing'\n",
    "    \n",
    "def Credit_numttocat(number): # Type of credit percentage\n",
    "    if number is 1:\n",
    "        return '30% present value'\n",
    "    elif number is 2:\n",
    "        return '70% present value'\n",
    "    elif number is 3:\n",
    "        return 'Both'\n",
    "    elif number is 4:\n",
    "        return 'TCEP Only'\n",
    "    \n",
    "def dda_numttocat(number): # Is the census tract in a difficult development area?\n",
    "    if number is 0:\n",
    "        return 'Not in DDA'\n",
    "    elif number is 1:\n",
    "        return 'In Metro DDA'\n",
    "    elif number is 2:\n",
    "        return 'In Non-Metro DDA'\n",
    "    elif number is 3:\n",
    "        return 'In Metro GO Zone DDA'\n",
    "    elif number is 4:\n",
    "        return 'In Non-Metro GO Zone DDA'\n",
    "    \n",
    "def metro_numttocat(number): # Is the census tract metro or non-metro at the time the property was placed into service?\n",
    "    if number is 1:\n",
    "        return 'Metro/Non-Central City'\n",
    "    elif number is 2:\n",
    "        return 'Metro/Central City'\n",
    "    elif number is 3:\n",
    "        return 'Non-Metro'\n",
    "    \n",
    "def nlm_reason_numttocat(number): # Reason property is no longer monitored for LIHTC\n",
    "    if number is 1:\n",
    "        return 'Completed Extended-Use Period'\n",
    "    elif number is 2:\n",
    "        return 'Sale under Qualified Contract'\n",
    "    elif number is 3:\n",
    "        return 'Other'\n",
    "    \n",
    "def qct_numttocat(number): # Is the census tract a qualified census tract?\n",
    "    if number is 1:\n",
    "        return 'In a Qualified Census Tract'\n",
    "    elif number is 2:\n",
    "        return 'Not In a Qualified Census Tract'\n",
    "    \n",
    "def qozf_numttocat(number): # Qualified Opportunity Zone Fund\n",
    "    if number is 1:\n",
    "        return 'Yes'\n",
    "    elif number is 2:\n",
    "        return 'No'\n",
    "    \n",
    "def trgt_pop_numttocat(number): # Targets a specific population with specified services or facilities\n",
    "    if number is 1:\n",
    "        return 'Yes'\n",
    "    elif number is 2:\n",
    "        return 'No'\n",
    "    \n",
    "def trgt_fam_numttocat(number): # Targets a specific population - families\n",
    "    if number is 1:\n",
    "        return 'Yes'\n",
    "    elif number is 2:\n",
    "        return 'No'\n",
    "    \n",
    "def trgt_eld_numttocat(number): # Targets a specific population - elderly\n",
    "    if number is 1:\n",
    "        return 'Yes'\n",
    "    elif number is 2:\n",
    "        return 'No'\n",
    "    \n",
    "def trgt_dis_numttocat(number): # Targets a specific population - disabled\n",
    "    if number is 1:\n",
    "        return 'Yes'\n",
    "    elif number is 2:\n",
    "        return 'No'\n",
    "    \n",
    "def trgt_hml_numttocat(number): # Targets a specific population - homeless\n",
    "    if number is 1:\n",
    "        return 'Yes'\n",
    "    elif number is 2:\n",
    "        return 'No'\n",
    "    \n",
    "def trgt_other_numttocat(number): # Targets a specific population - other\n",
    "    if number is 1:\n",
    "        return 'Yes'\n",
    "    elif number is 2:\n",
    "        return 'No'"
   ]
  },
  {
   "cell_type": "code",
   "execution_count": 823,
   "metadata": {},
   "outputs": [],
   "source": [
    "df[\"scattered_site_cd\"] = df[\"scattered_site_cd\"].map(scattered_site_cd_numttocat)\n",
    "df[\"resyndication_cd\"] = df[\"resyndication_cd\"].map(resyndication_cd_numttocat)\n",
    "df[\"inc_ceil\"] = df[\"inc_ceil\"].map(inc_ceil_numttocat)\n",
    "df[\"low_ceil\"] = df[\"low_ceil\"].map(Low_ceil_numttocat)\n",
    "df[\"record_stat\"] = df[\"record_stat\"].map(record_stat_numttocat)\n",
    "df[\"non_prof\"] = df[\"non_prof\"].map(Non_Profit_numttocat)\n",
    "df[\"basis\"] = df[\"basis\"].map(Basis_Profit_numttocat)\n",
    "df[\"bond\"] = df[\"bond\"].map(Bond_Profit_numttocat)\n",
    "df[\"mff_ra\"] = df[\"mff_ra\"].map(Mrr_ra_Profit_numttocat)\n",
    "df[\"fmha_514\"] = df[\"fmha_514\"].map(fmha_514_numttocat)\n",
    "df[\"fmha_515\"] = df[\"fmha_515\"].map(fmha_515_numttocat)\n",
    "df[\"fmha_538\"] = df[\"fmha_538\"].map(fmha_538_numttocat)\n",
    "df[\"home\"] = df[\"home\"].map(Home_numttocat)\n",
    "df[\"rentassist\"] = df[\"rentassist\"].map(Rentassist_stat_numttocat)\n",
    "df[\"type\"] = df[\"type\"].map(Type_numttocat)\n",
    "df[\"credit\"] = df[\"credit\"].map(Credit_numttocat)\n",
    "df[\"dda\"] = df[\"dda\"].map(dda_numttocat)\n",
    "df[\"metro\"] = df[\"metro\"].map(metro_numttocat)\n",
    "df[\"nlm_reason\"] = df[\"nlm_reason\"].map(nlm_reason_numttocat)\n",
    "df[\"tcap\"] = df[\"tcap\"].map(tcap_numttocat)\n",
    "df[\"cdbg\"] = df[\"cdbg\"].map(cdbg_numttocat)\n",
    "df[\"htf\"] = df[\"htf\"].map(htf_numttocat)\n",
    "df[\"hopevi\"] = df[\"hopevi\"].map(hopevi_numttocat)\n",
    "df[\"fha\"] = df[\"fha\"].map(fha_numttocat)\n",
    "df[\"tcep\"] = df[\"tcep\"].map(tcep_numttocat)\n",
    "df[\"rad\"] = df[\"rad\"].map(rad_numttocat)\n",
    "df[\"nonprog\"] = df[\"nonprog\"].map(nonprog_numttocat)\n",
    "df[\"qct\"] = df[\"qct\"].map(qct_numttocat)\n",
    "df[\"qozf\"] = df[\"qozf\"].map(qozf_numttocat)\n",
    "df[\"trgt_pop\"] = df[\"trgt_pop\"].map(trgt_pop_numttocat)\n",
    "df[\"trgt_fam\"] = df[\"trgt_fam\"].map(trgt_fam_numttocat)\n",
    "df[\"trgt_eld\"] = df[\"trgt_eld\"].map(trgt_eld_numttocat)\n",
    "df[\"trgt_hml\"] = df[\"trgt_hml\"].map(trgt_hml_numttocat)\n",
    "df[\"trgt_dis\"] = df[\"trgt_dis\"].map(trgt_hml_numttocat)\n",
    "df[\"trgt_other\"] = df[\"trgt_other\"].map(trgt_other_numttocat)"
   ]
  },
  {
   "cell_type": "code",
   "execution_count": 824,
   "metadata": {
    "collapsed": true
   },
   "outputs": [],
   "source": [
    "df.to_csv(\"LIHTCPUB_cleaned.csv\", index_label=\"ID\")"
   ]
  },
  {
   "cell_type": "code",
   "execution_count": 825,
   "metadata": {},
   "outputs": [
    {
     "data": {
      "text/html": [
       "<div>\n",
       "<style scoped>\n",
       "    .dataframe tbody tr th:only-of-type {\n",
       "        vertical-align: middle;\n",
       "    }\n",
       "\n",
       "    .dataframe tbody tr th {\n",
       "        vertical-align: top;\n",
       "    }\n",
       "\n",
       "    .dataframe thead th {\n",
       "        text-align: right;\n",
       "    }\n",
       "</style>\n",
       "<table border=\"1\" class=\"dataframe\">\n",
       "  <thead>\n",
       "    <tr style=\"text-align: right;\">\n",
       "      <th></th>\n",
       "      <th>hud_id</th>\n",
       "      <th>project</th>\n",
       "      <th>proj_add</th>\n",
       "      <th>proj_cty</th>\n",
       "      <th>proj_st</th>\n",
       "      <th>proj_zip</th>\n",
       "      <th>state_id</th>\n",
       "      <th>latitude</th>\n",
       "      <th>longitude</th>\n",
       "      <th>place1990</th>\n",
       "      <th>...</th>\n",
       "      <th>n_unitsr</th>\n",
       "      <th>li_unitr</th>\n",
       "      <th>metro</th>\n",
       "      <th>dda</th>\n",
       "      <th>qct</th>\n",
       "      <th>nonprog</th>\n",
       "      <th>nlm_reason</th>\n",
       "      <th>nlm_spc</th>\n",
       "      <th>datanote</th>\n",
       "      <th>record_stat</th>\n",
       "    </tr>\n",
       "  </thead>\n",
       "  <tbody>\n",
       "    <tr>\n",
       "      <th>0</th>\n",
       "      <td>AKA0000X003</td>\n",
       "      <td>EAGLE RIDGE TOWNHOMES</td>\n",
       "      <td>1775 NORTH THUMA</td>\n",
       "      <td>PALMER</td>\n",
       "      <td>AK</td>\n",
       "      <td>99645</td>\n",
       "      <td>AK-05-23</td>\n",
       "      <td>61</td>\n",
       "      <td>-149</td>\n",
       "      <td>0</td>\n",
       "      <td>...</td>\n",
       "      <td>33</td>\n",
       "      <td>33</td>\n",
       "      <td>Metro/Non-Central City</td>\n",
       "      <td>Not in DDA</td>\n",
       "      <td>None</td>\n",
       "      <td>No</td>\n",
       "      <td>None</td>\n",
       "      <td>NaN</td>\n",
       "      <td>NaN</td>\n",
       "      <td>Existing</td>\n",
       "    </tr>\n",
       "    <tr>\n",
       "      <th>1</th>\n",
       "      <td>AKA0000X018</td>\n",
       "      <td>GATEWAY-SEWARD ASSOCIATES, LTD PTN</td>\n",
       "      <td>1810 PHOENIX ROAD</td>\n",
       "      <td>SEWARD</td>\n",
       "      <td>AK</td>\n",
       "      <td>99664</td>\n",
       "      <td>AK-99-99</td>\n",
       "      <td>60</td>\n",
       "      <td>-149</td>\n",
       "      <td>0</td>\n",
       "      <td>...</td>\n",
       "      <td>20</td>\n",
       "      <td>20</td>\n",
       "      <td>None</td>\n",
       "      <td>Not in DDA</td>\n",
       "      <td>None</td>\n",
       "      <td>No</td>\n",
       "      <td>None</td>\n",
       "      <td>NaN</td>\n",
       "      <td>NaN</td>\n",
       "      <td>Existing</td>\n",
       "    </tr>\n",
       "    <tr>\n",
       "      <th>2</th>\n",
       "      <td>AKA0000X022</td>\n",
       "      <td>JUNEAU AFFORDABLE RENTALS, LLC</td>\n",
       "      <td>SCATTERED SITE</td>\n",
       "      <td>JUNEAU</td>\n",
       "      <td>AK</td>\n",
       "      <td>99801</td>\n",
       "      <td>AK-99-99</td>\n",
       "      <td>58</td>\n",
       "      <td>-134</td>\n",
       "      <td>0</td>\n",
       "      <td>...</td>\n",
       "      <td>25</td>\n",
       "      <td>25</td>\n",
       "      <td>None</td>\n",
       "      <td>Not in DDA</td>\n",
       "      <td>None</td>\n",
       "      <td>No</td>\n",
       "      <td>None</td>\n",
       "      <td>NaN</td>\n",
       "      <td>NaN</td>\n",
       "      <td>Updated</td>\n",
       "    </tr>\n",
       "    <tr>\n",
       "      <th>3</th>\n",
       "      <td>AKA0000X024</td>\n",
       "      <td>MILL BAY TOWNHOMES, LLC</td>\n",
       "      <td>1223 MILL BAY ROAD</td>\n",
       "      <td>KODIAK</td>\n",
       "      <td>AK</td>\n",
       "      <td>99615</td>\n",
       "      <td>AK-99-99</td>\n",
       "      <td>57</td>\n",
       "      <td>-152</td>\n",
       "      <td>0</td>\n",
       "      <td>...</td>\n",
       "      <td>20</td>\n",
       "      <td>20</td>\n",
       "      <td>None</td>\n",
       "      <td>Not in DDA</td>\n",
       "      <td>None</td>\n",
       "      <td>No</td>\n",
       "      <td>None</td>\n",
       "      <td>NaN</td>\n",
       "      <td>NaN</td>\n",
       "      <td>Existing</td>\n",
       "    </tr>\n",
       "    <tr>\n",
       "      <th>4</th>\n",
       "      <td>AKA0000X030</td>\n",
       "      <td>TURNAGAIN PLACE APTS</td>\n",
       "      <td>2708 COHO WAY</td>\n",
       "      <td>ANCHORAGE</td>\n",
       "      <td>AK</td>\n",
       "      <td>99517</td>\n",
       "      <td>AK-99-99</td>\n",
       "      <td>61</td>\n",
       "      <td>-149</td>\n",
       "      <td>0</td>\n",
       "      <td>...</td>\n",
       "      <td>29</td>\n",
       "      <td>29</td>\n",
       "      <td>None</td>\n",
       "      <td>Not in DDA</td>\n",
       "      <td>None</td>\n",
       "      <td>No</td>\n",
       "      <td>None</td>\n",
       "      <td>NaN</td>\n",
       "      <td>NaN</td>\n",
       "      <td>Updated</td>\n",
       "    </tr>\n",
       "  </tbody>\n",
       "</table>\n",
       "<p>5 rows × 75 columns</p>\n",
       "</div>"
      ],
      "text/plain": [
       "        hud_id                             project            proj_add  \\\n",
       "0  AKA0000X003               EAGLE RIDGE TOWNHOMES    1775 NORTH THUMA   \n",
       "1  AKA0000X018  GATEWAY-SEWARD ASSOCIATES, LTD PTN   1810 PHOENIX ROAD   \n",
       "2  AKA0000X022      JUNEAU AFFORDABLE RENTALS, LLC      SCATTERED SITE   \n",
       "3  AKA0000X024             MILL BAY TOWNHOMES, LLC  1223 MILL BAY ROAD   \n",
       "4  AKA0000X030                TURNAGAIN PLACE APTS       2708 COHO WAY   \n",
       "\n",
       "    proj_cty proj_st proj_zip  state_id  latitude  longitude  place1990  ...  \\\n",
       "0     PALMER      AK    99645  AK-05-23        61       -149          0  ...   \n",
       "1     SEWARD      AK    99664  AK-99-99        60       -149          0  ...   \n",
       "2     JUNEAU      AK    99801  AK-99-99        58       -134          0  ...   \n",
       "3     KODIAK      AK    99615  AK-99-99        57       -152          0  ...   \n",
       "4  ANCHORAGE      AK    99517  AK-99-99        61       -149          0  ...   \n",
       "\n",
       "   n_unitsr  li_unitr                   metro         dda   qct  nonprog  \\\n",
       "0        33        33  Metro/Non-Central City  Not in DDA  None       No   \n",
       "1        20        20                    None  Not in DDA  None       No   \n",
       "2        25        25                    None  Not in DDA  None       No   \n",
       "3        20        20                    None  Not in DDA  None       No   \n",
       "4        29        29                    None  Not in DDA  None       No   \n",
       "\n",
       "   nlm_reason nlm_spc datanote  record_stat  \n",
       "0        None     NaN      NaN     Existing  \n",
       "1        None     NaN      NaN     Existing  \n",
       "2        None     NaN      NaN      Updated  \n",
       "3        None     NaN      NaN     Existing  \n",
       "4        None     NaN      NaN      Updated  \n",
       "\n",
       "[5 rows x 75 columns]"
      ]
     },
     "execution_count": 825,
     "metadata": {},
     "output_type": "execute_result"
    }
   ],
   "source": [
    "df.head()"
   ]
  },
  {
   "cell_type": "markdown",
   "metadata": {},
   "source": [
    "# Feature Engineering"
   ]
  },
  {
   "cell_type": "code",
   "execution_count": 826,
   "metadata": {
    "collapsed": true
   },
   "outputs": [],
   "source": [
    "# try:\n",
    "#   df['ratio_of_li_units'] = df['li_units'] / df['n_units'] \n",
    "# except ZeroDivisionError:\n",
    "#   df['ratio_of_li_units'] = 0"
   ]
  },
  {
   "cell_type": "code",
   "execution_count": 827,
   "metadata": {
    "collapsed": true
   },
   "outputs": [],
   "source": [
    "\n",
    "# try:\n",
    "#   df['ratio_of_0br_units'] = df['n_0br'] / df['n_units'] \n",
    "# except ZeroDivisionError:\n",
    "#   df['ratio_of_0br_units'] = 0\n",
    "\n",
    "# try:\n",
    "#   df['ratio_of_1br_units'] = df['n_1br'] / df['n_units'] \n",
    "# except ZeroDivisionError:\n",
    "#   df['ratio_of_1br_units'] = 0\n",
    "\n",
    "# try:\n",
    "#   df['ratio_of_2br_units'] = df['n_2br'] / df['n_units'] \n",
    "# except ZeroDivisionError:\n",
    "#   df['ratio_of_2br_units'] = 0\n",
    "\n",
    "# try:\n",
    "#   df['ratio_of_3br_units'] = df['n_3br'] / df['n_units'] \n",
    "# except ZeroDivisionError:\n",
    "#   df['ratio_of_3br_units'] = 0\n",
    "\n",
    "# try:\n",
    "#   df['ratio_of_4br_units'] = df['n_4br'] / df['n_units'] \n",
    "# except ZeroDivisionError:\n",
    "#   df['ratio_of_4br_units'] = 0"
   ]
  },
  {
   "cell_type": "code",
   "execution_count": 828,
   "metadata": {
    "scrolled": true
   },
   "outputs": [],
   "source": [
    "# df['log_of_n_units'] = np.log(df['n_units'])"
   ]
  },
  {
   "cell_type": "markdown",
   "metadata": {},
   "source": [
    "# Exploratory Data Analysis"
   ]
  },
  {
   "cell_type": "code",
   "execution_count": 829,
   "metadata": {
    "scrolled": true
   },
   "outputs": [
    {
     "data": {
      "image/png": "[encoded data removed]",
      "text/plain": [
       "<Figure size 1440x1080 with 30 Axes>"
      ]
     },
     "metadata": {},
     "output_type": "display_data"
    }
   ],
   "source": [
    "df.hist(bins=50, figsize=(20,15))\n",
    "plt.show()"
   ]
  },
  {
   "cell_type": "code",
   "execution_count": 830,
   "metadata": {
    "scrolled": false
   },
   "outputs": [
    {
     "data": {
      "image/png": "[encoded data removed]",
      "text/plain": [
       "<Figure size 1080x720 with 2 Axes>"
      ]
     },
     "metadata": {},
     "output_type": "display_data"
    }
   ],
   "source": [
    "corr = df.corr()\n",
    "mask = np.triu(np.ones_like(corr, dtype=bool))\n",
    "f, ax = plt.subplots(figsize=(15, 10))\n",
    "g = sns.heatmap(corr, mask=mask, cmap=\"YlGnBu\", center=0, square=True, linewidths=.5,\n",
    "            cbar_kws={\"shrink\": 0.6}).set_title('Pairwise correlation')"
   ]
  },
  {
   "cell_type": "code",
   "execution_count": 831,
   "metadata": {
    "scrolled": true
   },
   "outputs": [
    {
     "data": {
      "text/plain": [
       "<AxesSubplot:>"
      ]
     },
     "execution_count": 831,
     "metadata": {},
     "output_type": "execute_result"
    },
    {
     "data": {
      "image/png": "[encoded data removed]",
      "text/plain": [
       "<Figure size 432x288 with 1 Axes>"
      ]
     },
     "metadata": {},
     "output_type": "display_data"
    }
   ],
   "source": [
    "df.n_units.hist(bins=50)"
   ]
  },
  {
   "cell_type": "code",
   "execution_count": 832,
   "metadata": {},
   "outputs": [
    {
     "data": {
      "text/plain": [
       "<AxesSubplot:>"
      ]
     },
     "execution_count": 832,
     "metadata": {},
     "output_type": "execute_result"
    },
    {
     "data": {
      "image/png": "[encoded data removed]",
      "text/plain": [
       "<Figure size 432x288 with 1 Axes>"
      ]
     },
     "metadata": {},
     "output_type": "display_data"
    }
   ],
   "source": [
    "df.n_0br.hist(bins=20)"
   ]
  },
  {
   "cell_type": "code",
   "execution_count": 833,
   "metadata": {},
   "outputs": [
    {
     "data": {
      "image/png": "[encoded data removed]",
      "text/plain": [
       "<Figure size 432x288 with 1 Axes>"
      ]
     },
     "metadata": {},
     "output_type": "display_data"
    }
   ],
   "source": [
    "boxplot = df.boxplot(column=['n_units','n_0br','n_1br','n_2br','n_3br','n_4br'])"
   ]
  },
  {
   "cell_type": "code",
   "execution_count": 834,
   "metadata": {},
   "outputs": [
    {
     "data": {
      "text/plain": [
       "<Figure size 720x432 with 0 Axes>"
      ]
     },
     "metadata": {},
     "output_type": "display_data"
    },
    {
     "data": {
      "image/png": "[encoded data removed]",
      "text/plain": [
       "<Figure size 1132x360 with 3 Axes>"
      ]
     },
     "metadata": {},
     "output_type": "display_data"
    }
   ],
   "source": [
    "plt.figure(figsize=(10,6))\n",
    "sns.lmplot(data=df, y='allocamt',x='n_units', hue=\"trgt_hml\",col=\"record_stat\")\n",
    "\n",
    "plt.show()"
   ]
  },
  {
   "cell_type": "code",
   "execution_count": 835,
   "metadata": {
    "scrolled": true
   },
   "outputs": [
    {
     "data": {
      "text/plain": [
       "<Figure size 720x432 with 0 Axes>"
      ]
     },
     "metadata": {},
     "output_type": "display_data"
    },
    {
     "data": {
      "image/png": "[encoded data removed]",
      "text/plain": [
       "<Figure size 1132x360 with 3 Axes>"
      ]
     },
     "metadata": {},
     "output_type": "display_data"
    }
   ],
   "source": [
    "plt.figure(figsize=(10,6))\n",
    "sns.lmplot(data=df, y='allocamt',x='n_units', hue=\"trgt_pop\",col=\"record_stat\")\n",
    "\n",
    "plt.show()"
   ]
  },
  {
   "cell_type": "code",
   "execution_count": 836,
   "metadata": {},
   "outputs": [
    {
     "data": {
      "text/plain": [
       "<Figure size 720x432 with 0 Axes>"
      ]
     },
     "metadata": {},
     "output_type": "display_data"
    },
    {
     "data": {
      "image/png": "[encoded data removed]",
      "text/plain": [
       "<Figure size 1132x360 with 3 Axes>"
      ]
     },
     "metadata": {},
     "output_type": "display_data"
    }
   ],
   "source": [
    "plt.figure(figsize=(10,6))\n",
    "sns.lmplot(data=df, y='allocamt',x='n_units', hue=\"trgt_dis\",col=\"record_stat\")\n",
    "\n",
    "plt.show()"
   ]
  },
  {
   "cell_type": "code",
   "execution_count": 837,
   "metadata": {},
   "outputs": [],
   "source": [
    "# add multiple filtering criteria\n",
    "ts_mask = df.where(df['yr_alloc'] < 3000)\n",
    "ts_mask = ts_mask.where(df['yr_alloc'] > 1000)"
   ]
  },
  {
   "cell_type": "code",
   "execution_count": 838,
   "metadata": {
    "scrolled": true
   },
   "outputs": [
    {
     "data": {
      "image/png": "[encoded data removed]",
      "text/plain": [
       "<Figure size 720x432 with 1 Axes>"
      ]
     },
     "metadata": {},
     "output_type": "display_data"
    }
   ],
   "source": [
    "plt.figure(figsize=(10,6))\n",
    "sns.lineplot(data=ts_mask, x=\"yr_alloc\", y=\"n_units\")\n",
    "\n",
    "plt.show()"
   ]
  }
 ],
 "metadata": {
  "kernelspec": {
   "display_name": "Python 3",
   "language": "python",
   "name": "python3"
  },
  "language_info": {
   "codemirror_mode": {
    "name": "ipython",
    "version": 3
   },
   "file_extension": ".py",
   "mimetype": "text/x-python",
   "name": "python",
   "nbconvert_exporter": "python",
   "pygments_lexer": "ipython3",
   "version": "3.6.1"
  }
 },
 "nbformat": 4,
 "nbformat_minor": 2
}
