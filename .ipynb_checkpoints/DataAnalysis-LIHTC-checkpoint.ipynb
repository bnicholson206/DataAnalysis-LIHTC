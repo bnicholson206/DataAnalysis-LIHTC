{
 "cells": [
  {
   "cell_type": "markdown",
   "metadata": {},
   "source": [
    "![lihtc](https://camo.githubusercontent.com/af8ed0a0f65baaa8c90afabbd29e8b1fbc19b48fcf63b86028d5143a0d22acb9/68747470733a2f2f7777772e696864612e6f72672f77702d636f6e74656e742f75706c6f6164732f323031352f30382f494844412d4c6f772d496e636f6d652d5461782d4372656469742d30322d332e6a7067)"
   ]
  },
  {
   "cell_type": "markdown",
   "metadata": {},
   "source": [
    "# What is the Low Income Housing Tax Credit?"
   ]
  },
  {
   "cell_type": "markdown",
   "metadata": {},
   "source": [
    "#### Sources:\n",
    "\n",
    "- [Wikipedia article](https://en.wikipedia.org/wiki/Low-Income_Housing_Tax_Credit)\n",
    "- [Tax Reform Act of 1986](https://en.wikipedia.org/wiki/Tax_Reform_Act_of_1986)\n",
    "- [NYT - Opinion: A Tax Credit Worth Preserving](https://www.nytimes.com/2012/12/21/opinion/a-tax-credit-worth-preserving.html?_r=0)\n",
    "- [Tax Policy Center: What is the Low-Income Housing Tax Credit and how does it work?](https://www.taxpolicycenter.org/briefing-book/what-low-income-housing-tax-credit-and-how-does-it-work)\n",
    "- [Office Of Policy Development And Research (PD&R): Low-Income Housing Tax Credit LIHTC](https://www.huduser.gov/PORTAL/datasets/lihtc.html)\n",
    "- [Urban Institute: The Low-Income Housing Tax Credit](https://www.urban.org/sites/default/files/publication/98761/lithc_past_achievements_future_challenges_final_0.pdf)\n",
    "- [Omnibus Consolidations Appropriations Act of 2018](https://en.wikipedia.org/wiki/Consolidated_Appropriations_Act,_2018)\n",
    "- [Senate Bill 548](https://www.congress.gov/bill/115th-congress/senate-bill/548)"
   ]
  },
  {
   "cell_type": "markdown",
   "metadata": {},
   "source": [
    "As the maximum rent that can be charged is based upon the Area Median Income (\"AMI\"), LIHTC housing remains unaffordable to many low-income (<30% AMI) renters.\n",
    "\n",
    "The tax credits are more attractive than tax deductions as the credits provide a dollar-for-dollar reduction in a taxpayers federal income tax, whereas a tax deduction only provides a reduction in taxable income."
   ]
  },
  {
   "cell_type": "markdown",
   "metadata": {},
   "source": [
    "How it works\n",
    "\n",
    "The LIHTC provides funding for the development costs of low-income housing by allowing an investor (usually the partners of a partnership that owns the housing) to take a federal tax credit equal to a percentage (either 4% or 9%, for 10 years, depending on the credit type) of the cost incurred for development of the low-income units in a rental housing project.\n",
    "\n",
    "To take advantage of the LIHTC, a developer will either (i) propose a project to a state agency, seek and win a competitive allocation of tax credits, or (ii) obtain approval and issuance of tax-exempt bonds to finance at least 50% of project cost, and then complete the project, certify its cost, and rent-up the project to low income tenants. Simultaneously, an investor will be found that will make a capital contribution to the partnership or limited liability company that owns the project in exchange for being allocated the entity's LIHTCs over a ten-year period. The amount of the credit will be based on (i) the amount of credits awarded to the project in the competition, (ii) the actual cost of the project, (iii) the tax credit rate announced by the IRS, and (iv) the percentage of the project's units that are rented to low-income tenants. Failure to comply with the applicable rules, or a sale of the project or an ownership interest before the end of at least a 15-year period, can lead to recapture of credits previously taken, as well as the inability to take future credits. These rules are described in greater detail below."
   ]
  },
  {
   "cell_type": "markdown",
   "metadata": {},
   "source": [
    "### What is the objective of this project? \n",
    "\n",
    "The objective for this project is to explore the LIHTC dataset, get a better understanding of the program, and build a regressor to predict what the allocated amount for a project ought to be based off of various features in the dataset.\n",
    "\n",
    "We also might build a classifier to determine if a particular project qualifies for certain binary criteria. This depends on the quality of the data.\n",
    "\n"
   ]
  },
  {
   "cell_type": "markdown",
   "metadata": {},
   "source": [
    "### How should the problem be framed? \n",
    "\n",
    "We should use a regression algorithm as we are looking to predict whether amount allocated to a particular area."
   ]
  },
  {
   "cell_type": "markdown",
   "metadata": {},
   "source": [
    "# Initialize Packages"
   ]
  },
  {
   "cell_type": "code",
   "execution_count": null,
   "metadata": {
    "collapsed": true
   },
   "outputs": [],
   "source": [
    "import pandas as pd\n",
    "import numpy as np\n",
    "\n",
    "import matplotlib.pyplot as plt\n",
    "%matplotlib inline\n",
    "import seaborn as sns"
   ]
  },
  {
   "cell_type": "markdown",
   "metadata": {},
   "source": [
    "# Load data"
   ]
  },
  {
   "cell_type": "code",
   "execution_count": null,
   "metadata": {
    "collapsed": true
   },
   "outputs": [],
   "source": [
    "pd.set_option('display.max_rows', 20)"
   ]
  },
  {
   "cell_type": "code",
   "execution_count": null,
   "metadata": {
    "collapsed": true
   },
   "outputs": [],
   "source": [
    "pathname = '/Users/blakenicholson/Documents/Personal/Coding/DataAnalysis-LIHTC/LIHTCPUB.CSV'"
   ]
  },
  {
   "cell_type": "code",
   "execution_count": null,
   "metadata": {
    "collapsed": true
   },
   "outputs": [],
   "source": [
    "df = pd.read_csv(pathname, low_memory=False)"
   ]
  },
  {
   "cell_type": "code",
   "execution_count": null,
   "metadata": {},
   "outputs": [],
   "source": [
    "df.shape"
   ]
  },
  {
   "cell_type": "code",
   "execution_count": null,
   "metadata": {},
   "outputs": [],
   "source": [
    "df.columns"
   ]
  },
  {
   "cell_type": "markdown",
   "metadata": {},
   "source": [
    "Let's check out the first few rows."
   ]
  },
  {
   "cell_type": "code",
   "execution_count": null,
   "metadata": {
    "scrolled": true
   },
   "outputs": [],
   "source": [
    "df.head()"
   ]
  },
  {
   "cell_type": "code",
   "execution_count": null,
   "metadata": {
    "scrolled": false
   },
   "outputs": [],
   "source": [
    "df[0:4].T"
   ]
  },
  {
   "cell_type": "code",
   "execution_count": null,
   "metadata": {
    "scrolled": true
   },
   "outputs": [],
   "source": [
    "df.describe().T"
   ]
  },
  {
   "cell_type": "code",
   "execution_count": null,
   "metadata": {
    "scrolled": false
   },
   "outputs": [],
   "source": [
    "df.info()"
   ]
  },
  {
   "cell_type": "markdown",
   "metadata": {},
   "source": [
    "# Data Exploration"
   ]
  },
  {
   "cell_type": "markdown",
   "metadata": {},
   "source": [
    "- Variable Identification\n",
    "- Univariate Analysis\n",
    "- Bi-variate Analysis\n",
    "- Missing values treatment\n",
    "- Outlier treatment\n",
    "- Variable transformation\n",
    "- Variable creation"
   ]
  },
  {
   "cell_type": "markdown",
   "metadata": {},
   "source": [
    "# Data Cleaning"
   ]
  },
  {
   "cell_type": "markdown",
   "metadata": {},
   "source": [
    "using data dictionary found here: https://github.com/bnicholson206/DataAnalysis-LIHTC/blob/main/LIHTC%20Data%20Dictionary%202019.pdf"
   ]
  },
  {
   "cell_type": "markdown",
   "metadata": {},
   "source": [
    "We have a fair amount of NaN values in the dataset."
   ]
  },
  {
   "cell_type": "code",
   "execution_count": null,
   "metadata": {},
   "outputs": [],
   "source": [
    "df.isnull().any()"
   ]
  },
  {
   "cell_type": "markdown",
   "metadata": {},
   "source": [
    "First, identify Predictor (Input) and Target (output) variables. Next, identify the data type and category of the variables."
   ]
  },
  {
   "cell_type": "markdown",
   "metadata": {},
   "source": [
    "Predictors = All Columns\n",
    "\n",
    "Target = Allocamt"
   ]
  },
  {
   "cell_type": "markdown",
   "metadata": {},
   "source": [
    "Convert all floats to Integers"
   ]
  },
  {
   "cell_type": "code",
   "execution_count": null,
   "metadata": {
    "collapsed": true
   },
   "outputs": [],
   "source": [
    "df_num = df.select_dtypes(include='float')\n",
    "# df_num.drop(columns=['latitude','longitude'])"
   ]
  },
  {
   "cell_type": "code",
   "execution_count": null,
   "metadata": {
    "scrolled": false
   },
   "outputs": [],
   "source": [
    "df_num.head()"
   ]
  },
  {
   "cell_type": "markdown",
   "metadata": {},
   "source": [
    "#### Fill in NaN values"
   ]
  },
  {
   "cell_type": "code",
   "execution_count": null,
   "metadata": {
    "collapsed": true
   },
   "outputs": [],
   "source": [
    "# fill all NaN values and change data type to 'int'\n",
    "\n",
    "df[df_num.columns] = df[df_num.columns].fillna(0)\n",
    "df[df_num.columns] = df[df_num.columns].astype('int')"
   ]
  },
  {
   "cell_type": "markdown",
   "metadata": {},
   "source": [
    "#### Convert all discrete numbers into discrete categories"
   ]
  },
  {
   "cell_type": "code",
   "execution_count": null,
   "metadata": {
    "collapsed": true
   },
   "outputs": [],
   "source": [
    "# convert all discrete numbers into discrete categories\n",
    "\n",
    "def scattered_site_cd_numttocat(number): # Scattered Sity Property\n",
    "    if number is 1:\n",
    "        return 'Yes'\n",
    "    elif number is 2:\n",
    "        return 'No'\n",
    "    \n",
    "def resyndication_cd_numttocat(number): # Resyndicated Property\n",
    "    if number is 1:\n",
    "        return 'Yes'\n",
    "    elif number is 2:\n",
    "        return 'No'\n",
    "    \n",
    "def Non_Profit_numttocat(number): # Non profit sponsor\n",
    "    if number is 1:\n",
    "        return 'Yes'\n",
    "    elif number is 2:\n",
    "        return 'No'\n",
    "    \n",
    "def nonprog_numttocat(number): # Non profit sponsor\n",
    "    if number is 1:\n",
    "        return 'Yes'\n",
    "    elif number is 2:\n",
    "        return 'No'\n",
    "    else:\n",
    "        return 'No'\n",
    "    \n",
    "def Basis_Profit_numttocat(number): # Increase in eligible basis\n",
    "    if number is 1:\n",
    "        return 'Yes'\n",
    "    elif number is 2:\n",
    "        return 'No'\n",
    "    \n",
    "def Bond_Profit_numttocat(number): # Tax-exempt bond received\n",
    "    if number is 1:\n",
    "        return 'Yes'\n",
    "    elif number is 2:\n",
    "        return 'No'\n",
    "    \n",
    "def Home_numttocat(number): # HOME Investment Partnership Program Funds\n",
    "    if number is 1:\n",
    "        return 'Yes'\n",
    "    elif number is 2:\n",
    "        return 'No'\n",
    "    \n",
    "def Mrr_ra_Profit_numttocat(number): # HUD Multi-Family financial/rental assistance\n",
    "    if number is 1:\n",
    "        return 'Yes'\n",
    "    elif number is 2:\n",
    "        return 'No'\n",
    "    \n",
    "def fmha_514_numttocat(number): # FmHA (RHS) Section 514 Loan\n",
    "    if number is 1:\n",
    "        return 'Yes'\n",
    "    elif number is 2:\n",
    "        return 'No'\n",
    "    \n",
    "def fmha_515_numttocat(number): # FmHA (RHS) Section 515 Loan\n",
    "    if number is 1:\n",
    "        return 'Yes'\n",
    "    elif number is 2:\n",
    "        return 'No'\n",
    "    \n",
    "def fmha_538_numttocat(number): # FmHA (RHS) Section 515 Loan\n",
    "    if number is 1:\n",
    "        return 'Yes'\n",
    "    elif number is 2:\n",
    "        return 'No'\n",
    "    \n",
    "def rad_numttocat(number): # Housing Trust Fund funds\n",
    "    if number is 1:\n",
    "        return 'Yes'\n",
    "    elif number is 2:\n",
    "        return 'No'\n",
    "    \n",
    "def htf_numttocat(number): # Housing Trust Fund funds\n",
    "    if number is 1:\n",
    "        return 'Yes'\n",
    "    elif number is 2:\n",
    "        return 'No'\n",
    "    \n",
    "def hopevi_numttocat(number): # Forms part of a HOPEVI development\n",
    "    if number is 1:\n",
    "        return 'Yes'\n",
    "    elif number is 2:\n",
    "        return 'No'\n",
    "    \n",
    "def tcep_numttocat(number): # Tax Credit Exchange Program (TCEP) funds\n",
    "    if number is 1:\n",
    "        return 'Yes'\n",
    "    elif number is 2:\n",
    "        return 'No'\n",
    "    \n",
    "def tcap_numttocat(number): # Tax Credit Assistance Program (TCEP) funds\n",
    "    if number is 1:\n",
    "        return 'Yes'\n",
    "    elif number is 2:\n",
    "        return 'No'\n",
    "    \n",
    "def fha_numttocat(number): #FHA-insured loan\n",
    "    if number is 1:\n",
    "        return 'Yes'\n",
    "    elif number is 2:\n",
    "        return 'No'\n",
    "    \n",
    "def cdbg_numttocat(number): # community development block grant (CDBG) funds\n",
    "    if number is 1:\n",
    "        return 'Yes'\n",
    "    elif number is 2:\n",
    "        return 'No'\n",
    "    \n",
    "def inc_ceil_numttocat(number): #Elected Rent/income ceiling for low income units\n",
    "    if number is 1:\n",
    "        return '50% AMGI'\n",
    "    elif number is 2:\n",
    "        return '60% AMGI'\n",
    "    elif number is 3:\n",
    "        return 'Not Reported'\n",
    "    \n",
    "def Low_ceil_numttocat(number): # Units set aside with rents lower than elected rent/income ceiling\n",
    "    if number is 1:\n",
    "        return 'Yes'\n",
    "    elif number is 2:\n",
    "        return 'No'\n",
    "    \n",
    "def record_stat_numttocat(number): # Units set aside with rents lower than elected rent/income ceiling\n",
    "    if number is 'N':\n",
    "        return 'New'\n",
    "    elif number is 'U':\n",
    "        return 'Updated'\n",
    "    elif number is 'X':\n",
    "        return 'Existing'\n",
    "    \n",
    "def Rentassist_stat_numttocat(number): # Federal or state project-based rental assistance contract\n",
    "    if number is 1:\n",
    "        return 'Federal'\n",
    "    elif number is 2:\n",
    "        return 'State'\n",
    "    elif number is 3:\n",
    "        return 'Both State and Federal'\n",
    "    elif number is 4:\n",
    "        return 'Neither'\n",
    "    elif number is 5:\n",
    "        return 'Unknown'\n",
    "    \n",
    "def Type_numttocat(number): # Federal or state project-based rental assistance contract\n",
    "    if number is 1:\n",
    "        return 'New Construction'\n",
    "    elif number is 2:\n",
    "        return 'Acquisition and Rehab'\n",
    "    elif number is 3:\n",
    "        return 'Both new construction and A/R'\n",
    "    elif number is 4:\n",
    "        return 'Existing'\n",
    "    \n",
    "def Credit_numttocat(number): # Type of credit percentage\n",
    "    if number is 1:\n",
    "        return '30% present value'\n",
    "    elif number is 2:\n",
    "        return '70% present value'\n",
    "    elif number is 3:\n",
    "        return 'Both'\n",
    "    elif number is 4:\n",
    "        return 'TCEP Only'\n",
    "    \n",
    "def dda_numttocat(number): # Is the census tract in a difficult development area?\n",
    "    if number is 0:\n",
    "        return 'Not in DDA'\n",
    "    elif number is 1:\n",
    "        return 'In Metro DDA'\n",
    "    elif number is 2:\n",
    "        return 'In Non-Metro DDA'\n",
    "    elif number is 3:\n",
    "        return 'In Metro GO Zone DDA'\n",
    "    elif number is 4:\n",
    "        return 'In Non-Metro GO Zone DDA'\n",
    "    \n",
    "def metro_numttocat(number): # Is the census tract metro or non-metro at the time the property was placed into service?\n",
    "    if number is 1:\n",
    "        return 'Metro/Non-Central City'\n",
    "    elif number is 2:\n",
    "        return 'Metro/Central City'\n",
    "    elif number is 3:\n",
    "        return 'Non-Metro'\n",
    "    \n",
    "def nlm_reason_numttocat(number): # Reason property is no longer monitored for LIHTC\n",
    "    if number is 1:\n",
    "        return 'Completed Extended-Use Period'\n",
    "    elif number is 2:\n",
    "        return 'Sale under Qualified Contract'\n",
    "    elif number is 3:\n",
    "        return 'Other'\n",
    "    \n",
    "def qct_numttocat(number): # Is the census tract a qualified census tract?\n",
    "    if number is 1:\n",
    "        return 'In a Qualified Census Tract'\n",
    "    elif number is 2:\n",
    "        return 'Not In a Qualified Census Tract'\n",
    "    \n",
    "def qozf_numttocat(number): # Qualified Opportunity Zone Fund\n",
    "    if number is 1:\n",
    "        return 'Yes'\n",
    "    elif number is 2:\n",
    "        return 'No'\n",
    "    \n",
    "def trgt_pop_numttocat(number): # Targets a specific population with specified services or facilities\n",
    "    if number is 1:\n",
    "        return 'Yes'\n",
    "    elif number is 2:\n",
    "        return 'No'\n",
    "    \n",
    "def trgt_fam_numttocat(number): # Targets a specific population - families\n",
    "    if number is 1:\n",
    "        return 'Yes'\n",
    "    elif number is 2:\n",
    "        return 'No'\n",
    "    \n",
    "def trgt_eld_numttocat(number): # Targets a specific population - elderly\n",
    "    if number is 1:\n",
    "        return 'Yes'\n",
    "    elif number is 2:\n",
    "        return 'No'\n",
    "    \n",
    "def trgt_dis_numttocat(number): # Targets a specific population - disabled\n",
    "    if number is 1:\n",
    "        return 'Yes'\n",
    "    elif number is 2:\n",
    "        return 'No'\n",
    "    \n",
    "def trgt_hml_numttocat(number): # Targets a specific population - homeless\n",
    "    if number is 1:\n",
    "        return 'Yes'\n",
    "    elif number is 2:\n",
    "        return 'No'\n",
    "    \n",
    "def trgt_other_numttocat(number): # Targets a specific population - other\n",
    "    if number is 1:\n",
    "        return 'Yes'\n",
    "    elif number is 2:\n",
    "        return 'No'"
   ]
  },
  {
   "cell_type": "code",
   "execution_count": null,
   "metadata": {
    "collapsed": true
   },
   "outputs": [],
   "source": [
    "df[\"scattered_site_cd\"] = df[\"scattered_site_cd\"].map(scattered_site_cd_numttocat)\n",
    "df[\"resyndication_cd\"] = df[\"resyndication_cd\"].map(resyndication_cd_numttocat)\n",
    "df[\"inc_ceil\"] = df[\"inc_ceil\"].map(inc_ceil_numttocat)\n",
    "df[\"low_ceil\"] = df[\"low_ceil\"].map(Low_ceil_numttocat)\n",
    "df[\"record_stat\"] = df[\"record_stat\"].map(record_stat_numttocat)\n",
    "df[\"non_prof\"] = df[\"non_prof\"].map(Non_Profit_numttocat)\n",
    "df[\"basis\"] = df[\"basis\"].map(Basis_Profit_numttocat)\n",
    "df[\"bond\"] = df[\"bond\"].map(Bond_Profit_numttocat)\n",
    "df[\"mff_ra\"] = df[\"mff_ra\"].map(Mrr_ra_Profit_numttocat)\n",
    "df[\"fmha_514\"] = df[\"fmha_514\"].map(fmha_514_numttocat)\n",
    "df[\"fmha_515\"] = df[\"fmha_515\"].map(fmha_515_numttocat)\n",
    "df[\"fmha_538\"] = df[\"fmha_538\"].map(fmha_538_numttocat)\n",
    "df[\"home\"] = df[\"home\"].map(Home_numttocat)\n",
    "df[\"rentassist\"] = df[\"rentassist\"].map(Rentassist_stat_numttocat)\n",
    "df[\"type\"] = df[\"type\"].map(Type_numttocat)\n",
    "df[\"credit\"] = df[\"credit\"].map(Credit_numttocat)\n",
    "df[\"dda\"] = df[\"dda\"].map(dda_numttocat)\n",
    "df[\"metro\"] = df[\"metro\"].map(metro_numttocat)\n",
    "df[\"nlm_reason\"] = df[\"nlm_reason\"].map(nlm_reason_numttocat)\n",
    "df[\"tcap\"] = df[\"tcap\"].map(tcap_numttocat)\n",
    "df[\"cdbg\"] = df[\"cdbg\"].map(cdbg_numttocat)\n",
    "df[\"htf\"] = df[\"htf\"].map(htf_numttocat)\n",
    "df[\"hopevi\"] = df[\"hopevi\"].map(hopevi_numttocat)\n",
    "df[\"fha\"] = df[\"fha\"].map(fha_numttocat)\n",
    "df[\"tcep\"] = df[\"tcep\"].map(tcep_numttocat)\n",
    "df[\"rad\"] = df[\"rad\"].map(rad_numttocat)\n",
    "df[\"nonprog\"] = df[\"nonprog\"].map(nonprog_numttocat)\n",
    "df[\"qct\"] = df[\"qct\"].map(qct_numttocat)\n",
    "df[\"qozf\"] = df[\"qozf\"].map(qozf_numttocat)\n",
    "df[\"trgt_pop\"] = df[\"trgt_pop\"].map(trgt_pop_numttocat)\n",
    "df[\"trgt_fam\"] = df[\"trgt_fam\"].map(trgt_fam_numttocat)\n",
    "df[\"trgt_eld\"] = df[\"trgt_eld\"].map(trgt_eld_numttocat)\n",
    "df[\"trgt_hml\"] = df[\"trgt_hml\"].map(trgt_hml_numttocat)\n",
    "df[\"trgt_dis\"] = df[\"trgt_dis\"].map(trgt_hml_numttocat)\n",
    "df[\"trgt_other\"] = df[\"trgt_other\"].map(trgt_other_numttocat)"
   ]
  },
  {
   "cell_type": "code",
   "execution_count": null,
   "metadata": {
    "collapsed": true
   },
   "outputs": [],
   "source": [
    "df.to_csv(\"LIHTCPUB_cleaned.csv\", index_label=\"ID\")"
   ]
  },
  {
   "cell_type": "code",
   "execution_count": null,
   "metadata": {},
   "outputs": [],
   "source": [
    "df.head()"
   ]
  },
  {
   "cell_type": "markdown",
   "metadata": {},
   "source": [
    "# Feature Engineering"
   ]
  },
  {
   "cell_type": "code",
   "execution_count": null,
   "metadata": {
    "collapsed": true
   },
   "outputs": [],
   "source": [
    "# try:\n",
    "#   df['ratio_of_li_units'] = df['li_units'] / df['n_units'] \n",
    "# except ZeroDivisionError:\n",
    "#   df['ratio_of_li_units'] = 0"
   ]
  },
  {
   "cell_type": "code",
   "execution_count": null,
   "metadata": {
    "collapsed": true
   },
   "outputs": [],
   "source": [
    "\n",
    "# try:\n",
    "#   df['ratio_of_0br_units'] = df['n_0br'] / df['n_units'] \n",
    "# except ZeroDivisionError:\n",
    "#   df['ratio_of_0br_units'] = 0\n",
    "\n",
    "# try:\n",
    "#   df['ratio_of_1br_units'] = df['n_1br'] / df['n_units'] \n",
    "# except ZeroDivisionError:\n",
    "#   df['ratio_of_1br_units'] = 0\n",
    "\n",
    "# try:\n",
    "#   df['ratio_of_2br_units'] = df['n_2br'] / df['n_units'] \n",
    "# except ZeroDivisionError:\n",
    "#   df['ratio_of_2br_units'] = 0\n",
    "\n",
    "# try:\n",
    "#   df['ratio_of_3br_units'] = df['n_3br'] / df['n_units'] \n",
    "# except ZeroDivisionError:\n",
    "#   df['ratio_of_3br_units'] = 0\n",
    "\n",
    "# try:\n",
    "#   df['ratio_of_4br_units'] = df['n_4br'] / df['n_units'] \n",
    "# except ZeroDivisionError:\n",
    "#   df['ratio_of_4br_units'] = 0"
   ]
  },
  {
   "cell_type": "code",
   "execution_count": null,
   "metadata": {
    "collapsed": true,
    "scrolled": true
   },
   "outputs": [],
   "source": [
    "# df['log_of_n_units'] = np.log(df['n_units'])"
   ]
  },
  {
   "cell_type": "markdown",
   "metadata": {},
   "source": [
    "# Exploratory Data Analysis"
   ]
  },
  {
   "cell_type": "code",
   "execution_count": null,
   "metadata": {
    "scrolled": true
   },
   "outputs": [],
   "source": [
    "df.hist(bins=50, figsize=(20,15))\n",
    "plt.show()"
   ]
  },
  {
   "cell_type": "code",
   "execution_count": null,
   "metadata": {
    "scrolled": false
   },
   "outputs": [],
   "source": [
    "corr = df.corr()\n",
    "mask = np.triu(np.ones_like(corr, dtype=bool))\n",
    "f, ax = plt.subplots(figsize=(15, 10))\n",
    "g = sns.heatmap(corr, mask=mask, cmap=\"YlGnBu\", center=0, square=True, linewidths=.5,\n",
    "            cbar_kws={\"shrink\": 0.6}).set_title('Pairwise correlation')"
   ]
  },
  {
   "cell_type": "code",
   "execution_count": null,
   "metadata": {
    "scrolled": true
   },
   "outputs": [],
   "source": [
    "df.n_units.hist(bins=50)"
   ]
  },
  {
   "cell_type": "code",
   "execution_count": null,
   "metadata": {},
   "outputs": [],
   "source": [
    "df.n_0br.hist(bins=20)"
   ]
  },
  {
   "cell_type": "code",
   "execution_count": null,
   "metadata": {},
   "outputs": [],
   "source": [
    "boxplot = df.boxplot(column=['n_units','n_0br','n_1br','n_2br','n_3br','n_4br'])"
   ]
  },
  {
   "cell_type": "code",
   "execution_count": null,
   "metadata": {},
   "outputs": [],
   "source": [
    "plt.figure(figsize=(10,6))\n",
    "sns.lmplot(data=df, y='allocamt',x='n_units', hue=\"trgt_hml\",col=\"record_stat\")\n",
    "\n",
    "plt.show()"
   ]
  },
  {
   "cell_type": "code",
   "execution_count": null,
   "metadata": {
    "scrolled": true
   },
   "outputs": [],
   "source": [
    "plt.figure(figsize=(10,6))\n",
    "sns.lmplot(data=df, y='allocamt',x='n_units', hue=\"trgt_pop\",col=\"record_stat\")\n",
    "\n",
    "plt.show()"
   ]
  },
  {
   "cell_type": "code",
   "execution_count": null,
   "metadata": {},
   "outputs": [],
   "source": [
    "plt.figure(figsize=(10,6))\n",
    "sns.lmplot(data=df, y='allocamt',x='n_units', hue=\"trgt_dis\",col=\"record_stat\")\n",
    "\n",
    "plt.show()"
   ]
  },
  {
   "cell_type": "code",
   "execution_count": null,
   "metadata": {
    "collapsed": true
   },
   "outputs": [],
   "source": [
    "# add multiple filtering criteria\n",
    "ts_mask = df.where(df['yr_alloc'] < 3000)\n",
    "ts_mask = ts_mask.where(df['yr_alloc'] > 1000)"
   ]
  },
  {
   "cell_type": "code",
   "execution_count": null,
   "metadata": {
    "scrolled": true
   },
   "outputs": [],
   "source": [
    "plt.figure(figsize=(10,6))\n",
    "sns.lineplot(data=ts_mask, x=\"yr_alloc\", y=\"allocamt\")\n",
    "\n",
    "plt.show()"
   ]
  },
  {
   "cell_type": "code",
   "execution_count": null,
   "metadata": {
    "scrolled": true
   },
   "outputs": [],
   "source": [
    "plt.figure(figsize=(10,6))\n",
    "sns.lineplot(data=ts_mask, x=\"yr_alloc\", y=\"n_units\")\n",
    "\n",
    "plt.show()"
   ]
  },
  {
   "cell_type": "markdown",
   "metadata": {},
   "source": [
    "# Variable Selection and Identification"
   ]
  },
  {
   "cell_type": "code",
   "execution_count": null,
   "metadata": {
    "collapsed": true
   },
   "outputs": [],
   "source": [
    "X = df.drop('allocamt', axis = 1)\n",
    "y = df.loc[:,'allocamt']"
   ]
  },
  {
   "cell_type": "code",
   "execution_count": null,
   "metadata": {},
   "outputs": [],
   "source": [
    "X"
   ]
  },
  {
   "cell_type": "code",
   "execution_count": null,
   "metadata": {},
   "outputs": [],
   "source": [
    "y"
   ]
  },
  {
   "cell_type": "code",
   "execution_count": null,
   "metadata": {
    "collapsed": true
   },
   "outputs": [],
   "source": [
    "from sklearn.preprocessing import LabelEncoder\n",
    "\n",
    "cat_features = X.columns[X.dtypes == object]\n",
    "# Label Encoding\n",
    "for f in cat_features:\n",
    "    lbl = LabelEncoder()\n",
    "    lbl.fit(list(X[f].values))\n",
    "    X[f] = lbl.transform(list(X[f].values))"
   ]
  },
  {
   "cell_type": "code",
   "execution_count": null,
   "metadata": {},
   "outputs": [],
   "source": [
    "X"
   ]
  },
  {
   "cell_type": "markdown",
   "metadata": {},
   "source": [
    "# Splitting Training / Test Data"
   ]
  },
  {
   "cell_type": "code",
   "execution_count": null,
   "metadata": {
    "collapsed": true
   },
   "outputs": [],
   "source": [
    "# from sklearn.preprocessing import StandardScaler\n",
    "from sklearn.model_selection import train_test_split\n",
    "\n",
    "# from scipy.misc import comb"
   ]
  },
  {
   "cell_type": "code",
   "execution_count": null,
   "metadata": {
    "collapsed": true
   },
   "outputs": [],
   "source": [
    "X_train, X_test, y_train, y_test = train_test_split(X, y, random_state=40)"
   ]
  },
  {
   "cell_type": "markdown",
   "metadata": {},
   "source": [
    "# Select and Train a Model"
   ]
  },
  {
   "cell_type": "code",
   "execution_count": null,
   "metadata": {},
   "outputs": [],
   "source": [
    "X_train.head()"
   ]
  },
  {
   "cell_type": "code",
   "execution_count": null,
   "metadata": {},
   "outputs": [],
   "source": [
    "y_train.head()"
   ]
  },
  {
   "cell_type": "code",
   "execution_count": null,
   "metadata": {
    "collapsed": true
   },
   "outputs": [],
   "source": [
    "from sklearn.metrics import mean_squared_error\n",
    "from sklearn.metrics import mean_absolute_error"
   ]
  },
  {
   "cell_type": "code",
   "execution_count": null,
   "metadata": {},
   "outputs": [],
   "source": [
    "from sklearn.linear_model import LinearRegression\n",
    "\n",
    "lin_reg = LinearRegression()\n",
    "lin_reg.fit(X_train,y_train)"
   ]
  },
  {
   "cell_type": "code",
   "execution_count": null,
   "metadata": {},
   "outputs": [],
   "source": [
    "j = 100\n",
    "some_sample = X.iloc[j,:]\n",
    "some_sample = pd.DataFrame(some_sample).T\n",
    "some_sample"
   ]
  },
  {
   "cell_type": "code",
   "execution_count": null,
   "metadata": {},
   "outputs": [],
   "source": [
    "lin_reg.predict(some_sample)"
   ]
  },
  {
   "cell_type": "code",
   "execution_count": null,
   "metadata": {},
   "outputs": [],
   "source": [
    "lin_reg.coef_"
   ]
  },
  {
   "cell_type": "code",
   "execution_count": null,
   "metadata": {},
   "outputs": [],
   "source": [
    "lin_reg.score(X_test,y_test)"
   ]
  },
  {
   "cell_type": "code",
   "execution_count": null,
   "metadata": {},
   "outputs": [],
   "source": [
    "predLinReg = lin_reg.predict(X_test)\n",
    "predLinReg"
   ]
  },
  {
   "cell_type": "code",
   "execution_count": null,
   "metadata": {},
   "outputs": [],
   "source": [
    "predLinReg.shape"
   ]
  },
  {
   "cell_type": "markdown",
   "metadata": {},
   "source": [
    "# Random Forest Regressor"
   ]
  },
  {
   "cell_type": "code",
   "execution_count": null,
   "metadata": {
    "collapsed": true
   },
   "outputs": [],
   "source": [
    "# from sklearn.model_selection import train_test_split\n",
    "\n",
    "# X_train, X_test, y_train, y_test = train_test_split(data, label, test_size=0.33, random_state=1)\n",
    "from sklearn.ensemble import RandomForestRegressor\n",
    "# Instantiate model with 1200 decision trees\n",
    "#nombre de feuille dans arbre   criterion:mean absolut error\n",
    "RandoForest = RandomForestRegressor( random_state = 0,n_estimators=700,criterion='mse')"
   ]
  },
  {
   "cell_type": "code",
   "execution_count": null,
   "metadata": {},
   "outputs": [],
   "source": [
    "RandoForest.fit(X_train,y_train)"
   ]
  },
  {
   "cell_type": "code",
   "execution_count": null,
   "metadata": {},
   "outputs": [],
   "source": [
    "RandoForest.predict(some_sample)"
   ]
  },
  {
   "cell_type": "code",
   "execution_count": null,
   "metadata": {},
   "outputs": [],
   "source": [
    "RandoForest.score(X_test,y_test)"
   ]
  },
  {
   "cell_type": "code",
   "execution_count": null,
   "metadata": {},
   "outputs": [],
   "source": [
    "RandoForest.feature_importances_"
   ]
  },
  {
   "cell_type": "code",
   "execution_count": null,
   "metadata": {},
   "outputs": [],
   "source": [
    " importances = pd.DataFrame({\"feature\": X_train.columns, \"importance\": RandoForest.feature_importances_})\n",
    " importances.sort_values(\"importance\", ascending=False)[:10]"
   ]
  },
  {
   "cell_type": "code",
   "execution_count": null,
   "metadata": {},
   "outputs": [],
   "source": [
    "sns.barplot(data=importances.sort_values(\"importance\", ascending=False).head(8), x=\"importance\", y=\"feature\")"
   ]
  },
  {
   "cell_type": "code",
   "execution_count": null,
   "metadata": {
    "collapsed": true
   },
   "outputs": [],
   "source": [
    "predForest = RandoForest.predict(X_test)"
   ]
  },
  {
   "cell_type": "code",
   "execution_count": null,
   "metadata": {},
   "outputs": [],
   "source": [
    "lin_mse_forest = mean_squared_error(y_test, predForest)\n",
    "lin_rmse_forest = np.sqrt(lin_mse_forest)\n",
    "lin_rmse_forest"
   ]
  },
  {
   "cell_type": "code",
   "execution_count": null,
   "metadata": {},
   "outputs": [],
   "source": [
    "lin_mae_forest = mean_absolute_error(y_test, predForest)\n",
    "lin_mae_forest"
   ]
  },
  {
   "cell_type": "code",
   "execution_count": null,
   "metadata": {},
   "outputs": [],
   "source": [
    "lin_mse_lin_reg = mean_squared_error(y_test, predLinReg) \n",
    "lin_rmse_lin_reg = np.sqrt(lin_mse_lin_reg)\n",
    "lin_rmse_lin_reg"
   ]
  },
  {
   "cell_type": "code",
   "execution_count": null,
   "metadata": {},
   "outputs": [],
   "source": [
    "lin_mae_lin_reg = mean_absolute_error(y_test, predLinReg)\n",
    "lin_mae_lin_reg"
   ]
  },
  {
   "cell_type": "code",
   "execution_count": null,
   "metadata": {
    "collapsed": true
   },
   "outputs": [],
   "source": []
  }
 ],
 "metadata": {
  "kernelspec": {
   "display_name": "Python 3",
   "language": "python",
   "name": "python3"
  },
  "language_info": {
   "codemirror_mode": {
    "name": "ipython",
    "version": 3
   },
   "file_extension": ".py",
   "mimetype": "text/x-python",
   "name": "python",
   "nbconvert_exporter": "python",
   "pygments_lexer": "ipython3",
   "version": "3.6.1"
  }
 },
 "nbformat": 4,
 "nbformat_minor": 2
}
